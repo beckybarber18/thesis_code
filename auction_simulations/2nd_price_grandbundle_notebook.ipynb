{
 "cells": [
  {
   "cell_type": "code",
   "execution_count": 128,
   "metadata": {},
   "outputs": [],
   "source": [
    "#-----------------------------------------------------------------------\n",
    "# 2nd_price_grandbundle.py\n",
    "# Author: Rebecca Barber\n",
    "# \n",
    "# 2nd price auction on grand bundle (2 items)\n",
    "#-----------------------------------------------------------------------\n",
    "\n",
    "import scipy.stats as st\n",
    "from statistics import *\n",
    "import matplotlib.pyplot as plt\n",
    "from sys import argv\n",
    "import numpy as np\n",
    "from math import *\n",
    "import pandas as pd\n",
    "from plotnine import *\n",
    "from random import * \n",
    "\n",
    "from IPython.core.interactiveshell import InteractiveShell\n",
    "InteractiveShell.ast_node_interactivity = \"all\""
   ]
  },
  {
   "cell_type": "markdown",
   "metadata": {},
   "source": [
    "## Useful Functions"
   ]
  },
  {
   "cell_type": "code",
   "execution_count": 5,
   "metadata": {},
   "outputs": [],
   "source": [
    "# draws value from ER curve\n",
    "def er_draw():\n",
    "\tq = random()\n",
    "\treturn 1/(1-q)\n",
    "\n",
    "# draws m values from the ER curve\n",
    "def draw_vals(m):\n",
    "\tvals = []\n",
    "\tfor i in range(m):\n",
    "\t\tdraw = er_draw()\n",
    "\t\tvals.append(draw)\n",
    "\treturn vals"
   ]
  },
  {
   "cell_type": "markdown",
   "metadata": {},
   "source": [
    "## Auction Revenue"
   ]
  },
  {
   "cell_type": "code",
   "execution_count": 76,
   "metadata": {},
   "outputs": [],
   "source": [
    "# generates revenue for 2nd price auction of grand bundle\n",
    "# given n bidders and m items\n",
    "# truncated at value T\n",
    "def auction_rev(n, m, T):\n",
    "\n",
    "\t# for each bidder, stores their value of the grand bundle\n",
    "\tbidder_bundle_vals = []\n",
    "\n",
    "\t# for each bidder, draw values for each item\n",
    "\tfor i in range(n):\n",
    "\t\tbundle_val = sum(draw_vals(m))\n",
    "\t\tbidder_bundle_vals.append(bundle_val)\n",
    "\n",
    "\t# sort the array\n",
    "\tbidder_bundle_vals = sorted(bidder_bundle_vals, reverse = True)\n",
    "\trev = float(bidder_bundle_vals[1])\n",
    "\n",
    "    # truncate the second highest value at T\n",
    "    # check that this is right?\n",
    "\ttruncated_rev = float(min(T, rev))\n",
    "\treturn rev, truncated_rev"
   ]
  },
  {
   "cell_type": "markdown",
   "metadata": {},
   "source": [
    "## Some auction rev testing\n",
    "Note that when $n = 100,$ $trials = 300,000,$ $T = 16n^2$, we don't truncate **any** revs <br>\n",
    "This means we should hardly ever be truncating <br>\n",
    "(we also checked that truncating works though, w/ smaller $n=20$)"
   ]
  },
  {
   "cell_type": "code",
   "execution_count": 56,
   "metadata": {},
   "outputs": [
    {
     "name": "stdout",
     "output_type": "stream",
     "text": [
      "trial 0\n",
      "trial 10000\n",
      "trial 20000\n",
      "trial 30000\n",
      "trial 40000\n",
      "trial 50000\n",
      "trial 60000\n",
      "trial 70000\n",
      "trial 80000\n",
      "trial 90000\n",
      "trial 100000\n",
      "trial 110000\n",
      "trial 120000\n",
      "trial 130000\n",
      "trial 140000\n",
      "trial 150000\n",
      "trial 160000\n",
      "trial 170000\n",
      "trial 180000\n",
      "trial 190000\n",
      "trial 200000\n",
      "trial 210000\n",
      "trial 220000\n",
      "trial 230000\n",
      "trial 240000\n",
      "trial 250000\n",
      "trial 260000\n",
      "trial 270000\n",
      "trial 280000\n",
      "trial 290000\n",
      "[265246]\n"
     ]
    }
   ],
   "source": [
    "n = 100\n",
    "m = 2\n",
    "T = 16 * np.power(n, 2)\n",
    "trials = 300000\n",
    "\n",
    "test_revs = []\n",
    "test_trevs = []\n",
    "test_truncated_trials = []\n",
    "\n",
    "print('trial', end = '')\n",
    "for i in range(trials):\n",
    "    if i % 10000 == 0: print('   ', i, end = '')\n",
    "    rev, trev = auction_rev(n,m,T)\n",
    "    test_revs.append(rev)\n",
    "    test_trevs.append(trev)\n",
    "    if rev != trev: test_truncated_trials.append(i)\n",
    "#     print('trial', i, 'rev:', rev)\n",
    "#     print('trial', i, 'trev:', truncated_rev)\n",
    "#     print('\\n')\n",
    "\n",
    "print('\\n')\n",
    "print(test_truncated_trials)"
   ]
  },
  {
   "cell_type": "code",
   "execution_count": 55,
   "metadata": {},
   "outputs": [
    {
     "data": {
      "image/png": "[encoded data removed]",
      "text/plain": [
       "<Figure size 432x288 with 1 Axes>"
      ]
     },
     "metadata": {
      "needs_background": "light"
     },
     "output_type": "display_data"
    }
   ],
   "source": [
    "# graph the revs\n",
    "num_bins = 4000\n",
    "plt.hist(revs, num_bins)\n",
    "plt.xlim(0,2000)\n",
    "plt.show()"
   ]
  },
  {
   "cell_type": "markdown",
   "metadata": {},
   "source": [
    "## Variable Updates"
   ]
  },
  {
   "cell_type": "code",
   "execution_count": 153,
   "metadata": {},
   "outputs": [
    {
     "name": "stdout",
     "output_type": "stream",
     "text": [
      "[100, 105, 110, 115, 120, 125, 130, 135, 140, 145, 150, 155, 160, 165, 170, 175, 180, 185, 190, 195, 200, 205, 210, 215, 220, 225, 230, 235, 240, 245, 250, 255, 260, 265, 270, 275, 280, 285, 290, 295, 300, 305, 310, 315, 320, 325, 330, 335, 340, 345, 350, 355, 360, 365, 370, 375, 380, 385, 390, 395, 400, 405, 410, 415, 420, 425, 430, 435, 440, 445, 450, 455, 460, 465, 470, 475, 480, 485, 490, 495, 500, 505, 510, 515, 520, 525, 530, 535, 540, 545, 550, 555, 560, 565, 570, 575, 580, 585, 590, 595, 600, 605, 610, 615, 620, 625, 630, 635, 640, 645, 650, 655, 660, 665, 670, 675, 680, 685, 690, 695, 700, 705, 710, 715, 720, 725, 730, 735, 740, 745, 750, 755, 760, 765, 770, 775, 780, 785, 790, 795, 800, 805, 810, 815, 820, 825, 830, 835, 840, 845, 850, 855, 860, 865, 870, 875, 880, 885, 890, 895, 900, 905, 910, 915, 920, 925, 930, 935, 940, 945, 950, 955, 960, 965, 970, 975, 980, 985, 990, 995, 1000]\n"
     ]
    }
   ],
   "source": [
    "num_trials = 10000\n",
    "min_bidders = 100\n",
    "max_bidders = 1000\n",
    "bidder_step = 5\n",
    "num_items = 2\n",
    "\n",
    "num_bidders = []\n",
    "for i in range(min_bidders, max_bidders+1, bidder_step):\n",
    "    num_bidders.append(i)\n",
    "print(num_bidders)"
   ]
  },
  {
   "cell_type": "markdown",
   "metadata": {},
   "source": [
    "## Main Code"
   ]
  },
  {
   "cell_type": "code",
   "execution_count": 154,
   "metadata": {},
   "outputs": [
    {
     "name": "stdout",
     "output_type": "stream",
     "text": [
      "number of bidders:   100   105   110   115   120   125   130   135   140   145   150   155   160   165   170   175   180   185   190   195   200   205   210   215   220   225   230   235   240   245   250   255   260   265   270   275   280   285   290   295   300   305   310   315   320   325   330   335   340   345   350   355   360   365   370   375   380   385   390   395   400   405   410   415   420   425   430   435   440   445   450   455   460   465   470   475   480   485   490   495   500   505   510   515   520   525   530   535   540   545   550   555   560   565   570   575   580   585   590   595   600   605   610   615   620   625   630   635   640   645   650   655   660   665   670   675   680   685   690   695   700   705   710   715   720   725   730   735   740   745   750   755   760   765   770   775   780   785   790   795   800   805   810   815   820   825   830   835   840   845   850   855   860   865   870   875   880   885   890   895   900   905   910   915   920   925   930   935   940   945   950   955   960   965   970   975   980   985   990   995   1000"
     ]
    }
   ],
   "source": [
    "avg_revs = []\n",
    "avg_trevs = []\n",
    "truncated_trial_count = []\n",
    "\n",
    "print('number of bidders:', end = '')\n",
    "for n in range(min_bidders, max_bidders+1, bidder_step):\n",
    "    print('  ', n, end = '')\n",
    "\n",
    "    # run num_trials for each # of bidders so we can \n",
    "    # take the average\n",
    "    all_revs = []\n",
    "    all_trevs = []\n",
    "    \n",
    "    T = 16 * np.power(n, 2)\n",
    "    truncated_trials = []\n",
    "    \n",
    "    for i in range(num_trials):\n",
    "        rev, trev = auction_rev(n, num_items, T)\n",
    "        all_revs.append(rev)\n",
    "        all_trevs.append(trev)\n",
    "        if rev != trev: truncated_trials.append(i)\n",
    "            \n",
    "    avg_revs.append(mean(all_revs))\n",
    "    avg_trevs.append(mean(all_trevs))\n",
    "    truncated_trial_count.append(len(truncated_trials))\n",
    "\n",
    "# save all of the data\n",
    "csv_file = './data/2nd_price_' + str(min_bidders) + 'to' + \\\n",
    "    str(max_bidders) + 'bidders_' + str(bidder_step) + 'step_' + \\\n",
    "    str(num_trials) + 'trials.csv'\n",
    "\n",
    "df = pd.DataFrame(columns=['num bidders', 'avg rev', 'avg trev', 'truncated?'])\n",
    "for i in range(len(num_bidders)):\n",
    "    n = num_bidders[i]\n",
    "    avg_rev = avg_revs[i]\n",
    "    avg_trev = avg_trevs[i]\n",
    "    if avg_rev == avg_trev: truncated_bool = ''\n",
    "    else: truncated_bool = 'x'\n",
    "    df = df.append({'num bidders': n, 'avg rev': avg_rev, \n",
    "        'avg trev': avg_trev, 'truncated?': truncated_bool}, ignore_index=True)\n",
    "\n",
    "df.to_csv(csv_file)"
   ]
  },
  {
   "cell_type": "markdown",
   "metadata": {},
   "source": [
    "## Plotting"
   ]
  },
  {
   "cell_type": "code",
   "execution_count": 155,
   "metadata": {},
   "outputs": [],
   "source": [
    "# make dataframe for plotting\n",
    "rev_df_all = pd.DataFrame(columns=['num bidders', 'avg trev', 'Legend'])\n",
    "for i in range(len(num_bidders)):\n",
    "    n = num_bidders[i]\n",
    "    avg_trev = avg_trevs[i]\n",
    "\n",
    "    # benchmarks - note that this only works for m = 2\n",
    "    sqrt_benchmark = sqrt(2 * n) / 7\n",
    "    log_benchmark = np.log(n) / 10\n",
    "    \n",
    "    # adjust rev to get rid of mn factor\n",
    "    adj_avg_trev = avg_trev - num_items * n\n",
    "\n",
    "    rev_df_all = rev_df_all.append({'num bidders': n, 'avg trev': adj_avg_trev, 'Legend': 'Simulation'}, \n",
    "            ignore_index=True)\n",
    "    rev_df_all = rev_df_all.append({'num bidders': n, 'avg trev': sqrt_benchmark, 'Legend': 'sqrt(2n) / 7'}, \n",
    "            ignore_index=True)\n",
    "    rev_df_all = rev_df_all.append({'num bidders': n, 'avg trev': log_benchmark, 'Legend': 'ln(n) / 10'}, \n",
    "            ignore_index=True)"
   ]
  },
  {
   "cell_type": "code",
   "execution_count": 156,
   "metadata": {},
   "outputs": [
    {
     "name": "stderr",
     "output_type": "stream",
     "text": [
      "/Library/Frameworks/Python.framework/Versions/3.6/lib/python3.6/site-packages/plotnine/ggplot.py:729: PlotnineWarning: Saving 6.4 x 4.8 in image.\n",
      "  from_inches(height, units), units), PlotnineWarning)\n",
      "/Library/Frameworks/Python.framework/Versions/3.6/lib/python3.6/site-packages/plotnine/ggplot.py:730: PlotnineWarning: Filename: ./figures/2nd_price_100to1000bidders_5step_10000trials.png\n",
      "  warn('Filename: {}'.format(filename), PlotnineWarning)\n"
     ]
    }
   ],
   "source": [
    "# x labels\n",
    "x_breaks = []\n",
    "x_jumps = int((max_bidders - min_bidders) / 10)\n",
    "for x in range(min_bidders, max_bidders+1, x_jumps): x_breaks.append(x)\n",
    "\n",
    "# make the graph\n",
    "plt1 = ggplot(aes(x='num bidders', y = 'avg trev', color = 'Legend', group = 'Legend'), data=rev_df_all) + \\\n",
    "    geom_line() +\\\n",
    "    theme(axis_text_x = element_text(color = 'black'), axis_text_y = element_text(color = 'black')) + \\\n",
    "    labs(x=\"Number of Bidders\", y=\"Average TRev\", title = \"Second Price Auction on Grand Bundle (m = 2)\") + \\\n",
    "    scale_x_discrete(breaks=x_breaks)\n",
    "\n",
    "figure_name = './figures/2nd_price_' + str(min_bidders) + 'to' + \\\n",
    "    str(max_bidders) + 'bidders_' + str(bidder_step) + 'step_' + \\\n",
    "    str(num_trials) + 'trials.png'\n",
    "\n",
    "ggsave(filename=figure_name,\n",
    "   plot=plt1,\n",
    "   device='png', dpi = 200)"
   ]
  },
  {
   "cell_type": "markdown",
   "metadata": {},
   "source": [
    "## Find lines of best fit\n",
    "log and sqrt"
   ]
  },
  {
   "cell_type": "code",
   "execution_count": 157,
   "metadata": {},
   "outputs": [
    {
     "data": {
      "text/plain": [
       "172767004.68731108"
      ]
     },
     "execution_count": 157,
     "metadata": {},
     "output_type": "execute_result"
    },
    {
     "data": {
      "text/plain": [
       "1198330.626817869"
      ]
     },
     "execution_count": 157,
     "metadata": {},
     "output_type": "execute_result"
    }
   ],
   "source": [
    "# just look at revenue -- not at the other benchmarks\n",
    "rev_df = rev_df_all.loc[rev_df_all['Legend'] == 'Simulation']\n",
    "rev_df = rev_df.drop('Legend', 1)\n",
    "\n",
    "num_bidders = list(rev_df['num bidders'])\n",
    "revs = list(rev_df['avg trev'])\n",
    "\n",
    "# For fitting y = A + B log x, just fit y against (log x)\n",
    "# For fitting y = A + B sqrt n, just fit y against (sqrt x)\n",
    "# https://stackoverflow.com/questions/3433486/how-to-do-\n",
    "# exponential-and-logarithmic-curve-fitting-in-python-i-found-only-poly\n",
    "log_fit = np.polyfit(np.log(num_bidders), revs, 1)\n",
    "sqrt_fit = np.polyfit(np.sqrt(num_bidders), revs, 1)\n",
    "\n",
    "# calculate errors\n",
    "log_error = np.sum((np.polyval(log_fit, num_bidders) - revs)**2)\n",
    "sqrt_error = np.sum((np.polyval(sqrt_fit, num_bidders) - revs)**2)\n",
    "log_error\n",
    "sqrt_error\n",
    "\n",
    "# plot\n",
    "# log_trend = np.poly1d(log_fit) \n",
    "# sqrt_trend = np.poly1d(sqrt_fit) \n",
    "# plt.plot(num_bidders,revs)\n",
    "# plt.plot(num_bidders, log_trend(num_bidders))\n",
    "# plt.plot(num_bidders, sqrt_trend(num_bidders))"
   ]
  },
  {
   "cell_type": "code",
   "execution_count": null,
   "metadata": {},
   "outputs": [],
   "source": []
  }
 ],
 "metadata": {
  "kernelspec": {
   "display_name": "Python 3",
   "language": "python",
   "name": "python3"
  },
  "language_info": {
   "codemirror_mode": {
    "name": "ipython",
    "version": 3
   },
   "file_extension": ".py",
   "mimetype": "text/x-python",
   "name": "python",
   "nbconvert_exporter": "python",
   "pygments_lexer": "ipython3",
   "version": "3.6.5"
  }
 },
 "nbformat": 4,
 "nbformat_minor": 4
}
