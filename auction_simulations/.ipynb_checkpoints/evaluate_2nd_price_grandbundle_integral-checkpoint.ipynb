{
 "cells": [
  {
   "cell_type": "code",
   "execution_count": 68,
   "metadata": {},
   "outputs": [],
   "source": [
    "#-----------------------------------------------------------------------\n",
    "# evaluate_2nd_price_grandbundle_integral.py\n",
    "# Author: Rebecca Barber\n",
    "# \n",
    "# if you try to calculate E[second highest value of v_1 + v_2], where \n",
    "# v_1 and v_2 are both drawn from ER curve, gets really messy. try to \n",
    "# evaluate empirically\n",
    "#-----------------------------------------------------------------------\n",
    "\n",
    "from numpy import *\n",
    "from math import *\n",
    "from scipy.integrate import quad\n",
    "import matplotlib.pyplot as plt\n",
    "\n",
    "from IPython.core.interactiveshell import InteractiveShell\n",
    "InteractiveShell.ast_node_interactivity = \"all\""
   ]
  },
  {
   "cell_type": "markdown",
   "metadata": {},
   "source": [
    "for info on how to calculate integrals using python, see here: https://docs.scipy.org/doc/scipy/reference/tutorial/integrate.html"
   ]
  },
  {
   "cell_type": "code",
   "execution_count": 120,
   "metadata": {},
   "outputs": [],
   "source": [
    "# integrand for expected revenue of second price auction on grand bundle of two items\n",
    "# (value for both items drawn from ER curve)\n",
    "def integrand(x, n):\n",
    "    cdf = 1 - 2/x - (2*log(x-1))/x**2\n",
    "    first = cdf**n\n",
    "    second = n * cdf**(n-1) * (1-cdf)\n",
    "    return 1 - first - second\n",
    "# def integrand(x, n):\n",
    "#     cdf = 1-1/x\n",
    "#     first = cdf**n\n",
    "#     second = n * cdf**(n-1) * (1-cdf)\n",
    "#     return 1 - first - second"
   ]
  },
  {
   "cell_type": "code",
   "execution_count": 121,
   "metadata": {},
   "outputs": [],
   "source": [
    "min_bidders = 2\n",
    "max_bidders = 50000\n",
    "num_bidders_orig = list(range(min_bidders,max_bidders+1))"
   ]
  },
  {
   "cell_type": "code",
   "execution_count": 123,
   "metadata": {
    "scrolled": true
   },
   "outputs": [
    {
     "name": "stdout",
     "output_type": "stream",
     "text": [
      "bidders:   1000   2000   3000   4000   5000   6000   7000   8000   9000   10000   11000   12000   13000   14000   15000   16000   17000   18000   19000   20000   21000   22000   23000   24000   25000   26000"
     ]
    },
    {
     "name": "stderr",
     "output_type": "stream",
     "text": [
      "/Library/Frameworks/Python.framework/Versions/3.6/lib/python3.6/site-packages/ipykernel_launcher.py:7: IntegrationWarning: The algorithm does not converge.  Roundoff error is detected\n",
      "  in the extrapolation table.  It is assumed that the requested tolerance\n",
      "  cannot be achieved, and that the returned result (if full_output = 1) is \n",
      "  the best which can be obtained.\n",
      "  import sys\n"
     ]
    },
    {
     "name": "stdout",
     "output_type": "stream",
     "text": [
      "   27000   28000   29000"
     ]
    },
    {
     "name": "stderr",
     "output_type": "stream",
     "text": [
      "/Library/Frameworks/Python.framework/Versions/3.6/lib/python3.6/site-packages/ipykernel_launcher.py:7: IntegrationWarning: The integral is probably divergent, or slowly convergent.\n",
      "  import sys\n"
     ]
    },
    {
     "name": "stdout",
     "output_type": "stream",
     "text": [
      "   30000   31000   32000   33000   34000   35000   36000   37000   38000   39000   40000   41000   42000   43000   44000   45000   46000   47000   48000   49000   50000"
     ]
    }
   ],
   "source": [
    "revs = []\n",
    "adj_revs = []\n",
    "print('bidders:', end ='')\n",
    "num_bidders = num_bidders_orig\n",
    "for n in num_bidders_orig:\n",
    "    if n % 1000 == 0: print('  ', n, end ='')\n",
    "    integral = quad(integrand, 2, inf, args=(n))\n",
    "    rev = 2 + integral[0]\n",
    "    if rev <= 0:\n",
    "        print('removing', n)\n",
    "        num_bidders.remove(n)\n",
    "    else:\n",
    "        revs.append(rev)\n",
    "        adj_rev = rev - 2 * n\n",
    "        adj_revs.append(adj_rev)"
   ]
  },
  {
   "cell_type": "code",
   "execution_count": 88,
   "metadata": {},
   "outputs": [
    {
     "data": {
      "text/plain": [
       "89574807741664.28"
      ]
     },
     "execution_count": 88,
     "metadata": {},
     "output_type": "execute_result"
    },
    {
     "data": {
      "text/plain": [
       "1864534666448.1165"
      ]
     },
     "execution_count": 88,
     "metadata": {},
     "output_type": "execute_result"
    }
   ],
   "source": [
    "# For fitting y = A + B log x, just fit y against (log x)\n",
    "# For fitting y = A + B sqrt n, just fit y against (sqrt x)\n",
    "# https://stackoverflow.com/questions/3433486/how-to-do-\n",
    "# exponential-and-logarithmic-curve-fitting-in-python-i-found-only-poly\n",
    "log_fit = np.polyfit(np.log(num_bidders), revs, 1)\n",
    "sqrt_fit = np.polyfit(np.sqrt(num_bidders), revs, 1)\n",
    "\n",
    "# calculate errors\n",
    "log_error = np.sum((np.polyval(log_fit, num_bidders) - adj_revs)**2)\n",
    "sqrt_error = np.sum((np.polyval(sqrt_fit, num_bidders) - adj_revs)**2)\n",
    "log_error\n",
    "sqrt_error"
   ]
  },
  {
   "cell_type": "code",
   "execution_count": null,
   "metadata": {},
   "outputs": [],
   "source": []
  }
 ],
 "metadata": {
  "kernelspec": {
   "display_name": "Python 3",
   "language": "python",
   "name": "python3"
  },
  "language_info": {
   "codemirror_mode": {
    "name": "ipython",
    "version": 3
   },
   "file_extension": ".py",
   "mimetype": "text/x-python",
   "name": "python",
   "nbconvert_exporter": "python",
   "pygments_lexer": "ipython3",
   "version": "3.6.5"
  }
 },
 "nbformat": 4,
 "nbformat_minor": 4
}
