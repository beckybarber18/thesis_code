{
 "cells": [
  {
   "cell_type": "code",
   "execution_count": 2,
   "metadata": {},
   "outputs": [],
   "source": [
    "#-----------------------------------------------------------------------\n",
    "# evaluate_2nd_price_grandbundle_integral.py\n",
    "# Author: Rebecca Barber\n",
    "# \n",
    "# if you try to calculate E[second highest value of v_1 + v_2], where \n",
    "# v_1 and v_2 are both drawn from ER curve, gets really messy. try to \n",
    "# evaluate empirically\n",
    "#-----------------------------------------------------------------------\n",
    "\n",
    "import numpy as np\n",
    "from math import *\n",
    "from scipy.integrate import quad\n",
    "import matplotlib.pyplot as plt\n",
    "import pandas as pd\n",
    "\n",
    "from IPython.core.interactiveshell import InteractiveShell\n",
    "InteractiveShell.ast_node_interactivity = \"all\""
   ]
  },
  {
   "cell_type": "markdown",
   "metadata": {},
   "source": [
    "for info on how to calculate integrals using python, see here: https://docs.scipy.org/doc/scipy/reference/tutorial/integrate.html"
   ]
  },
  {
   "cell_type": "code",
   "execution_count": 4,
   "metadata": {},
   "outputs": [],
   "source": [
    "# integrand for expected revenue of second price auction on grand bundle of two items\n",
    "# (value for both items drawn from ER curve)\n",
    "def integrand(x, n):\n",
    "    cdf = 1 - 2/x - (2*log(x-1))/x**2\n",
    "    first = cdf**n\n",
    "    second = n * cdf**(n-1) * (1-cdf)\n",
    "    return 1 - first - second\n",
    "# def integrand(x, n):\n",
    "#     cdf = 1-1/x\n",
    "#     first = cdf**n\n",
    "#     second = n * cdf**(n-1) * (1-cdf)\n",
    "#     return 1 - first - second"
   ]
  },
  {
   "cell_type": "code",
   "execution_count": 5,
   "metadata": {},
   "outputs": [],
   "source": [
    "min_bidders = 2\n",
    "max_bidders = 100000\n",
    "num_bidders = list(range(min_bidders,max_bidders+1))"
   ]
  },
  {
   "cell_type": "code",
   "execution_count": 6,
   "metadata": {
    "scrolled": true
   },
   "outputs": [
    {
     "name": "stdout",
     "output_type": "stream",
     "text": [
      "bidders:   1000   2000   3000   4000   5000   6000   7000   8000   9000   10000   11000   12000   13000   14000   15000   16000   17000   18000   19000   20000   21000   22000   23000   24000   25000   26000"
     ]
    },
    {
     "name": "stderr",
     "output_type": "stream",
     "text": [
      "/Library/Frameworks/Python.framework/Versions/3.6/lib/python3.6/site-packages/ipykernel_launcher.py:6: IntegrationWarning: The algorithm does not converge.  Roundoff error is detected\n",
      "  in the extrapolation table.  It is assumed that the requested tolerance\n",
      "  cannot be achieved, and that the returned result (if full_output = 1) is \n",
      "  the best which can be obtained.\n",
      "  \n"
     ]
    },
    {
     "name": "stdout",
     "output_type": "stream",
     "text": [
      "   27000   28000   29000"
     ]
    },
    {
     "name": "stderr",
     "output_type": "stream",
     "text": [
      "/Library/Frameworks/Python.framework/Versions/3.6/lib/python3.6/site-packages/ipykernel_launcher.py:6: IntegrationWarning: The integral is probably divergent, or slowly convergent.\n",
      "  \n"
     ]
    },
    {
     "name": "stdout",
     "output_type": "stream",
     "text": [
      "   30000   31000   32000   33000   34000   35000   36000   37000   38000   39000   40000   41000   42000   43000   44000   45000   46000   47000   48000   49000   50000   51000   52000   53000   54000   55000   56000   57000   58000   59000   60000   61000   62000   63000   64000   65000   66000   67000   68000   69000   70000   71000   72000   73000   74000   75000   76000   77000   78000   79000   80000   81000   82000   83000   84000   85000   86000   87000   88000   89000   90000   91000   92000   93000   94000   95000   96000   97000   98000   99000   100000"
     ]
    }
   ],
   "source": [
    "revs = []\n",
    "adj_revs = []\n",
    "print('bidders:', end ='')\n",
    "for n in num_bidders:\n",
    "    if n % 1000 == 0: print('  ', n, end ='')\n",
    "    integral = quad(integrand, 2, inf, args=(n))\n",
    "    rev = 2 + integral[0]\n",
    "    revs.append(rev)\n",
    "    adj_rev = rev - 2 * n\n",
    "    adj_revs.append(adj_rev)"
   ]
  },
  {
   "cell_type": "code",
   "execution_count": 7,
   "metadata": {},
   "outputs": [],
   "source": [
    "# clean the results to get rid of computer errors\n",
    "num_bidders = [num_bidders[i] for i in range(len(adj_revs)) if adj_revs[i] > -1]\n",
    "revs = [revs[i] for i in range(len(adj_revs)) if adj_revs[i] > -1]\n",
    "adj_revs = [i for i in adj_revs if i > -1]"
   ]
  },
  {
   "cell_type": "code",
   "execution_count": 8,
   "metadata": {},
   "outputs": [
    {
     "data": {
      "text/plain": [
       "[<matplotlib.lines.Line2D at 0x1215204e0>]"
      ]
     },
     "execution_count": 8,
     "metadata": {},
     "output_type": "execute_result"
    },
    {
     "data": {
      "text/plain": [
       "[<matplotlib.lines.Line2D at 0x1208a5ba8>]"
      ]
     },
     "execution_count": 8,
     "metadata": {},
     "output_type": "execute_result"
    },
    {
     "data": {
      "text/plain": [
       "[<matplotlib.lines.Line2D at 0x121520dd8>]"
      ]
     },
     "execution_count": 8,
     "metadata": {},
     "output_type": "execute_result"
    },
    {
     "data": {
      "image/png": "[encoded data removed]",
      "text/plain": [
       "<Figure size 432x288 with 1 Axes>"
      ]
     },
     "metadata": {
      "needs_background": "light"
     },
     "output_type": "display_data"
    }
   ],
   "source": [
    "bench = [2*n for n in num_bidders]\n",
    "plt.plot(num_bidders, revs, 'bo')\n",
    "plt.plot(num_bidders, adj_revs, 'ro')\n",
    "plt.plot(num_bidders, bench)"
   ]
  },
  {
   "cell_type": "code",
   "execution_count": 46,
   "metadata": {},
   "outputs": [
    {
     "data": {
      "text/plain": [
       "<Figure size 648x360 with 0 Axes>"
      ]
     },
     "execution_count": 46,
     "metadata": {},
     "output_type": "execute_result"
    },
    {
     "data": {
      "text/plain": [
       "[<matplotlib.lines.Line2D at 0x13a034940>,\n",
       " <matplotlib.lines.Line2D at 0x13a034a90>,\n",
       " <matplotlib.lines.Line2D at 0x13a034be0>]"
      ]
     },
     "execution_count": 46,
     "metadata": {},
     "output_type": "execute_result"
    },
    {
     "data": {
      "text/plain": [
       "<matplotlib.legend.Legend at 0x13a064278>"
      ]
     },
     "execution_count": 46,
     "metadata": {},
     "output_type": "execute_result"
    },
    {
     "data": {
      "text/plain": [
       "Text(0.5, 1.0, 'Second Price Auction on Grand Bundle (m = 2)')"
      ]
     },
     "execution_count": 46,
     "metadata": {},
     "output_type": "execute_result"
    },
    {
     "data": {
      "image/png": "[encoded data removed]",
      "text/plain": [
       "<Figure size 648x360 with 1 Axes>"
      ]
     },
     "metadata": {},
     "output_type": "display_data"
    }
   ],
   "source": [
    "log_bench = [np.log(n) for n in num_bidders]\n",
    "sqrt_bench = [np.sqrt(n)/10 for n in num_bidders]\n",
    "\n",
    "figure_name = './figures/2nd_price_evaluate_integral' + str(min_bidders) + 'to' + \\\n",
    "    str(max_bidders) + 'bidders.png'\n",
    "\n",
    "plt.style.use('ggplot')\n",
    "plt.figure(figsize=(9,5))\n",
    "with plt.rc_context({'axes.edgecolor':'black', 'xtick.color':'black', 'ytick.color':'black'}):\n",
    "    plt.plot(num_bidders, log_bench, 'r-',\n",
    "             num_bidders, sqrt_bench, 'b-',\n",
    "             num_bidders, adj_revs,'ko',\n",
    "             markersize=3, linewidth = 4)\n",
    "plt.legend(['c * log(n)', 'c * sqrt(n)', 'Adjusted Revenue'])\n",
    "xlab = plt.xlabel('Number of Bidders', fontsize=16)\n",
    "ylab = plt.ylabel('Adjusted Revenue', fontsize=16)\n",
    "xlab.set_color('black')\n",
    "ylab.set_color('black')\n",
    "plt.title(\"Second Price Auction on Grand Bundle (m = 2)\", fontsize = 16)\n",
    "plt.savefig(figure_name, dpi=300)"
   ]
  },
  {
   "cell_type": "code",
   "execution_count": 14,
   "metadata": {},
   "outputs": [
    {
     "ename": "KeyboardInterrupt",
     "evalue": "",
     "output_type": "error",
     "traceback": [
      "\u001b[0;31m---------------------------------------------------------------------------\u001b[0m",
      "\u001b[0;31mKeyboardInterrupt\u001b[0m                         Traceback (most recent call last)",
      "\u001b[0;32m<ipython-input-14-2596cd3491dd>\u001b[0m in \u001b[0;36m<module>\u001b[0;34m\u001b[0m\n\u001b[1;32m     12\u001b[0m             ignore_index=True)\n\u001b[1;32m     13\u001b[0m     rev_df_all = rev_df_all.append({'num bidders': n, 'adj_rev': log_val, 'Legend': 'c * log(n)'}, \n\u001b[0;32m---> 14\u001b[0;31m             ignore_index=True)\n\u001b[0m",
      "\u001b[0;32m/Library/Frameworks/Python.framework/Versions/3.6/lib/python3.6/site-packages/pandas/core/frame.py\u001b[0m in \u001b[0;36mappend\u001b[0;34m(self, other, ignore_index, verify_integrity, sort)\u001b[0m\n\u001b[1;32m   7136\u001b[0m             \u001b[0mignore_index\u001b[0m\u001b[0;34m=\u001b[0m\u001b[0mignore_index\u001b[0m\u001b[0;34m,\u001b[0m\u001b[0;34m\u001b[0m\u001b[0m\n\u001b[1;32m   7137\u001b[0m             \u001b[0mverify_integrity\u001b[0m\u001b[0;34m=\u001b[0m\u001b[0mverify_integrity\u001b[0m\u001b[0;34m,\u001b[0m\u001b[0;34m\u001b[0m\u001b[0m\n\u001b[0;32m-> 7138\u001b[0;31m             \u001b[0msort\u001b[0m\u001b[0;34m=\u001b[0m\u001b[0msort\u001b[0m\u001b[0;34m,\u001b[0m\u001b[0;34m\u001b[0m\u001b[0m\n\u001b[0m\u001b[1;32m   7139\u001b[0m         )\n\u001b[1;32m   7140\u001b[0m \u001b[0;34m\u001b[0m\u001b[0m\n",
      "\u001b[0;32m/Library/Frameworks/Python.framework/Versions/3.6/lib/python3.6/site-packages/pandas/core/reshape/concat.py\u001b[0m in \u001b[0;36mconcat\u001b[0;34m(objs, axis, join, join_axes, ignore_index, keys, levels, names, verify_integrity, sort, copy)\u001b[0m\n\u001b[1;32m    256\u001b[0m     )\n\u001b[1;32m    257\u001b[0m \u001b[0;34m\u001b[0m\u001b[0m\n\u001b[0;32m--> 258\u001b[0;31m     \u001b[0;32mreturn\u001b[0m \u001b[0mop\u001b[0m\u001b[0;34m.\u001b[0m\u001b[0mget_result\u001b[0m\u001b[0;34m(\u001b[0m\u001b[0;34m)\u001b[0m\u001b[0;34m\u001b[0m\u001b[0m\n\u001b[0m\u001b[1;32m    259\u001b[0m \u001b[0;34m\u001b[0m\u001b[0m\n\u001b[1;32m    260\u001b[0m \u001b[0;34m\u001b[0m\u001b[0m\n",
      "\u001b[0;32m/Library/Frameworks/Python.framework/Versions/3.6/lib/python3.6/site-packages/pandas/core/reshape/concat.py\u001b[0m in \u001b[0;36mget_result\u001b[0;34m(self)\u001b[0m\n\u001b[1;32m    471\u001b[0m \u001b[0;34m\u001b[0m\u001b[0m\n\u001b[1;32m    472\u001b[0m             new_data = concatenate_block_managers(\n\u001b[0;32m--> 473\u001b[0;31m                 \u001b[0mmgrs_indexers\u001b[0m\u001b[0;34m,\u001b[0m \u001b[0mself\u001b[0m\u001b[0;34m.\u001b[0m\u001b[0mnew_axes\u001b[0m\u001b[0;34m,\u001b[0m \u001b[0mconcat_axis\u001b[0m\u001b[0;34m=\u001b[0m\u001b[0mself\u001b[0m\u001b[0;34m.\u001b[0m\u001b[0maxis\u001b[0m\u001b[0;34m,\u001b[0m \u001b[0mcopy\u001b[0m\u001b[0;34m=\u001b[0m\u001b[0mself\u001b[0m\u001b[0;34m.\u001b[0m\u001b[0mcopy\u001b[0m\u001b[0;34m\u001b[0m\u001b[0m\n\u001b[0m\u001b[1;32m    474\u001b[0m             )\n\u001b[1;32m    475\u001b[0m             \u001b[0;32mif\u001b[0m \u001b[0;32mnot\u001b[0m \u001b[0mself\u001b[0m\u001b[0;34m.\u001b[0m\u001b[0mcopy\u001b[0m\u001b[0;34m:\u001b[0m\u001b[0;34m\u001b[0m\u001b[0m\n",
      "\u001b[0;32m/Library/Frameworks/Python.framework/Versions/3.6/lib/python3.6/site-packages/pandas/core/internals/managers.py\u001b[0m in \u001b[0;36mconcatenate_block_managers\u001b[0;34m(mgrs_indexers, axes, concat_axis, copy)\u001b[0m\n\u001b[1;32m   2057\u001b[0m         \u001b[0mblocks\u001b[0m\u001b[0;34m.\u001b[0m\u001b[0mappend\u001b[0m\u001b[0;34m(\u001b[0m\u001b[0mb\u001b[0m\u001b[0;34m)\u001b[0m\u001b[0;34m\u001b[0m\u001b[0m\n\u001b[1;32m   2058\u001b[0m \u001b[0;34m\u001b[0m\u001b[0m\n\u001b[0;32m-> 2059\u001b[0;31m     \u001b[0;32mreturn\u001b[0m \u001b[0mBlockManager\u001b[0m\u001b[0;34m(\u001b[0m\u001b[0mblocks\u001b[0m\u001b[0;34m,\u001b[0m \u001b[0maxes\u001b[0m\u001b[0;34m)\u001b[0m\u001b[0;34m\u001b[0m\u001b[0m\n\u001b[0m",
      "\u001b[0;31mKeyboardInterrupt\u001b[0m: "
     ]
    }
   ],
   "source": [
    "# make dataframe for plotting\n",
    "rev_df_all = pd.DataFrame(columns=['num bidders', 'adj_rev', 'legend'])\n",
    "for i in range(len(num_bidders)):\n",
    "    n = num_bidders[i]\n",
    "    adj_rev = adj_revs[i]\n",
    "    sqrt_val = sqrt_bench[i]\n",
    "    log_val = log_bench[i]\n",
    "\n",
    "    rev_df_all = rev_df_all.append({'num bidders': n, 'adj_rev': adj_rev, 'Legend': 'Revenue'}, \n",
    "            ignore_index=True)\n",
    "    rev_df_all = rev_df_all.append({'num bidders': n, 'adj_rev': sqrt_val, 'Legend': 'c * sqrt(n)'}, \n",
    "            ignore_index=True)\n",
    "    rev_df_all = rev_df_all.append({'num bidders': n, 'adj_rev': log_val, 'Legend': 'c * log(n)'}, \n",
    "            ignore_index=True)"
   ]
  },
  {
   "cell_type": "code",
   "execution_count": null,
   "metadata": {},
   "outputs": [],
   "source": [
    "# x labels\n",
    "x_breaks = []\n",
    "x_jumps = int((max_bidders - min_bidders) / 10)\n",
    "for x in range(min_bidders, max_bidders+1, x_jumps): x_breaks.append(x)\n",
    "\n",
    "# make the graph\n",
    "plt1 = ggplot(aes(x='num bidders', y = 'adj_rev', color = 'Legend', group = 'Legend'), data=rev_df_all) + \\\n",
    "    geom_line() +\\\n",
    "    theme(axis_text_x = element_text(color = 'black'), axis_text_y = element_text(color = 'black')) + \\\n",
    "    labs(x=\"Number of Bidders\", y=\"Adjusted Revenue\", title = \"Second Price Auction on Grand Bundle (m = 2)\") + \\\n",
    "    scale_x_discrete(breaks=x_breaks)\n",
    "\n",
    "figure_name = './figures/2nd_price_evaluate_integral' + str(min_bidders) + 'to' + \\\n",
    "    str(max_bidders) + 'bidders'\n",
    "\n",
    "ggsave(filename=figure_name,\n",
    "   plot=plt1,\n",
    "   device='png', dpi = 200)"
   ]
  },
  {
   "cell_type": "code",
   "execution_count": 47,
   "metadata": {},
   "outputs": [
    {
     "name": "stdout",
     "output_type": "stream",
     "text": [
      "log fit: a = 1.0096591407006188 b = 0.1681624261713205 error = 3.178659039298497\n",
      "sqrt fit: a = 0.01650652533281354 b = 7.564030451982522 error = 6736.466567967631\n"
     ]
    }
   ],
   "source": [
    "# DOUBLE CHECK THIS!!!!!!\n",
    "# For fitting y = A log x + B, just fit y against (log x)\n",
    "# For fitting y = A sqrt x + B, just fit y against (sqrt x)\n",
    "# https://stackoverflow.com/questions/3433486/how-to-do-\n",
    "# exponential-and-logarithmic-curve-fitting-in-python-i-found-only-poly\n",
    "log_fit = np.polyfit(np.log(num_bidders), adj_revs, 1, full = True)\n",
    "sqrt_fit = np.polyfit(np.sqrt(num_bidders), adj_revs, 1, full = True)\n",
    "print('log fit: a =', log_fit[0][0], 'b =', log_fit[0][1], 'error =', log_fit[1][0])\n",
    "print('sqrt fit: a =', sqrt_fit[0][0], 'b =', sqrt_fit[0][1], 'error =', sqrt_fit[1][0])"
   ]
  },
  {
   "cell_type": "code",
   "execution_count": null,
   "metadata": {},
   "outputs": [],
   "source": []
  }
 ],
 "metadata": {
  "kernelspec": {
   "display_name": "Python 3",
   "language": "python",
   "name": "python3"
  },
  "language_info": {
   "codemirror_mode": {
    "name": "ipython",
    "version": 3
   },
   "file_extension": ".py",
   "mimetype": "text/x-python",
   "name": "python",
   "nbconvert_exporter": "python",
   "pygments_lexer": "ipython3",
   "version": "3.6.5"
  }
 },
 "nbformat": 4,
 "nbformat_minor": 4
}
