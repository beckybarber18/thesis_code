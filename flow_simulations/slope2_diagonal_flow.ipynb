{
 "cells": [
  {
   "cell_type": "code",
   "execution_count": 4,
   "metadata": {},
   "outputs": [],
   "source": [
    "#-----------------------------------------------------------------------\n",
    "# diagonal.py\n",
    "# Author: Rebecca Barber\n",
    "# \n",
    "# simulates the expected revenue given the flow discussed in meeting\n",
    "# on 2/11. see notes for more details\n",
    "#-----------------------------------------------------------------------\n",
    "\n",
    "import scipy.stats as st\n",
    "from statistics import *\n",
    "import matplotlib.pyplot as plt\n",
    "from sys import argv\n",
    "import numpy as np\n",
    "from math import *\n",
    "import pandas as pd\n",
    "from plotnine import *\n",
    "from random import * \n",
    "\n",
    "from IPython.core.interactiveshell import InteractiveShell\n",
    "InteractiveShell.ast_node_interactivity = \"all\""
   ]
  },
  {
   "cell_type": "markdown",
   "metadata": {},
   "source": [
    "# ER draws"
   ]
  },
  {
   "cell_type": "code",
   "execution_count": 5,
   "metadata": {},
   "outputs": [],
   "source": [
    "# draws value from ER curve\n",
    "def er_draw():\n",
    "\tq = random()\n",
    "\treturn 1/(1-q)\n",
    "\n",
    "# draws d values from the ER curve\n",
    "def draw_vals(d):\n",
    "\tvals = []\n",
    "\tfor i in range(d):\n",
    "\t\tdraw = er_draw()\n",
    "\t\tvals.append(draw)\n",
    "\treturn vals"
   ]
  },
  {
   "cell_type": "markdown",
   "metadata": {},
   "source": [
    "# Flow Simulation"
   ]
  },
  {
   "cell_type": "code",
   "execution_count": 6,
   "metadata": {},
   "outputs": [],
   "source": [
    "# simulates flow given n bidders and m items\n",
    "# essentially just arranging the n*m values and using\n",
    "# the given mechanism to \"star\" values\n",
    "def flow_sim(n, m, eps):\n",
    "\n",
    "\t# need to get n*m values\n",
    "    vals = draw_vals(n*m)\n",
    "    \n",
    "    # divide into 2 cols\n",
    "    col1 = vals[0:n]\n",
    "    col2 = vals[n:len(vals)]\n",
    "    assert len(col1) == len(col2), \"columns aren't the same size\"\n",
    "    # print('\\nitem 1:', col1)\n",
    "    # print('item 1:', col2)\n",
    "    \n",
    "    # get largest \"unstarred\" value in each column\n",
    "    # need to compute \\sum_j \\max_i {virt_val_ij} \n",
    "    # virt_val_ij = 0 if j is i's favorite item\n",
    "    # otherwise, = formula below\n",
    "    highest_virt_val_col1 = 0\n",
    "    highest_virt_val_col2 = 0\n",
    "    for i in range(len(col1)):\n",
    "        \n",
    "        val_col1 = col1[i]\n",
    "        val_col2 = col2[i]\n",
    "        \n",
    "        max_val = val_col1 if val_col1 > val_col2 else val_col2\n",
    "        other_val = val_col2 if val_col1 > val_col2 else val_col1\n",
    "        \n",
    "        # print('max_val:', max_val, 'other_val:', other_val)\n",
    "        \n",
    "        # item 1 is the favorite item (max)\n",
    "        # item 2 is \"other\"\n",
    "        if val_col1 > val_col2:\n",
    "            virt_val_col1 = 0 \n",
    "            virt_val_col2 = (other_val*(max_val-other_val)-eps*max_val*other_val**2)/(max_val-2*eps*max_val*other_val)\n",
    "        # item 1 is \"other\"\n",
    "        # item 2 is the favorite item (max)\n",
    "        else: \n",
    "            virt_val_col2 = 0 \n",
    "            virt_val_col1 = (other_val*(max_val-other_val)-eps*max_val*other_val**2)/(max_val-2*eps*max_val*other_val)\n",
    "            \n",
    "        # print('virt_val_col1:', virt_val_col1, 'virt_val_col2:', virt_val_col2, '\\n')\n",
    "            \n",
    "        if virt_val_col1 > highest_virt_val_col1: \n",
    "            highest_virt_val_col1 = virt_val_col1\n",
    "        if virt_val_col2 > highest_virt_val_col2: \n",
    "            highest_virt_val_col2 = virt_val_col2\n",
    "            \n",
    "    # print('highest_virt_val_col1:', highest_virt_val_col1, 'highest_virt_val_col2:', highest_virt_val_col2)\n",
    "\n",
    "    return highest_virt_val_col2 + highest_virt_val_col2"
   ]
  },
  {
   "cell_type": "markdown",
   "metadata": {},
   "source": [
    "# Variable Updates"
   ]
  },
  {
   "cell_type": "code",
   "execution_count": 7,
   "metadata": {},
   "outputs": [
    {
     "name": "stdout",
     "output_type": "stream",
     "text": [
      "[10, 20, 30, 40, 50, 60, 70, 80, 90, 100, 110, 120, 130, 140, 150, 160, 170, 180, 190, 200, 210, 220, 230, 240, 250, 260, 270, 280, 290, 300, 310, 320, 330, 340, 350, 360, 370, 380, 390, 400, 410, 420, 430, 440, 450, 460, 470, 480, 490, 500]\n"
     ]
    }
   ],
   "source": [
    "num_trials = 10000 #200000\n",
    "min_bidders = 10\n",
    "max_bidders = 500 #1000\n",
    "bidder_step = 10\n",
    "num_items = 2\n",
    "eps = 1/1000000\n",
    "\n",
    "num_bidders = []\n",
    "for i in range(min_bidders, max_bidders+1, bidder_step):\n",
    "    num_bidders.append(i)\n",
    "print(num_bidders)"
   ]
  },
  {
   "cell_type": "markdown",
   "metadata": {},
   "source": [
    "# Main"
   ]
  },
  {
   "cell_type": "code",
   "execution_count": 8,
   "metadata": {},
   "outputs": [
    {
     "name": "stdout",
     "output_type": "stream",
     "text": [
      "number of bidders:\n",
      "10:  4.564569338790065\n",
      "20:  6.43970802079402\n",
      "30:  7.826675415546402\n",
      "40:  9.004096206128075\n",
      "50:  10.201918890094204\n",
      "60:  11.412053468162846\n",
      "70:  12.044644208477816\n",
      "80:  13.000066992624047\n",
      "90:  13.516451764652219\n",
      "100:  14.641188108284132\n",
      "110:  14.971462742543\n",
      "120:  15.447991877529482\n",
      "130:  16.87658975510104\n",
      "140:  16.34344798175496\n",
      "150:  17.647697167682207\n",
      "160:  18.596369373012568\n",
      "170:  18.664746133485327\n",
      "180:  19.542714639499998\n",
      "190:  19.658584787711685\n",
      "200:  20.718537112565784\n",
      "210:  21.00703946117251\n",
      "220:  21.332378903488156\n",
      "230:  21.908601897550923\n",
      "240:  22.358191322539632\n",
      "250:  22.94762542699039\n",
      "260:  24.008698588676495\n",
      "270:  23.77729325055291\n",
      "280:  23.620834701260517\n",
      "290:  24.264743585418568\n",
      "300:  24.98763960862776\n",
      "310:  24.951972017746357\n",
      "320:  25.726102882769204\n",
      "330:  26.357674983327772\n",
      "340:  26.845841353296144\n",
      "350:  26.735218250776008\n",
      "360:  27.20376514719332\n",
      "370:  27.69138228518884\n",
      "380:  28.598934260549903\n",
      "390:  28.622381955225293\n",
      "400:  28.63996848250528\n",
      "410:  29.17480113211337\n",
      "420:  29.156269099922334\n",
      "430:  30.037584167209\n",
      "440:  30.518660024718024\n",
      "450:  30.014925808610972\n",
      "460:  31.840585707935524\n",
      "470:  31.167837967163013\n",
      "480:  31.080577881068738\n",
      "490:  32.21076911133167\n",
      "500:  32.084002058264225\n"
     ]
    }
   ],
   "source": [
    "avg_revs = []\n",
    "\n",
    "print('number of bidders:')\n",
    "for n in range(min_bidders, max_bidders+1, bidder_step):\n",
    "    print(n, end = \"\")\n",
    "\n",
    "    # run num_trials for each # of bidders so we can \n",
    "    # take the average\n",
    "    all_revs = []\n",
    "    for i in range(num_trials):\n",
    "        rev = flow_sim(n, num_items, eps)\n",
    "        all_revs.append(rev)       \n",
    "    mean_rev = mean(all_revs)\n",
    "    avg_revs.append(mean_rev)\n",
    "    print(': ', mean_rev)\n",
    "\n",
    "# save all of the data\n",
    "csv_file = './data/diag_flow' + str(min_bidders) + 'to' + \\\n",
    "    str(max_bidders) + 'bidders_' + str(bidder_step) + 'step_' + \\\n",
    "    str(num_trials) + 'trials.csv'\n",
    "\n",
    "df = pd.DataFrame(columns=['num bidders', 'avg rev'])\n",
    "for i in range(len(num_bidders)):\n",
    "    n = num_bidders[i]\n",
    "    avg_rev = avg_revs[i]\n",
    "    df = df.append({'num bidders': n, 'avg rev': avg_rev}, ignore_index=True)\n",
    "\n",
    "df.to_csv(csv_file)"
   ]
  },
  {
   "cell_type": "markdown",
   "metadata": {},
   "source": [
    "# Plotting"
   ]
  },
  {
   "cell_type": "code",
   "execution_count": 9,
   "metadata": {},
   "outputs": [
    {
     "data": {
      "text/plain": [
       "<Figure size 648x360 with 0 Axes>"
      ]
     },
     "execution_count": 9,
     "metadata": {},
     "output_type": "execute_result"
    },
    {
     "data": {
      "text/plain": [
       "[<matplotlib.lines.Line2D at 0x1253bef28>,\n",
       " <matplotlib.lines.Line2D at 0x1253cd160>,\n",
       " <matplotlib.lines.Line2D at 0x1253cd2b0>]"
      ]
     },
     "execution_count": 9,
     "metadata": {},
     "output_type": "execute_result"
    },
    {
     "data": {
      "text/plain": [
       "<matplotlib.legend.Legend at 0x1253cd438>"
      ]
     },
     "execution_count": 9,
     "metadata": {},
     "output_type": "execute_result"
    },
    {
     "data": {
      "image/png": "[encoded data removed]",
      "text/plain": [
       "<Figure size 648x360 with 1 Axes>"
      ]
     },
     "metadata": {},
     "output_type": "display_data"
    }
   ],
   "source": [
    "# plot the results\n",
    "log_bench = [2*np.log(n) for n in num_bidders]\n",
    "sqrt_bench = [1.4*np.sqrt(n) for n in num_bidders]\n",
    "\n",
    "figure_name = './figures/diag_flow' + str(min_bidders) + 'to' + \\\n",
    "    str(max_bidders) + 'bidders_' + str(bidder_step) + 'step_' + \\\n",
    "    str(num_trials) + 'trials.png'\n",
    "\n",
    "plt.style.use('ggplot')\n",
    "plt.figure(figsize=(9,5))\n",
    "with plt.rc_context({'axes.edgecolor':'black', 'xtick.color':'black', 'ytick.color':'black'}):\n",
    "    plt.plot(num_bidders, log_bench, 'r-',\n",
    "        num_bidders, sqrt_bench, 'b-',\n",
    "         num_bidders, avg_revs,'ko', \n",
    "         markersize=3, linewidth = 4)\n",
    "plt.legend(['c * log(n)', 'c * sqrt(n)', 'Adjusted Revenue'])\n",
    "xlab = plt.xlabel('Number of Bidders', fontsize=16)\n",
    "ylab = plt.ylabel('Adjusted Revenue', fontsize=16)\n",
    "xlab.set_color('black')\n",
    "ylab.set_color('black')"
   ]
  },
  {
   "cell_type": "code",
   "execution_count": 10,
   "metadata": {},
   "outputs": [
    {
     "name": "stdout",
     "output_type": "stream",
     "text": [
      "log fit: \n",
      "a = 8.163804169455645 \n",
      "b = -21.240885734805506 \n",
      "error = 173.0894362335794\n",
      "\n",
      "sqrt fit: \n",
      "a = 1.4421332413369423 \n",
      "b = -0.002264012993333075 \n",
      "error = 4.782833046425581\n"
     ]
    }
   ],
   "source": [
    "# For fitting y = B + A log x, just fit y against (log x)\n",
    "# For fitting y = B + A sqrt n, just fit y against (sqrt x)\n",
    "# https://stackoverflow.com/questions/3433486/how-to-do-\n",
    "# exponential-and-logarithmic-curve-fitting-in-python-i-found-only-poly\n",
    "log_fit = np.polyfit(np.log(num_bidders), avg_revs, 1, full = True)\n",
    "sqrt_fit = np.polyfit(np.sqrt(num_bidders), avg_revs, 1, full = True)\n",
    "print('log fit: \\na =', log_fit[0][0], '\\nb =', log_fit[0][1], '\\nerror =', log_fit[1][0])\n",
    "print('\\nsqrt fit: \\na =', sqrt_fit[0][0], '\\nb =', sqrt_fit[0][1], '\\nerror =', sqrt_fit[1][0])"
   ]
  },
  {
   "cell_type": "code",
   "execution_count": null,
   "metadata": {},
   "outputs": [],
   "source": []
  }
 ],
 "metadata": {
  "kernelspec": {
   "display_name": "Python 3",
   "language": "python",
   "name": "python3"
  },
  "language_info": {
   "codemirror_mode": {
    "name": "ipython",
    "version": 3
   },
   "file_extension": ".py",
   "mimetype": "text/x-python",
   "name": "python",
   "nbconvert_exporter": "python",
   "pygments_lexer": "ipython3",
   "version": "3.6.5"
  }
 },
 "nbformat": 4,
 "nbformat_minor": 4
}
