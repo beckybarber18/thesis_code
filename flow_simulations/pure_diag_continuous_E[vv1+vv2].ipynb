{
 "cells": [
  {
   "cell_type": "code",
   "execution_count": 3,
   "metadata": {},
   "outputs": [],
   "source": [
    "#-----------------------------------------------------------------------\n",
    "# pure_diag_continuous_E[vv1+vv2].py\n",
    "# Author: Rebecca Barber\n",
    "# \n",
    "# calculate the expected max virtual value of the favorite item +\n",
    "# max virtual value of the non-favorite item for n bidders. \n",
    "# relevant flow: the pure diagonal one in the continuous setting\n",
    "#-----------------------------------------------------------------------\n",
    "\n",
    "import scipy.stats as st\n",
    "from statistics import *\n",
    "import matplotlib.pyplot as plt\n",
    "from sys import argv\n",
    "import numpy as np\n",
    "from math import *\n",
    "import pandas as pd\n",
    "from plotnine import *\n",
    "from random import * \n",
    "\n",
    "from IPython.core.interactiveshell import InteractiveShell\n",
    "InteractiveShell.ast_node_interactivity = \"all\""
   ]
  },
  {
   "cell_type": "markdown",
   "metadata": {},
   "source": [
    "# ER draws"
   ]
  },
  {
   "cell_type": "code",
   "execution_count": 12,
   "metadata": {},
   "outputs": [],
   "source": [
    "# draw w and beta\n",
    "def draw_alpha_beta():\n",
    "    alpha = random()\n",
    "    beta = random()\n",
    "    return alpha, beta"
   ]
  },
  {
   "cell_type": "markdown",
   "metadata": {},
   "source": [
    "# Flow Simulation"
   ]
  },
  {
   "cell_type": "code",
   "execution_count": 140,
   "metadata": {},
   "outputs": [],
   "source": [
    "# CALCULATE MAX SUM OR SUM OF MAXES????\n",
    "def calc_vv_sum(n):\n",
    "    # calc vvs for each bidder\n",
    "    vv1s = []\n",
    "    vv2s = []\n",
    "    vv_sums = []\n",
    "    \n",
    "    for i in range(n):\n",
    "        alpha, beta = draw_alpha_beta()\n",
    "        \n",
    "#         denom1 = (1-alpha) * (1-beta)**2\n",
    "#         denom2 = (1-beta+alpha*beta)**2\n",
    "        \n",
    "#         vv1 = 2/denom1\n",
    "#         vv2 = 2/denom2\n",
    "\n",
    "          # becky's way, lambda = -alpha^2\n",
    "#         vv1 = (2-alpha) / ((1-alpha)**2)\n",
    "#         vv2 = (2-alpha*beta) / ((1-alpha*beta)**2)\n",
    "        \n",
    "        # matt's way, lambda = 1-alpha^2\n",
    "        # matt things that vv1 = -1/alpha but I think that he made a calculation error?\n",
    "#         vv1 = (3 * alpha - 1) / (alpha*(1-alpha)) #-1/alpha\n",
    "#         vv2 = (2*alpha-beta-alpha**2 * beta) / (alpha * (1-alpha*beta)**2) \n",
    "\n",
    "#         vv1 = log(1/(1-alpha))\n",
    "#         vv2 = log(1/(1-beta))\n",
    "        \n",
    "          # works but ... what is this\n",
    "#         vv1 = log(alpha) * (log(alpha)*log(beta) - 2)\n",
    "#         vv2 = log(beta) * (log(beta)*log(beta) - 2)\n",
    "\n",
    "          # bad\n",
    "#         vv1_term1 = (2*alpha)/(alpha**2 * log(alpha+1))\n",
    "#         vv1_term2 = 2/(alpha**2)\n",
    "#         vv1 = vv1_term1 + vv1_term2\n",
    "        \n",
    "#         vv2_term1 = (-2 * log(2))/(beta*log(alpha+1))\n",
    "#         vv2_term2 = -1 * (2*((alpha+1)*log(alpha+1) - alpha) * (log(2))**2)/((log(alpha+1))**3 * beta**2)\n",
    "#         vv2 = vv2_term1 + vv2_term2\n",
    "\n",
    "        vv1 = alpha\n",
    "        vv2 = log(1/beta)\n",
    "\n",
    "        \n",
    "        vv_sums.append(vv1 + vv2)\n",
    "        vv1s.append(vv1)\n",
    "        vv2s.append(vv2)\n",
    "    \n",
    "    return max(vv1s) + max(vv2s)\n",
    "#     return max(vv_sums)"
   ]
  },
  {
   "cell_type": "markdown",
   "metadata": {},
   "source": [
    "# Variable Updates"
   ]
  },
  {
   "cell_type": "code",
   "execution_count": 141,
   "metadata": {},
   "outputs": [
    {
     "name": "stdout",
     "output_type": "stream",
     "text": [
      "[100, 110, 120, 130, 140, 150, 160, 170, 180, 190, 200, 210, 220, 230, 240, 250, 260, 270, 280, 290, 300, 310, 320, 330, 340, 350, 360, 370, 380, 390, 400, 410, 420, 430, 440, 450, 460, 470, 480, 490, 500]\n"
     ]
    }
   ],
   "source": [
    "num_trials = 1000 #100000\n",
    "min_bidders = 100\n",
    "max_bidders = 500\n",
    "bidder_step = 10\n",
    "\n",
    "num_bidders = []\n",
    "for i in range(min_bidders, max_bidders+1, bidder_step):\n",
    "    num_bidders.append(i)\n",
    "print(num_bidders)"
   ]
  },
  {
   "cell_type": "markdown",
   "metadata": {},
   "source": [
    "# Main"
   ]
  },
  {
   "cell_type": "code",
   "execution_count": 142,
   "metadata": {},
   "outputs": [
    {
     "name": "stdout",
     "output_type": "stream",
     "text": [
      "number of bidders:\n",
      "100: 6.200928820569153\n",
      "110: 6.235000488172593\n",
      "120: 6.364712085177109\n",
      "130: 6.402430668550302\n",
      "140: 6.516949128387837\n",
      "150: 6.662083900894324\n",
      "160: 6.646813456441285\n",
      "170: 6.690012672576892\n",
      "180: 6.748162185397441\n",
      "190: 6.815601620519195\n",
      "200: 6.8715689350192735\n",
      "210: 6.874240567847325\n",
      "220: 7.007885489942165\n",
      "230: 6.953123776857856\n",
      "240: 7.102550618672573\n",
      "250: 7.155204818898028\n",
      "260: 7.152425967074615\n",
      "270: 7.192995874887727\n",
      "280: 7.218832892864609\n",
      "290: 7.225111607178138\n",
      "300: 7.296779876596087\n",
      "310: 7.303317993843653\n",
      "320: 7.299290192767438\n",
      "330: 7.376293936966962\n",
      "340: 7.453588436241843\n",
      "350: 7.432339266106821\n",
      "360: 7.492511659900317\n",
      "370: 7.490805696755847\n",
      "380: 7.511100619965488\n",
      "390: 7.496847152565604\n",
      "400: 7.515061961271628\n",
      "410: 7.637487227855544\n",
      "420: 7.596227625455346\n",
      "430: 7.7191520292454925\n",
      "440: 7.707498078647771\n",
      "450: 7.686302907429317\n",
      "460: 7.775530658177395\n",
      "470: 7.691454801105975\n",
      "480: 7.7189610474473245\n",
      "490: 7.854336192904608\n",
      "500: 7.804185613330428\n"
     ]
    }
   ],
   "source": [
    "avg_vv_sums = []\n",
    "\n",
    "print('number of bidders:')\n",
    "for n in range(min_bidders, max_bidders+1, bidder_step):\n",
    "    print(n, end = \"\")\n",
    "\n",
    "    # run num_trials for each # of bidders so we can \n",
    "    # take the average\n",
    "    all_vv_sums = []\n",
    "    for i in range(num_trials):\n",
    "        vv_sum = calc_vv_sum(n)\n",
    "        all_vv_sums.append(vv_sum)  \n",
    "    mean_vv_sum = mean(all_vv_sums)\n",
    "    avg_vv_sums.append(mean_vv_sum)\n",
    "    print(':', mean_vv_sum)\n",
    "\n",
    "# save all of the data\n",
    "csv_file = './data/pure_diag_continuous_E[vv1+vv2]_' + str(min_bidders) + 'to' + \\\n",
    "    str(max_bidders) + 'bidders_' + str(bidder_step) + 'step_' + \\\n",
    "    str(num_trials) + 'trials.csv'\n",
    "\n",
    "df = pd.DataFrame(columns=['num bidders', 'avg (vv_1 + vv2)'])\n",
    "for i in range(len(num_bidders)):\n",
    "    n = num_bidders[i]\n",
    "    avg_vv_sum = avg_vv_sums[i]\n",
    "    df = df.append({'num bidders': n, 'avg (vv_1 + vv2)': avg_vv_sum}, ignore_index=True)\n",
    "\n",
    "df.to_csv(csv_file)"
   ]
  },
  {
   "cell_type": "markdown",
   "metadata": {},
   "source": [
    "# Plotting"
   ]
  },
  {
   "cell_type": "code",
   "execution_count": 143,
   "metadata": {},
   "outputs": [
    {
     "data": {
      "text/plain": [
       "<Figure size 648x360 with 0 Axes>"
      ]
     },
     "execution_count": 143,
     "metadata": {},
     "output_type": "execute_result"
    },
    {
     "data": {
      "text/plain": [
       "[<matplotlib.lines.Line2D at 0x127275c88>,\n",
       " <matplotlib.lines.Line2D at 0x127275dd8>,\n",
       " <matplotlib.lines.Line2D at 0x127275f28>]"
      ]
     },
     "execution_count": 143,
     "metadata": {},
     "output_type": "execute_result"
    },
    {
     "data": {
      "text/plain": [
       "<matplotlib.legend.Legend at 0x12711e9e8>"
      ]
     },
     "execution_count": 143,
     "metadata": {},
     "output_type": "execute_result"
    },
    {
     "data": {
      "image/png": "[encoded data removed]",
      "text/plain": [
       "<Figure size 648x360 with 1 Axes>"
      ]
     },
     "metadata": {},
     "output_type": "display_data"
    }
   ],
   "source": [
    "# plot the results\n",
    "log_bench = [3.2*np.log(n) for n in num_bidders]\n",
    "sqrt_bench = [1.5*np.sqrt(n) for n in num_bidders]\n",
    "\n",
    "figure_name = './figures/pure_diag_continuous_E[vv1+vv2]_' + str(min_bidders) + 'to' + \\\n",
    "    str(max_bidders) + 'bidders_' + str(bidder_step) + 'step_' + \\\n",
    "    str(num_trials) + 'trials.png'\n",
    "\n",
    "plt.style.use('ggplot')\n",
    "plt.figure(figsize=(9,5))\n",
    "with plt.rc_context({'axes.edgecolor':'black', 'xtick.color':'black', 'ytick.color':'black'}):\n",
    "    plt.plot(num_bidders, log_bench, 'r-',\n",
    "        num_bidders, sqrt_bench, 'b-',\n",
    "         num_bidders, avg_vv_sums,'ko', \n",
    "         markersize=3, linewidth = 4)\n",
    "plt.legend(['c * log(n)', 'c * sqrt(n)', 'Avg (VV1 + VV2)'])\n",
    "xlab = plt.xlabel('Number of Bidders', fontsize=16)\n",
    "ylab = plt.ylabel('Average [Max VV1 + Max VV1]', fontsize=16)\n",
    "xlab.set_color('black')\n",
    "ylab.set_color('black')"
   ]
  },
  {
   "cell_type": "code",
   "execution_count": 144,
   "metadata": {},
   "outputs": [
    {
     "name": "stdout",
     "output_type": "stream",
     "text": [
      "log fit: \n",
      "a = 1.015223859978424 \n",
      "b = 1.4953913464949717 \n",
      "error = 0.05721033322384855\n",
      "\n",
      "sqrt fit: \n",
      "a = 0.12734947500880944 \n",
      "b = 5.034325706881687 \n",
      "error = 0.14249298813278824\n"
     ]
    }
   ],
   "source": [
    "# For fitting y = B + A log x, just fit y against (log x)\n",
    "# For fitting y = B + A sqrt n, just fit y against (sqrt x)\n",
    "# https://stackoverflow.com/questions/3433486/how-to-do-\n",
    "# exponential-and-logarithmic-curve-fitting-in-python-i-found-only-poly\n",
    "log_fit = np.polyfit(np.log(num_bidders), avg_vv_sums, 1, full = True)\n",
    "sqrt_fit = np.polyfit(np.sqrt(num_bidders), avg_vv_sums, 1, full = True)\n",
    "print('log fit: \\na =', log_fit[0][0], '\\nb =', log_fit[0][1], '\\nerror =', log_fit[1][0])\n",
    "print('\\nsqrt fit: \\na =', sqrt_fit[0][0], '\\nb =', sqrt_fit[0][1], '\\nerror =', sqrt_fit[1][0])"
   ]
  },
  {
   "cell_type": "code",
   "execution_count": null,
   "metadata": {},
   "outputs": [],
   "source": []
  },
  {
   "cell_type": "code",
   "execution_count": null,
   "metadata": {},
   "outputs": [],
   "source": []
  },
  {
   "cell_type": "code",
   "execution_count": null,
   "metadata": {},
   "outputs": [],
   "source": []
  }
 ],
 "metadata": {
  "kernelspec": {
   "display_name": "Python 3",
   "language": "python",
   "name": "python3"
  },
  "language_info": {
   "codemirror_mode": {
    "name": "ipython",
    "version": 3
   },
   "file_extension": ".py",
   "mimetype": "text/x-python",
   "name": "python",
   "nbconvert_exporter": "python",
   "pygments_lexer": "ipython3",
   "version": "3.6.5"
  }
 },
 "nbformat": 4,
 "nbformat_minor": 4
}
