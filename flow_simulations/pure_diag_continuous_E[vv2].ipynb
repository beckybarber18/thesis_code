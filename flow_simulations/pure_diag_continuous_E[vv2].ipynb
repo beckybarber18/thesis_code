{
 "cells": [
  {
   "cell_type": "code",
   "execution_count": 2,
   "metadata": {},
   "outputs": [],
   "source": [
    "#-----------------------------------------------------------------------\n",
    "# diag_to_zero_continuous_E[vv2].py\n",
    "# Author: Rebecca Barber\n",
    "# \n",
    "# calculate the expected max virtual value of the non-favorite item \n",
    "# for n bidders. relevant flow: the diagonal one where everything points\n",
    "# to zero. continuous setting. use formula derived with matt on 4/13\n",
    "#-----------------------------------------------------------------------\n",
    "\n",
    "import scipy.stats as st\n",
    "from statistics import *\n",
    "import matplotlib.pyplot as plt\n",
    "from sys import argv\n",
    "import numpy as np\n",
    "from math import *\n",
    "import pandas as pd\n",
    "from plotnine import *\n",
    "from random import * \n",
    "\n",
    "from IPython.core.interactiveshell import InteractiveShell\n",
    "InteractiveShell.ast_node_interactivity = \"all\""
   ]
  },
  {
   "cell_type": "markdown",
   "metadata": {},
   "source": [
    "# ER draws"
   ]
  },
  {
   "cell_type": "code",
   "execution_count": 3,
   "metadata": {},
   "outputs": [],
   "source": [
    "# draw w and beta\n",
    "def draw_alpha_beta():\n",
    "    alpha = random()\n",
    "    beta = random()\n",
    "    return alpha, beta"
   ]
  },
  {
   "cell_type": "markdown",
   "metadata": {},
   "source": [
    "# Flow Simulation"
   ]
  },
  {
   "cell_type": "code",
   "execution_count": 4,
   "metadata": {},
   "outputs": [],
   "source": [
    "# simulates flow given n bidders and m items\n",
    "# essentially just arranging the n*m values and using\n",
    "# the given mechanism to \"star\" values\n",
    "def calc_vv2(n):\n",
    "    # calc vv for each bidder\n",
    "    all_vvs = []\n",
    "    for i in range(n):\n",
    "        alpha, beta = draw_alpha_beta()\n",
    "        num = alpha\n",
    "        denom = (1-beta+alpha*beta)**2\n",
    "        vv = num/denom\n",
    "        all_vvs.append(vv)\n",
    "        \n",
    "    max_vv2 = max(max(all_vvs),0)\n",
    "    return max_vv2"
   ]
  },
  {
   "cell_type": "markdown",
   "metadata": {},
   "source": [
    "# Variable Updates"
   ]
  },
  {
   "cell_type": "code",
   "execution_count": 14,
   "metadata": {},
   "outputs": [
    {
     "name": "stdout",
     "output_type": "stream",
     "text": [
      "[100, 110, 120, 130, 140, 150, 160, 170, 180, 190, 200, 210, 220, 230, 240, 250, 260, 270, 280, 290, 300, 310, 320, 330, 340, 350, 360, 370, 380, 390, 400, 410, 420, 430, 440, 450, 460, 470, 480, 490, 500]\n"
     ]
    }
   ],
   "source": [
    "num_trials = 100000\n",
    "min_bidders = 100 \n",
    "max_bidders = 500\n",
    "bidder_step = 10\n",
    "\n",
    "num_bidders = []\n",
    "for i in range(min_bidders, max_bidders+1, bidder_step):\n",
    "    num_bidders.append(i)\n",
    "print(num_bidders)"
   ]
  },
  {
   "cell_type": "markdown",
   "metadata": {},
   "source": [
    "# Main"
   ]
  },
  {
   "cell_type": "code",
   "execution_count": 15,
   "metadata": {},
   "outputs": [
    {
     "name": "stdout",
     "output_type": "stream",
     "text": [
      "number of bidders:\n",
      "100: 7.45746398160515\n",
      "110: 7.842566702925921\n",
      "120: 8.147974216223355\n",
      "130: 8.480282509032351\n",
      "140: 8.905999172006348\n",
      "150: 9.06872952124137\n",
      "160: 9.344163599249695\n",
      "170: 9.550504535471758\n",
      "180: 10.019517857872676\n",
      "190: 10.149485396113958\n",
      "200: 10.437285787801285\n",
      "210: 10.66357383846506\n",
      "220: 10.955311094960424\n",
      "230: 11.20674337442823\n",
      "240: 11.353530179087397\n",
      "250: 11.54650509480031\n",
      "260: 11.782237834420137\n",
      "270: 12.13960023633748\n",
      "280: 12.299535152242981\n",
      "290: 12.50826157186163\n",
      "300: 12.810745495825097\n",
      "310: 12.911612929370175\n",
      "320: 13.183004093827941\n",
      "330: 13.285942661816739\n",
      "340: 13.489811881652155\n",
      "350: 13.739116920221418\n",
      "360: 13.955953444345703\n",
      "370: 13.912578123060278\n",
      "380: 14.237740333990084\n",
      "390: 14.430633029988412\n",
      "400: 14.75505516693969\n",
      "410: 14.732831121051847\n",
      "420: 15.03676704854263\n",
      "430: 15.12849872401449\n",
      "440: 15.371987253550378\n",
      "450: 15.469355650077905\n",
      "460: 15.729761698275333\n",
      "470: 15.951125969379405\n",
      "480: 15.98707441823967\n",
      "490: 16.175210503806262\n",
      "500: 16.395023921781814\n"
     ]
    }
   ],
   "source": [
    "avg_vv2s = []\n",
    "\n",
    "print('number of bidders:')\n",
    "for n in range(min_bidders, max_bidders+1, bidder_step):\n",
    "    print(n, end = \"\")\n",
    "\n",
    "    # run num_trials for each # of bidders so we can \n",
    "    # take the average\n",
    "    all_vv2s = []\n",
    "    for i in range(num_trials):\n",
    "        max_vv2 = calc_vv2(n)\n",
    "        all_vv2s.append(max_vv2)  \n",
    "    mean_vv2 = mean(all_vv2s)\n",
    "    avg_vv2s.append(mean_vv2)\n",
    "    print(':', mean_vv2)\n",
    "\n",
    "# save all of the data\n",
    "csv_file = './data/diag_to_zero_continuous_E[vv2]_' + str(min_bidders) + 'to' + \\\n",
    "    str(max_bidders) + 'bidders_' + str(bidder_step) + 'step_' + \\\n",
    "    str(num_trials) + 'trials.csv'\n",
    "\n",
    "df = pd.DataFrame(columns=['num bidders', 'avg VV_2'])\n",
    "for i in range(len(num_bidders)):\n",
    "    n = num_bidders[i]\n",
    "    avg_vv2 = avg_vv2s[i]\n",
    "    df = df.append({'num bidders': n, 'avg VV_2': avg_vv2}, ignore_index=True)\n",
    "\n",
    "df.to_csv(csv_file)"
   ]
  },
  {
   "cell_type": "markdown",
   "metadata": {},
   "source": [
    "# Plotting"
   ]
  },
  {
   "cell_type": "code",
   "execution_count": 24,
   "metadata": {},
   "outputs": [
    {
     "data": {
      "text/plain": [
       "<Figure size 648x360 with 0 Axes>"
      ]
     },
     "execution_count": 24,
     "metadata": {},
     "output_type": "execute_result"
    },
    {
     "data": {
      "text/plain": [
       "[<matplotlib.lines.Line2D at 0x126e494a8>,\n",
       " <matplotlib.lines.Line2D at 0x126e495f8>,\n",
       " <matplotlib.lines.Line2D at 0x126e49748>]"
      ]
     },
     "execution_count": 24,
     "metadata": {},
     "output_type": "execute_result"
    },
    {
     "data": {
      "text/plain": [
       "<matplotlib.legend.Legend at 0x1269ce8d0>"
      ]
     },
     "execution_count": 24,
     "metadata": {},
     "output_type": "execute_result"
    },
    {
     "data": {
      "text/plain": [
       "Text(0.5, 1.0, 'Continuous Pure Diagonal Flow')"
      ]
     },
     "execution_count": 24,
     "metadata": {},
     "output_type": "execute_result"
    },
    {
     "data": {
      "image/png": "[encoded data removed]",
      "text/plain": [
       "<Figure size 648x360 with 1 Axes>"
      ]
     },
     "metadata": {},
     "output_type": "display_data"
    }
   ],
   "source": [
    "# plot the results\n",
    "title = 'Continuous Pure Diagonal Flow'\n",
    "log_bench = [1.6*np.log(n) for n in num_bidders]\n",
    "sqrt_bench = [0.75*np.sqrt(n) for n in num_bidders]\n",
    "\n",
    "plt1 = plt.style.use('ggplot')\n",
    "plt.figure(figsize=(9,5))\n",
    "with plt.rc_context({'axes.edgecolor':'black', 'xtick.color':'black', 'ytick.color':'black'}):\n",
    "    plt.plot(num_bidders, log_bench, 'r-',\n",
    "        num_bidders, sqrt_bench, 'b-',\n",
    "         num_bidders, avg_vv2s,'ko', \n",
    "         markersize=3, linewidth = 4)\n",
    "plt.legend(['c1 * log(n)', 'c2 * sqrt(n)', 'Adjusted Revenue'])\n",
    "plt.title(title, fontsize = 24)\n",
    "xlab = plt.xlabel('Number of Bidders', fontsize=16)\n",
    "ylab = plt.ylabel('Adjusted Revenue', fontsize=16)\n",
    "xlab.set_color('black')\n",
    "ylab.set_color('black')"
   ]
  },
  {
   "cell_type": "code",
   "execution_count": 17,
   "metadata": {},
   "outputs": [
    {
     "name": "stdout",
     "output_type": "stream",
     "text": [
      "log fit: \n",
      "a = 5.658835333043834 \n",
      "b = -19.30357666402398 \n",
      "error = 3.401282013320418\n",
      "\n",
      "sqrt fit: \n",
      "a = 0.7177207090806709 \n",
      "b = 0.28886049454597873 \n",
      "error = 0.15705811128049404\n"
     ]
    }
   ],
   "source": [
    "# For fitting y = B + A log x, just fit y against (log x)\n",
    "# For fitting y = B + A sqrt n, just fit y against (sqrt x)\n",
    "# https://stackoverflow.com/questions/3433486/how-to-do-\n",
    "# exponential-and-logarithmic-curve-fitting-in-python-i-found-only-poly\n",
    "log_fit = np.polyfit(np.log(num_bidders), avg_vv2s, 1, full = True)\n",
    "sqrt_fit = np.polyfit(np.sqrt(num_bidders), avg_vv2s, 1, full = True)\n",
    "print('log fit: \\na =', log_fit[0][0], '\\nb =', log_fit[0][1], '\\nerror =', log_fit[1][0])\n",
    "print('\\nsqrt fit: \\na =', sqrt_fit[0][0], '\\nb =', sqrt_fit[0][1], '\\nerror =', sqrt_fit[1][0])"
   ]
  },
  {
   "cell_type": "code",
   "execution_count": null,
   "metadata": {},
   "outputs": [],
   "source": []
  },
  {
   "cell_type": "code",
   "execution_count": null,
   "metadata": {},
   "outputs": [],
   "source": []
  }
 ],
 "metadata": {
  "kernelspec": {
   "display_name": "Python 3",
   "language": "python",
   "name": "python3"
  },
  "language_info": {
   "codemirror_mode": {
    "name": "ipython",
    "version": 3
   },
   "file_extension": ".py",
   "mimetype": "text/x-python",
   "name": "python",
   "nbconvert_exporter": "python",
   "pygments_lexer": "ipython3",
   "version": "3.6.5"
  }
 },
 "nbformat": 4,
 "nbformat_minor": 4
}
