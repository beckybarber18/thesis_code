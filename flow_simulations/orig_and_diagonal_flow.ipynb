{
 "cells": [
  {
   "cell_type": "code",
   "execution_count": 5,
   "metadata": {},
   "outputs": [],
   "source": [
    "#-----------------------------------------------------------------------\n",
    "# diagonal.py\n",
    "# Author: Rebecca Barber\n",
    "# \n",
    "# simulates the expected revenue given the flow discussed in meeting\n",
    "# on 2/11. see notes for more details\n",
    "#-----------------------------------------------------------------------\n",
    "\n",
    "import scipy.stats as st\n",
    "from statistics import *\n",
    "import matplotlib.pyplot as plt\n",
    "from sys import argv\n",
    "import numpy as np\n",
    "from math import *\n",
    "import pandas as pd\n",
    "from plotnine import *\n",
    "from random import * \n",
    "\n",
    "from IPython.core.interactiveshell import InteractiveShell\n",
    "InteractiveShell.ast_node_interactivity = \"all\""
   ]
  },
  {
   "cell_type": "markdown",
   "metadata": {},
   "source": [
    "# ER draws"
   ]
  },
  {
   "cell_type": "code",
   "execution_count": 6,
   "metadata": {},
   "outputs": [],
   "source": [
    "# draws value from ER curve\n",
    "def er_draw():\n",
    "\tq = random()\n",
    "\treturn 1/(1-q)\n",
    "\n",
    "# draws d values from the ER curve\n",
    "def draw_vals(d):\n",
    "\tvals = []\n",
    "\tfor i in range(d):\n",
    "\t\tdraw = er_draw()\n",
    "\t\tvals.append(draw)\n",
    "\treturn vals"
   ]
  },
  {
   "cell_type": "markdown",
   "metadata": {},
   "source": [
    "# Flow Simulation"
   ]
  },
  {
   "cell_type": "code",
   "execution_count": 7,
   "metadata": {},
   "outputs": [],
   "source": [
    "# simulates flow given n bidders and m items\n",
    "# essentially just arranging the n*m values and using\n",
    "# the given mechanism to \"star\" values\n",
    "def orig_flow(n, m):\n",
    "\n",
    "\t# need to get n*m values\n",
    "    vals = draw_vals(n*m)\n",
    "    \n",
    "    # divide into 2 cols\n",
    "    col1 = vals[0:n-1]\n",
    "    col2 = vals[n:len(vals)-1]\n",
    "    assert len(col1) == len(col2), \"columns aren't the same size\"\n",
    "    \n",
    "    # get largest \"unstarred\" value in each column\n",
    "    highest_unstarred_col1 = 0\n",
    "    highest_unstarred_col2 = 0\n",
    "    for i in range(len(col1)):\n",
    "        val_col1 = col1[i]\n",
    "        val_col2 = col2[i]\n",
    "        # item \"starred\" if it is bidder i's favorite\n",
    "        if val_col1 > val_col2 and val_col2 > highest_unstarred_col2: \n",
    "            highest_unstarred_col2 = val_col2\n",
    "        if val_col2 > val_col1 and val_col1 > highest_unstarred_col1:\n",
    "            highest_unstarred_col1 = val_col1\n",
    "\n",
    "    return highest_unstarred_col1 + highest_unstarred_col2"
   ]
  },
  {
   "cell_type": "code",
   "execution_count": 8,
   "metadata": {},
   "outputs": [],
   "source": [
    "# simulates flow given n bidders and m items\n",
    "# essentially just arranging the n*m values and using\n",
    "# the given mechanism to \"star\" values\n",
    "def diag_flow(n, m, eps):\n",
    "\n",
    "\t# need to get n*m values\n",
    "    vals = draw_vals(n*m)\n",
    "    \n",
    "    # divide into 2 cols\n",
    "    col1 = vals[0:n]\n",
    "    col2 = vals[n:len(vals)]\n",
    "    assert len(col1) == len(col2), \"columns aren't the same size\"\n",
    "    # print('\\nitem 1:', col1)\n",
    "    # print('item 1:', col2)\n",
    "    \n",
    "    # get largest \"unstarred\" value in each column\n",
    "    # need to compute \\sum_j \\max_i {virt_val_ij} \n",
    "    # virt_val_ij = 0 if j is i's favorite item\n",
    "    # otherwise, = formula below\n",
    "    highest_virt_val_col1 = 0\n",
    "    highest_virt_val_col2 = 0\n",
    "    for i in range(len(col1)):\n",
    "        \n",
    "        val_col1 = col1[i]\n",
    "        val_col2 = col2[i]\n",
    "        \n",
    "        max_val = val_col1 if val_col1 > val_col2 else val_col2\n",
    "        other_val = val_col2 if val_col1 > val_col2 else val_col1\n",
    "        \n",
    "        # print('max_val:', max_val, 'other_val:', other_val)\n",
    "        \n",
    "        # item 1 is the favorite item (max)\n",
    "        # item 2 is \"other\"\n",
    "        if val_col1 > val_col2:\n",
    "            virt_val_col1 = 0 \n",
    "            virt_val_col2 = (other_val*(max_val-other_val))/(max_val-eps*max_val*other_val)\n",
    "        # item 1 is \"other\"\n",
    "        # item 2 is the favorite item (max)\n",
    "        else: \n",
    "            virt_val_col2 = 0 \n",
    "            virt_val_col1 = (other_val*(max_val-other_val))/(max_val-eps*max_val*other_val)\n",
    "            \n",
    "        # print('virt_val_col1:', virt_val_col1, 'virt_val_col2:', virt_val_col2, '\\n')\n",
    "            \n",
    "        if virt_val_col1 > highest_virt_val_col1: \n",
    "            highest_virt_val_col1 = virt_val_col1\n",
    "        if virt_val_col2 > highest_virt_val_col2: \n",
    "            highest_virt_val_col2 = virt_val_col2\n",
    "            \n",
    "    # print('highest_virt_val_col1:', highest_virt_val_col1, 'highest_virt_val_col2:', highest_virt_val_col2)\n",
    "\n",
    "    return highest_virt_val_col2 + highest_virt_val_col2"
   ]
  },
  {
   "cell_type": "markdown",
   "metadata": {},
   "source": [
    "# Variable Updates"
   ]
  },
  {
   "cell_type": "code",
   "execution_count": 22,
   "metadata": {},
   "outputs": [
    {
     "name": "stdout",
     "output_type": "stream",
     "text": [
      "[10, 20, 30, 40, 50, 60, 70, 80, 90, 100, 110, 120, 130, 140, 150, 160, 170, 180, 190, 200, 210, 220, 230, 240, 250, 260, 270, 280, 290, 300, 310, 320, 330, 340, 350, 360, 370, 380, 390, 400, 410, 420, 430, 440, 450, 460, 470, 480, 490, 500, 510, 520, 530, 540, 550, 560, 570, 580, 590, 600, 610, 620, 630, 640, 650, 660, 670, 680, 690, 700, 710, 720, 730, 740, 750, 760, 770, 780, 790, 800, 810, 820, 830, 840, 850, 860, 870, 880, 890, 900, 910, 920, 930, 940, 950, 960, 970, 980, 990, 1000]\n"
     ]
    }
   ],
   "source": [
    "num_trials = 500000\n",
    "min_bidders = 10\n",
    "max_bidders = 1000\n",
    "bidder_step = 10\n",
    "num_items = 2\n",
    "eps = 1/1000000\n",
    "\n",
    "num_bidders = []\n",
    "for i in range(min_bidders, max_bidders+1, bidder_step):\n",
    "    num_bidders.append(i)\n",
    "print(num_bidders)"
   ]
  },
  {
   "cell_type": "markdown",
   "metadata": {},
   "source": [
    "# Main"
   ]
  },
  {
   "cell_type": "code",
   "execution_count": 23,
   "metadata": {},
   "outputs": [
    {
     "name": "stdout",
     "output_type": "stream",
     "text": [
      "number of bidders:\n",
      "10: 7.61100501453098 (orig), 4.6156405780525 (diag)\n",
      "20: 10.997590137065192 (orig), 6.507241124617844 (diag)\n",
      "30: 13.555887985145773 (orig), 8.009009255853067 (diag)\n",
      "40: 15.726315838583037 (orig), 9.197365735930475 (diag)\n",
      "50: 17.62077158074705 (orig), 10.252199609651601 (diag)\n",
      "60: 19.31433738788123 (orig), 11.240852559428307 (diag)\n",
      "70: 20.87779370465678 (orig), 12.097702852164808 (diag)\n",
      "80: 22.232082061267228 (orig), 12.941416399757975 (diag)\n",
      "90: 23.799821773918673 (orig), 13.791797376451957 (diag)\n",
      "100: 24.9173174234373 (orig), 14.506749005981685 (diag)\n",
      "110: 26.15428826746357 (orig), 15.187926031527956 (diag)\n",
      "120: 27.332503101088946 (orig), 15.81746579032273 (diag)\n",
      "130: 28.52920476780027 (orig), 16.54967080781539 (diag)\n",
      "140: 29.676748471845745 (orig), 17.20733843751777 (diag)\n",
      "150: 30.49828987354998 (orig), 17.728236525924483 (diag)\n",
      "160: 31.5303674021771 (orig), 18.27209573638075 (diag)\n",
      "170: 32.56204125356554 (orig), 18.820755848248414 (diag)\n",
      "180: 33.741373612309154 (orig), 19.473745945503193 (diag)\n",
      "190: 34.46641797716189 (orig), 20.050574729739274 (diag)\n",
      "200: 35.22829074662753 (orig), 20.440022057096602 (diag)\n",
      "210: 36.26895685965293 (orig), 20.98113633135066 (diag)\n",
      "220: 37.23818094191483 (orig), 21.518010114677445 (diag)\n",
      "230: 37.96218228457777 (orig), 21.84631832639599 (diag)\n",
      "240: 38.60820479569535 (orig), 22.499827767212675 (diag)\n",
      "250: 39.586785154619854 (orig), 22.98778271186944 (diag)\n",
      "260: 40.28649340064901 (orig), 23.50818142763186 (diag)\n",
      "270: 41.117344711556775 (orig), 23.683661995802698 (diag)\n",
      "280: 41.84344299265096 (orig), 24.178765968039528 (diag)\n",
      "290: 42.53472485751017 (orig), 24.626614118974373 (diag)\n",
      "300: 43.490940898097115 (orig), 25.028404594702558 (diag)\n",
      "310: 44.120302515882884 (orig), 25.420686815315666 (diag)\n",
      "320: 44.65175893710956 (orig), 25.913516965068244 (diag)\n",
      "330: 45.47718443368259 (orig), 26.18325386012634 (diag)\n",
      "340: 46.358940482267855 (orig), 26.639538053965378 (diag)\n",
      "350: 46.81903182429574 (orig), 27.13385646942944 (diag)\n",
      "360: 47.48853471762697 (orig), 27.447592267812972 (diag)\n",
      "370: 48.07402530078752 (orig), 27.782489936955642 (diag)\n",
      "380: 48.68635201147324 (orig), 28.12839393496574 (diag)\n",
      "390: 49.43248499083196 (orig), 28.711157899717307 (diag)\n",
      "400: 50.054318944216384 (orig), 28.870942788495686 (diag)\n",
      "410: 50.670984990297555 (orig), 29.246399249744695 (diag)\n",
      "420: 51.24679966852748 (orig), 29.74235917205391 (diag)\n",
      "430: 51.968809154922106 (orig), 30.46876543104078 (diag)\n",
      "440: 52.513064620249686 (orig), 30.347506984009907 (diag)\n",
      "450: 53.07063194539295 (orig), 30.70988650692552 (diag)\n",
      "460: 53.80331663589102 (orig), 31.102051298601694 (diag)\n",
      "470: 54.238403372399056 (orig), 31.46954051867813 (diag)\n",
      "480: 54.7770791326474 (orig), 31.624329471033835 (diag)\n",
      "490: 55.61597681446588 (orig), 31.93703378012904 (diag)\n",
      "500: 55.95223306268919 (orig), 32.25617409694724 (diag)\n",
      "510: 56.656226844250895 (orig), 32.5729536198345 (diag)\n",
      "520: 56.99096932960272 (orig), 32.92813526186554 (diag)\n",
      "530: 57.482653769456725 (orig), 33.3160023581541 (diag)\n",
      "540: 58.19542802875056 (orig), 33.69601475463821 (diag)\n",
      "550: 58.92035058775332 (orig), 34.02493863721862 (diag)\n",
      "560: 59.18834014972388 (orig), 34.38133562555806 (diag)\n",
      "570: 59.84259367525785 (orig), 34.507231859019214 (diag)\n",
      "580: 60.25148384182475 (orig), 34.85609294477035 (diag)\n",
      "590: 60.62429738044816 (orig), 35.06685911035636 (diag)\n",
      "600: 61.142980456377884 (orig), 35.3354065132286 (diag)\n",
      "610: 62.06850066217109 (orig), 35.83465250476636 (diag)\n",
      "620: 62.374949569551866 (orig), 36.04592882396045 (diag)\n",
      "630: 62.693763158827835 (orig), 36.12665047841873 (diag)\n",
      "640: 63.38369403815902 (orig), 36.36448824600184 (diag)\n",
      "650: 64.16191471223674 (orig), 36.69956147442498 (diag)\n",
      "660: 64.44771968999996 (orig), 37.37670687663869 (diag)\n",
      "670: 64.80922967395657 (orig), 37.51633926499634 (diag)\n",
      "680: 65.36810582049858 (orig), 37.847657759980194 (diag)\n",
      "690: 65.78359847963884 (orig), 37.97660976030231 (diag)\n",
      "700: 66.18923610297892 (orig), 38.21707120042591 (diag)\n",
      "710: 66.51134555768763 (orig), 38.56599192910884 (diag)\n",
      "720: 67.50703365727564 (orig), 38.69513745518842 (diag)\n",
      "730: 67.31212251957749 (orig), 39.176246212543106 (diag)\n",
      "740: 68.015649412647 (orig), 39.29589573830714 (diag)\n",
      "750: 68.69910738581285 (orig), 39.568715198679904 (diag)\n",
      "760: 69.49594797318954 (orig), 39.92031405928679 (diag)\n",
      "770: 69.6251690629622 (orig), 40.21945305731282 (diag)\n",
      "780: 69.7991925694953 (orig), 40.328084235444116 (diag)\n",
      "790: 70.54438014612765 (orig), 40.72944899175841 (diag)\n",
      "800: 70.86936171264892 (orig), 40.875410107348166 (diag)\n",
      "810: 71.22602311889547 (orig), 41.1837507813109 (diag)\n",
      "820: 71.76890446228333 (orig), 41.50994996708852 (diag)\n",
      "830: 72.01715116984037 (orig), 41.69722337656187 (diag)\n",
      "840: 72.63280458108936 (orig), 42.16838919405181 (diag)\n",
      "850: 73.10087022633289 (orig), 42.07785096703064 (diag)\n",
      "860: 73.45326162124881 (orig), 42.475173917564796 (diag)\n",
      "870: 73.94184546624965 (orig), 42.77145416400685 (diag)\n",
      "880: 74.27097212799505 (orig), 43.03264776587941 (diag)\n",
      "890: 74.67687845230222 (orig), 43.193596259279516 (diag)\n",
      "900: 75.29803509378935 (orig), 43.63218595289994 (diag)\n",
      "910: 75.57585499330828 (orig), 43.823838661305736 (diag)\n",
      "920: 75.86601090964557 (orig), 43.88956362617722 (diag)\n",
      "930: 76.5401446609345 (orig), 44.076072458896405 (diag)\n",
      "940: 76.77429189616603 (orig), 44.24227408498395 (diag)\n",
      "950: 77.33287786211653 (orig), 44.423978598621495 (diag)\n",
      "960: 77.42058650351512 (orig), 44.775433449063925 (diag)\n",
      "970: 78.22424221984457 (orig), 45.129248734485614 (diag)\n",
      "980: 78.05439589625715 (orig), 45.328041349155654 (diag)\n",
      "990: 78.86787325155262 (orig), 45.62953019263743 (diag)\n",
      "1000: 79.24336663686728 (orig), 46.76525427858756 (diag)\n"
     ]
    }
   ],
   "source": [
    "avg_diag_revs = []\n",
    "avg_orig_revs = []\n",
    "\n",
    "print('number of bidders:')\n",
    "for n in range(min_bidders, max_bidders+1, bidder_step):\n",
    "    print(n, end = \"\")\n",
    "\n",
    "    # run num_trials for each # of bidders so we can \n",
    "    # take the average\n",
    "    all_orig_revs = []\n",
    "    all_diag_revs = []\n",
    "    for i in range(num_trials):\n",
    "        diag_rev = diag_flow(n, num_items, eps)\n",
    "        orig_rev = orig_flow(n, num_items)\n",
    "        all_diag_revs.append(diag_rev)  \n",
    "        all_orig_revs.append(orig_rev)  \n",
    "        \n",
    "    mean_diag_rev = mean(all_diag_revs)\n",
    "    mean_orig_rev = mean(all_orig_revs)\n",
    "    avg_diag_revs.append(mean_diag_rev)\n",
    "    avg_orig_revs.append(mean_orig_rev)\n",
    "    \n",
    "    print(':', mean_orig_rev, '(orig),', mean_diag_rev, '(diag)')\n",
    "\n",
    "# save all of the data\n",
    "csv_file = './data/orig_and_diag_flow' + str(min_bidders) + 'to' + \\\n",
    "    str(max_bidders) + 'bidders_' + str(bidder_step) + 'step_' + \\\n",
    "    str(num_trials) + 'trials.csv'\n",
    "\n",
    "df = pd.DataFrame(columns=['num bidders', 'avg orig rev', 'avg diag rev'])\n",
    "for i in range(len(num_bidders)):\n",
    "    n = num_bidders[i]\n",
    "    avg_orig_rev = avg_orig_revs[i]\n",
    "    avg_diag_rev = avg_diag_revs[i]\n",
    "    df = df.append({'num bidders': n, 'avg orig rev': avg_orig_rev, \\\n",
    "                    'avg diag rev': avg_diag_rev}, ignore_index=True)\n",
    "\n",
    "df.to_csv(csv_file)"
   ]
  },
  {
   "cell_type": "markdown",
   "metadata": {},
   "source": [
    "# Plotting"
   ]
  },
  {
   "cell_type": "code",
   "execution_count": 32,
   "metadata": {},
   "outputs": [
    {
     "data": {
      "text/plain": [
       "<Figure size 648x360 with 0 Axes>"
      ]
     },
     "execution_count": 32,
     "metadata": {},
     "output_type": "execute_result"
    },
    {
     "data": {
      "text/plain": [
       "[<matplotlib.lines.Line2D at 0x12539a518>,\n",
       " <matplotlib.lines.Line2D at 0x12539a668>,\n",
       " <matplotlib.lines.Line2D at 0x12539a7b8>,\n",
       " <matplotlib.lines.Line2D at 0x12539a8d0>]"
      ]
     },
     "execution_count": 32,
     "metadata": {},
     "output_type": "execute_result"
    },
    {
     "data": {
      "text/plain": [
       "<matplotlib.legend.Legend at 0x125369240>"
      ]
     },
     "execution_count": 32,
     "metadata": {},
     "output_type": "execute_result"
    },
    {
     "data": {
      "image/png": "[encoded data removed]",
      "text/plain": [
       "<Figure size 648x360 with 1 Axes>"
      ]
     },
     "metadata": {},
     "output_type": "display_data"
    }
   ],
   "source": [
    "# plot the results\n",
    "log_bench = [2*np.log(n) for n in num_bidders]\n",
    "sqrt_bench = [1.4*np.sqrt(n) for n in num_bidders]\n",
    "\n",
    "figure_name = './figures/orig_and_diag_flow' + str(min_bidders) + 'to' + \\\n",
    "    str(max_bidders) + 'bidders_' + str(bidder_step) + 'step_' + \\\n",
    "    str(num_trials) + 'trials.png'\n",
    "\n",
    "plt.style.use('ggplot')\n",
    "plt.figure(figsize=(9,5))\n",
    "with plt.rc_context({'axes.edgecolor':'black', 'xtick.color':'black', 'ytick.color':'black'}):\n",
    "    plt.plot(num_bidders, log_bench, 'r-',\n",
    "        num_bidders, sqrt_bench, 'g-',\n",
    "         num_bidders, avg_orig_revs,'ko',\n",
    "         num_bidders, avg_diag_revs,'bo',\n",
    "         markersize=3, linewidth = 4)\n",
    "plt.legend(['c * log(n)', 'c * sqrt(n)', 'Adjusted Orig Revenue', 'Adjusted Diag Revenue'])\n",
    "xlab = plt.xlabel('Number of Bidders', fontsize=16)\n",
    "ylab = plt.ylabel('Adjusted Revenue', fontsize=16)\n",
    "xlab.set_color('black')\n",
    "ylab.set_color('black')"
   ]
  },
  {
   "cell_type": "code",
   "execution_count": 33,
   "metadata": {},
   "outputs": [
    {
     "name": "stdout",
     "output_type": "stream",
     "text": [
      "orig sqrt fit: \n",
      "a = 2.5106017495164936 \n",
      "b = -0.15320266163971213 \n",
      "error = 1.6437344886183665\n",
      "\n",
      "diag sqrt fit: \n",
      "a = 1.4481322312579124 \n",
      "b = -0.003020939032390293 \n",
      "error = 1.9652875395651694\n"
     ]
    }
   ],
   "source": [
    "orig_sqrt_fit = np.polyfit(np.sqrt(num_bidders), avg_orig_revs, 1, full = True)\n",
    "diag_sqrt_fit = np.polyfit(np.sqrt(num_bidders), avg_diag_revs, 1, full = True)\n",
    "print('orig sqrt fit: \\na =', orig_sqrt_fit[0][0], '\\nb =', orig_sqrt_fit[0][1], '\\nerror =', orig_sqrt_fit[1][0])\n",
    "print('\\ndiag sqrt fit: \\na =', diag_sqrt_fit[0][0], '\\nb =', diag_sqrt_fit[0][1], '\\nerror =', diag_sqrt_fit[1][0])"
   ]
  },
  {
   "cell_type": "code",
   "execution_count": null,
   "metadata": {},
   "outputs": [],
   "source": []
  }
 ],
 "metadata": {
  "kernelspec": {
   "display_name": "Python 3",
   "language": "python",
   "name": "python3"
  },
  "language_info": {
   "codemirror_mode": {
    "name": "ipython",
    "version": 3
   },
   "file_extension": ".py",
   "mimetype": "text/x-python",
   "name": "python",
   "nbconvert_exporter": "python",
   "pygments_lexer": "ipython3",
   "version": "3.6.5"
  }
 },
 "nbformat": 4,
 "nbformat_minor": 4
}
