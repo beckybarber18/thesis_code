{
 "cells": [
  {
   "cell_type": "code",
   "execution_count": 1,
   "metadata": {},
   "outputs": [],
   "source": [
    "#-----------------------------------------------------------------------\n",
    "# diagonal.py\n",
    "# Author: Rebecca Barber\n",
    "# \n",
    "# simulates the expected revenue given the flow discussed in meeting\n",
    "# on 2/11. see notes for more details\n",
    "#-----------------------------------------------------------------------\n",
    "\n",
    "import scipy.stats as st\n",
    "from statistics import *\n",
    "import matplotlib.pyplot as plt\n",
    "from sys import argv\n",
    "import numpy as np\n",
    "from math import *\n",
    "import pandas as pd\n",
    "from plotnine import *\n",
    "from random import * \n",
    "\n",
    "from IPython.core.interactiveshell import InteractiveShell\n",
    "InteractiveShell.ast_node_interactivity = \"all\""
   ]
  },
  {
   "cell_type": "markdown",
   "metadata": {},
   "source": [
    "# ER draws"
   ]
  },
  {
   "cell_type": "code",
   "execution_count": 2,
   "metadata": {},
   "outputs": [],
   "source": [
    "# draws value from ER curve\n",
    "def er_draw():\n",
    "\tq = random()\n",
    "\treturn 1/(1-q)\n",
    "\n",
    "# draws d values from the ER curve\n",
    "def draw_vals(d):\n",
    "\tvals = []\n",
    "\tfor i in range(d):\n",
    "\t\tdraw = er_draw()\n",
    "\t\tvals.append(draw)\n",
    "\treturn vals"
   ]
  },
  {
   "cell_type": "markdown",
   "metadata": {},
   "source": [
    "# Flow Simulation"
   ]
  },
  {
   "cell_type": "code",
   "execution_count": 3,
   "metadata": {},
   "outputs": [],
   "source": [
    "# simulates flow given n bidders and m items\n",
    "# essentially just arranging the n*m values and using\n",
    "# the given mechanism to \"star\" values\n",
    "def flow_sim(n, m, eps):\n",
    "\n",
    "\t# need to get n*m values\n",
    "    vals = draw_vals(n*m)\n",
    "    \n",
    "    # divide into 2 cols\n",
    "    col1 = vals[0:n]\n",
    "    col2 = vals[n:len(vals)]\n",
    "    assert len(col1) == len(col2), \"columns aren't the same size\"\n",
    "    # print('\\nitem 1:', col1)\n",
    "    # print('item 1:', col2)\n",
    "    \n",
    "    # get largest \"unstarred\" value in each column\n",
    "    # need to compute \\sum_j \\max_i {virt_val_ij} \n",
    "    # virt_val_ij = 0 if j is i's favorite item\n",
    "    # otherwise, = formula below\n",
    "    highest_virt_val_col1 = 0\n",
    "    highest_virt_val_col2 = 0\n",
    "    for i in range(len(col1)):\n",
    "        \n",
    "        val_col1 = col1[i]\n",
    "        val_col2 = col2[i]\n",
    "        \n",
    "        max_val = val_col1 if val_col1 > val_col2 else val_col2\n",
    "        other_val = val_col2 if val_col1 > val_col2 else val_col1\n",
    "        \n",
    "        # print('max_val:', max_val, 'other_val:', other_val)\n",
    "        \n",
    "        # item 1 is the favorite item (max)\n",
    "        # item 2 is \"other\"\n",
    "        if val_col1 > val_col2:\n",
    "            virt_val_col1 = 0 \n",
    "            virt_val_col2 = (other_val*(max_val-other_val))/(max_val-eps*max_val*other_val+eps*max_val-1)\n",
    "        # item 1 is \"other\"\n",
    "        # item 2 is the favorite item (max)\n",
    "        else: \n",
    "            virt_val_col2 = 0 \n",
    "            virt_val_col1 = (other_val*(max_val-other_val))/(max_val-eps*max_val*other_val+eps*max_val-1)\n",
    "            \n",
    "        # print('virt_val_col1:', virt_val_col1, 'virt_val_col2:', virt_val_col2, '\\n')\n",
    "            \n",
    "        if virt_val_col1 > highest_virt_val_col1: \n",
    "            highest_virt_val_col1 = virt_val_col1\n",
    "        if virt_val_col2 > highest_virt_val_col2: \n",
    "            highest_virt_val_col2 = virt_val_col2\n",
    "            \n",
    "    # print('highest_virt_val_col1:', highest_virt_val_col1, 'highest_virt_val_col2:', highest_virt_val_col2)\n",
    "\n",
    "    return highest_virt_val_col2 + highest_virt_val_col2"
   ]
  },
  {
   "cell_type": "markdown",
   "metadata": {},
   "source": [
    "# Variable Updates"
   ]
  },
  {
   "cell_type": "code",
   "execution_count": 4,
   "metadata": {},
   "outputs": [
    {
     "name": "stdout",
     "output_type": "stream",
     "text": [
      "[10, 20, 30, 40, 50, 60, 70, 80, 90, 100, 110, 120, 130, 140, 150]\n"
     ]
    }
   ],
   "source": [
    "num_trials = 5000 #200000\n",
    "min_bidders = 10\n",
    "max_bidders = 150# 1000\n",
    "bidder_step = 10\n",
    "num_items = 2\n",
    "eps = 1/1000000\n",
    "\n",
    "num_bidders = []\n",
    "for i in range(min_bidders, max_bidders+1, bidder_step):\n",
    "    num_bidders.append(i)\n",
    "print(num_bidders)"
   ]
  },
  {
   "cell_type": "markdown",
   "metadata": {},
   "source": [
    "# Main"
   ]
  },
  {
   "cell_type": "code",
   "execution_count": 6,
   "metadata": {},
   "outputs": [
    {
     "name": "stdout",
     "output_type": "stream",
     "text": [
      "number of bidders:\n",
      "10:  5.619161845222866\n",
      "20:  6.594907869359827\n",
      "30:  8.15823666277534\n",
      "40:  9.855292057107118\n",
      "50:  10.960105667891424\n",
      "60:  11.561932651361179\n",
      "70:  12.13681769714231\n",
      "80:  13.767715903706767\n",
      "90:  14.051873228127395\n",
      "100:  14.87712970106174\n",
      "110:  15.793785507281525\n",
      "120:  16.147644460198677\n",
      "130:  16.787993469822048\n",
      "140:  17.355500043029\n",
      "150:  17.478482210943504\n"
     ]
    }
   ],
   "source": [
    "avg_revs = []\n",
    "\n",
    "print('number of bidders:')\n",
    "for n in range(min_bidders, max_bidders+1, bidder_step):\n",
    "    print(n, end = \"\")\n",
    "\n",
    "    # run num_trials for each # of bidders so we can \n",
    "    # take the average\n",
    "    all_revs = []\n",
    "    for i in range(num_trials):\n",
    "        rev = flow_sim(n, num_items, eps)\n",
    "        all_revs.append(rev)       \n",
    "    mean_rev = mean(all_revs)\n",
    "    avg_revs.append(mean_rev)\n",
    "    print(': ', mean_rev)\n",
    "\n",
    "# save all of the data\n",
    "csv_file = './data/diag_to0_flow' + str(min_bidders) + 'to' + \\\n",
    "    str(max_bidders) + 'bidders_' + str(bidder_step) + 'step_' + \\\n",
    "    str(num_trials) + 'trials.csv'\n",
    "\n",
    "df = pd.DataFrame(columns=['num bidders', 'avg rev'])\n",
    "for i in range(len(num_bidders)):\n",
    "    n = num_bidders[i]\n",
    "    avg_rev = avg_revs[i]\n",
    "    df = df.append({'num bidders': n, 'avg rev': avg_rev}, ignore_index=True)\n",
    "\n",
    "df.to_csv(csv_file)"
   ]
  },
  {
   "cell_type": "markdown",
   "metadata": {},
   "source": [
    "# Plotting"
   ]
  },
  {
   "cell_type": "code",
   "execution_count": 7,
   "metadata": {},
   "outputs": [
    {
     "data": {
      "text/plain": [
       "<Figure size 648x360 with 0 Axes>"
      ]
     },
     "execution_count": 7,
     "metadata": {},
     "output_type": "execute_result"
    },
    {
     "data": {
      "text/plain": [
       "[<matplotlib.lines.Line2D at 0x12351e2b0>,\n",
       " <matplotlib.lines.Line2D at 0x12351e4a8>,\n",
       " <matplotlib.lines.Line2D at 0x12351e5f8>]"
      ]
     },
     "execution_count": 7,
     "metadata": {},
     "output_type": "execute_result"
    },
    {
     "data": {
      "text/plain": [
       "<matplotlib.legend.Legend at 0x12351e780>"
      ]
     },
     "execution_count": 7,
     "metadata": {},
     "output_type": "execute_result"
    },
    {
     "data": {
      "image/png": "[encoded data removed]",
      "text/plain": [
       "<Figure size 648x360 with 1 Axes>"
      ]
     },
     "metadata": {},
     "output_type": "display_data"
    }
   ],
   "source": [
    "# plot the results\n",
    "log_bench = [2*np.log(n) for n in num_bidders]\n",
    "sqrt_bench = [1.4*np.sqrt(n) for n in num_bidders]\n",
    "\n",
    "figure_name = './figures/diag_flow' + str(min_bidders) + 'to' + \\\n",
    "    str(max_bidders) + 'bidders_' + str(bidder_step) + 'step_' + \\\n",
    "    str(num_trials) + 'trials.png'\n",
    "\n",
    "plt.style.use('ggplot')\n",
    "plt.figure(figsize=(9,5))\n",
    "with plt.rc_context({'axes.edgecolor':'black', 'xtick.color':'black', 'ytick.color':'black'}):\n",
    "    plt.plot(num_bidders, log_bench, 'r-',\n",
    "        num_bidders, sqrt_bench, 'b-',\n",
    "         num_bidders, avg_revs,'ko', \n",
    "         markersize=3, linewidth = 4)\n",
    "plt.legend(['c * log(n)', 'c * sqrt(n)', 'Adjusted Revenue'])\n",
    "xlab = plt.xlabel('Number of Bidders', fontsize=16)\n",
    "ylab = plt.ylabel('Adjusted Revenue', fontsize=16)\n",
    "xlab.set_color('black')\n",
    "ylab.set_color('black')"
   ]
  },
  {
   "cell_type": "code",
   "execution_count": 8,
   "metadata": {},
   "outputs": [
    {
     "name": "stdout",
     "output_type": "stream",
     "text": [
      "log fit: \n",
      "a = 4.859207992439822 \n",
      "b = -7.483525454921221 \n",
      "error = 8.991229163699549\n",
      "\n",
      "sqrt fit: \n",
      "a = 1.3930073626805446 \n",
      "b = 0.8584459816331965 \n",
      "error = 1.24010536289257\n"
     ]
    }
   ],
   "source": [
    "# For fitting y = B + A log x, just fit y against (log x)\n",
    "# For fitting y = B + A sqrt n, just fit y against (sqrt x)\n",
    "# https://stackoverflow.com/questions/3433486/how-to-do-\n",
    "# exponential-and-logarithmic-curve-fitting-in-python-i-found-only-poly\n",
    "log_fit = np.polyfit(np.log(num_bidders), avg_revs, 1, full = True)\n",
    "sqrt_fit = np.polyfit(np.sqrt(num_bidders), avg_revs, 1, full = True)\n",
    "print('log fit: \\na =', log_fit[0][0], '\\nb =', log_fit[0][1], '\\nerror =', log_fit[1][0])\n",
    "print('\\nsqrt fit: \\na =', sqrt_fit[0][0], '\\nb =', sqrt_fit[0][1], '\\nerror =', sqrt_fit[1][0])"
   ]
  },
  {
   "cell_type": "code",
   "execution_count": 1,
   "metadata": {},
   "outputs": [
    {
     "ename": "NameError",
     "evalue": "name 'df' is not defined",
     "output_type": "error",
     "traceback": [
      "\u001b[0;31m---------------------------------------------------------------------------\u001b[0m",
      "\u001b[0;31mNameError\u001b[0m                                 Traceback (most recent call last)",
      "\u001b[0;32m<ipython-input-1-00cf07b74dcd>\u001b[0m in \u001b[0;36m<module>\u001b[0;34m\u001b[0m\n\u001b[0;32m----> 1\u001b[0;31m \u001b[0mdf\u001b[0m\u001b[0;34m\u001b[0m\u001b[0m\n\u001b[0m",
      "\u001b[0;31mNameError\u001b[0m: name 'df' is not defined"
     ]
    }
   ],
   "source": [
    "df"
   ]
  },
  {
   "cell_type": "code",
   "execution_count": null,
   "metadata": {},
   "outputs": [],
   "source": []
  }
 ],
 "metadata": {
  "kernelspec": {
   "display_name": "Python 3",
   "language": "python",
   "name": "python3"
  },
  "language_info": {
   "codemirror_mode": {
    "name": "ipython",
    "version": 3
   },
   "file_extension": ".py",
   "mimetype": "text/x-python",
   "name": "python",
   "nbconvert_exporter": "python",
   "pygments_lexer": "ipython3",
   "version": "3.6.5"
  }
 },
 "nbformat": 4,
 "nbformat_minor": 4
}
