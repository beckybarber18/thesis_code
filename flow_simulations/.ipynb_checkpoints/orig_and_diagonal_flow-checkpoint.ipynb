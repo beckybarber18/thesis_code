{
 "cells": [
  {
   "cell_type": "code",
   "execution_count": 1,
   "metadata": {},
   "outputs": [],
   "source": [
    "#-----------------------------------------------------------------------\n",
    "# diagonal.py\n",
    "# Author: Rebecca Barber\n",
    "# \n",
    "# simulates the expected revenue given the flow discussed in meeting\n",
    "# on 2/11. see notes for more details\n",
    "#-----------------------------------------------------------------------\n",
    "\n",
    "import scipy.stats as st\n",
    "from statistics import *\n",
    "import matplotlib.pyplot as plt\n",
    "from sys import argv\n",
    "import numpy as np\n",
    "from math import *\n",
    "import pandas as pd\n",
    "from plotnine import *\n",
    "from random import * \n",
    "\n",
    "from IPython.core.interactiveshell import InteractiveShell\n",
    "InteractiveShell.ast_node_interactivity = \"all\""
   ]
  },
  {
   "cell_type": "markdown",
   "metadata": {},
   "source": [
    "# ER draws"
   ]
  },
  {
   "cell_type": "code",
   "execution_count": 2,
   "metadata": {},
   "outputs": [],
   "source": [
    "# draws value from ER curve\n",
    "def er_draw():\n",
    "\tq = random()\n",
    "\treturn 1/(1-q)\n",
    "\n",
    "# draws d values from the ER curve\n",
    "def draw_vals(d):\n",
    "\tvals = []\n",
    "\tfor i in range(d):\n",
    "\t\tdraw = er_draw()\n",
    "\t\tvals.append(draw)\n",
    "\treturn vals"
   ]
  },
  {
   "cell_type": "markdown",
   "metadata": {},
   "source": [
    "# Flow Simulation"
   ]
  },
  {
   "cell_type": "code",
   "execution_count": 45,
   "metadata": {},
   "outputs": [],
   "source": [
    "# simulates flow given n bidders and m items\n",
    "# essentially just arranging the n*m values and using\n",
    "# the given mechanism to \"star\" values\n",
    "def flow_sim(n, m, eps):\n",
    "\n",
    "\t# need to get n*m values\n",
    "    vals = draw_vals(n*m)\n",
    "    \n",
    "    # divide into 2 cols\n",
    "    col1 = vals[0:n]\n",
    "    col2 = vals[n:len(vals)]\n",
    "    assert len(col1) == len(col2), \"columns aren't the same size\"\n",
    "    # print('\\nitem 1:', col1)\n",
    "    # print('item 1:', col2)\n",
    "    \n",
    "    # get largest \"unstarred\" value in each column\n",
    "    # need to compute \\sum_j \\max_i {virt_val_ij} \n",
    "    # virt_val_ij = 0 if j is i's favorite item\n",
    "    # otherwise, = formula below\n",
    "    highest_virt_val_col1 = 0\n",
    "    highest_virt_val_col2 = 0\n",
    "    for i in range(len(col1)):\n",
    "        \n",
    "        val_col1 = col1[i]\n",
    "        val_col2 = col2[i]\n",
    "        \n",
    "        max_val = val_col1 if val_col1 > val_col2 else val_col2\n",
    "        other_val = val_col2 if val_col1 > val_col2 else val_col1\n",
    "        \n",
    "        # print('max_val:', max_val, 'other_val:', other_val)\n",
    "        \n",
    "        # item 1 is the favorite item (max)\n",
    "        # item 2 is \"other\"\n",
    "        if val_col1 > val_col2:\n",
    "            virt_val_col1 = 0 \n",
    "            virt_val_col2 = (other_val*(max_val-other_val))/(max_val-eps*max_val*other_val)\n",
    "        # item 1 is \"other\"\n",
    "        # item 2 is the favorite item (max)\n",
    "        else: \n",
    "            virt_val_col2 = 0 \n",
    "            virt_val_col1 = (other_val*(max_val-other_val))/(max_val-eps*max_val*other_val)\n",
    "            \n",
    "        # print('virt_val_col1:', virt_val_col1, 'virt_val_col2:', virt_val_col2, '\\n')\n",
    "            \n",
    "        if virt_val_col1 > highest_virt_val_col1: \n",
    "            highest_virt_val_col1 = virt_val_col1\n",
    "        if virt_val_col2 > highest_virt_val_col2: \n",
    "            highest_virt_val_col2 = virt_val_col2\n",
    "            \n",
    "    # print('highest_virt_val_col1:', highest_virt_val_col1, 'highest_virt_val_col2:', highest_virt_val_col2)\n",
    "\n",
    "    return highest_virt_val_col2 + highest_virt_val_col2"
   ]
  },
  {
   "cell_type": "markdown",
   "metadata": {},
   "source": [
    "# Variable Updates"
   ]
  },
  {
   "cell_type": "code",
   "execution_count": 70,
   "metadata": {},
   "outputs": [
    {
     "name": "stdout",
     "output_type": "stream",
     "text": [
      "[10, 20, 30, 40, 50, 60, 70, 80, 90, 100, 110, 120, 130, 140, 150, 160, 170, 180, 190, 200, 210, 220, 230, 240, 250, 260, 270, 280, 290, 300, 310, 320, 330, 340, 350, 360, 370, 380, 390, 400, 410, 420, 430, 440, 450, 460, 470, 480, 490, 500, 510, 520, 530, 540, 550, 560, 570, 580, 590, 600, 610, 620, 630, 640, 650, 660, 670, 680, 690, 700, 710, 720, 730, 740, 750, 760, 770, 780, 790, 800, 810, 820, 830, 840, 850, 860, 870, 880, 890, 900, 910, 920, 930, 940, 950, 960, 970, 980, 990, 1000]\n"
     ]
    }
   ],
   "source": [
    "num_trials = 200000\n",
    "min_bidders = 10\n",
    "max_bidders = 1000\n",
    "bidder_step = 10\n",
    "num_items = 2\n",
    "eps = 1/1000000\n",
    "\n",
    "num_bidders = []\n",
    "for i in range(min_bidders, max_bidders+1, bidder_step):\n",
    "    num_bidders.append(i)\n",
    "print(num_bidders)"
   ]
  },
  {
   "cell_type": "markdown",
   "metadata": {},
   "source": [
    "# Main"
   ]
  },
  {
   "cell_type": "code",
   "execution_count": 71,
   "metadata": {},
   "outputs": [
    {
     "name": "stdout",
     "output_type": "stream",
     "text": [
      "number of bidders:\n",
      "10:  4.596061878805363\n",
      "20:  6.459201342917876\n",
      "30:  8.002195022594949\n",
      "40:  9.178273976914353\n",
      "50:  10.232591902665908\n",
      "60:  11.252906179063158\n",
      "70:  12.168785273488062\n",
      "80:  13.011700266456227\n",
      "90:  13.748338526353416\n",
      "100:  14.51566503703415\n",
      "110:  15.343912689784654\n",
      "120:  15.838814910005906\n",
      "130:  16.526708156266736\n",
      "140:  17.209035715077622\n",
      "150:  17.767954347836437\n",
      "160:  18.287788097461135\n",
      "170:  18.836479942902656\n",
      "180:  19.489769825414754\n",
      "190:  20.17240409905886\n",
      "200:  20.501039632579346\n",
      "210:  20.817185790313918\n",
      "220:  21.30945755130355\n",
      "230:  21.830355015723644\n",
      "240:  22.320815655969277\n",
      "250:  22.898518551568078\n",
      "260:  23.351423358711084\n",
      "270:  23.873721156660885\n",
      "280:  24.296696777215804\n",
      "290:  24.54486605458399\n",
      "300:  24.96432929017814\n",
      "310:  25.569935575476784\n",
      "320:  25.847656188712676\n",
      "330:  26.365114230787032\n",
      "340:  26.597363702896217\n",
      "350:  27.1650061981144\n",
      "360:  27.38159106310625\n",
      "370:  27.863411278762158\n",
      "380:  28.298387440610362\n",
      "390:  28.65013256001546\n",
      "400:  29.04557142451515\n",
      "410:  29.56966906809455\n",
      "420:  29.602911075473372\n",
      "430:  30.113308685778918\n",
      "440:  30.416603727082833\n",
      "450:  30.818902852028973\n",
      "460:  30.95055884041276\n",
      "470:  31.189844386204772\n",
      "480:  31.613583744372058\n",
      "490:  32.33598425000775\n",
      "500:  32.3284359082452\n",
      "510:  32.61257068619658\n",
      "520:  33.069576683635255\n",
      "530:  33.20419803702292\n",
      "540:  33.631435133452996\n",
      "550:  33.875637168289416\n",
      "560:  34.2925462520514\n",
      "570:  34.791491953111404\n",
      "580:  34.94680412507926\n",
      "590:  35.153809322358164\n",
      "600:  35.02899979784272\n",
      "610:  35.7354841233027\n",
      "620:  35.78867732271692\n",
      "630:  36.26051197233969\n",
      "640:  36.62155985808176\n",
      "650:  36.763084790582106\n",
      "660:  37.13004683946116\n",
      "670:  37.57385122561111\n",
      "680:  37.86098724319555\n",
      "690:  37.861050973203525\n",
      "700:  38.10236641679166\n",
      "710:  38.435523309917485\n",
      "720:  38.86296358793111\n",
      "730:  39.21062294596161\n",
      "740:  39.302591293840855\n",
      "750:  39.717272554921365\n",
      "760:  39.61949720277357\n",
      "770:  40.166504467313516\n",
      "780:  40.49617490491357\n",
      "790:  40.28695406024242\n",
      "800:  40.947294474867974\n",
      "810:  41.38585985328812\n",
      "820:  41.532687851320176\n",
      "830:  41.6546881028253\n",
      "840:  42.04128175336865\n",
      "850:  42.171809680017425\n",
      "860:  42.61215484328648\n",
      "870:  42.59711433104097\n",
      "880:  42.75926171920217\n",
      "890:  43.13880309524003\n",
      "900:  43.15067411711175\n",
      "910:  44.6427436892336\n",
      "920:  44.07690981631736\n",
      "930:  44.35063021217604\n",
      "940:  44.18545843817695\n",
      "950:  44.68344929228621\n",
      "960:  44.71674639085439\n",
      "970:  45.002119068946165\n",
      "980:  45.304282936094026\n",
      "990:  45.590167514867964\n",
      "1000:  45.736553605101875\n"
     ]
    }
   ],
   "source": [
    "avg_revs = []\n",
    "\n",
    "print('number of bidders:')\n",
    "for n in range(min_bidders, max_bidders+1, bidder_step):\n",
    "    print(n, end = \"\")\n",
    "\n",
    "    # run num_trials for each # of bidders so we can \n",
    "    # take the average\n",
    "    all_revs = []\n",
    "    for i in range(num_trials):\n",
    "        rev = flow_sim(n, num_items, eps)\n",
    "        all_revs.append(rev)       \n",
    "    mean_rev = mean(all_revs)\n",
    "    avg_revs.append(mean_rev)\n",
    "    print(': ', mean_rev)\n",
    "\n",
    "# save all of the data\n",
    "csv_file = './data/diag_flow' + str(min_bidders) + 'to' + \\\n",
    "    str(max_bidders) + 'bidders_' + str(bidder_step) + 'step_' + \\\n",
    "    str(num_trials) + 'trials.csv'\n",
    "\n",
    "df = pd.DataFrame(columns=['num bidders', 'avg rev'])\n",
    "for i in range(len(num_bidders)):\n",
    "    n = num_bidders[i]\n",
    "    avg_rev = avg_revs[i]\n",
    "    df = df.append({'num bidders': n, 'avg rev': avg_rev}, ignore_index=True)\n",
    "\n",
    "df.to_csv(csv_file)"
   ]
  },
  {
   "cell_type": "markdown",
   "metadata": {},
   "source": [
    "# Plotting"
   ]
  },
  {
   "cell_type": "code",
   "execution_count": 79,
   "metadata": {},
   "outputs": [
    {
     "data": {
      "text/plain": [
       "<Figure size 648x360 with 0 Axes>"
      ]
     },
     "execution_count": 79,
     "metadata": {},
     "output_type": "execute_result"
    },
    {
     "data": {
      "text/plain": [
       "[<matplotlib.lines.Line2D at 0x128bb1a58>,\n",
       " <matplotlib.lines.Line2D at 0x128bb1ba8>,\n",
       " <matplotlib.lines.Line2D at 0x128bb1cf8>]"
      ]
     },
     "execution_count": 79,
     "metadata": {},
     "output_type": "execute_result"
    },
    {
     "data": {
      "text/plain": [
       "<matplotlib.legend.Legend at 0x128a87400>"
      ]
     },
     "execution_count": 79,
     "metadata": {},
     "output_type": "execute_result"
    },
    {
     "data": {
      "image/png": "[encoded data removed]",
      "text/plain": [
       "<Figure size 648x360 with 1 Axes>"
      ]
     },
     "metadata": {},
     "output_type": "display_data"
    }
   ],
   "source": [
    "# plot the results\n",
    "log_bench = [2*np.log(n) for n in num_bidders]\n",
    "sqrt_bench = [1.4*np.sqrt(n) for n in num_bidders]\n",
    "\n",
    "figure_name = './figures/diag_flow' + str(min_bidders) + 'to' + \\\n",
    "    str(max_bidders) + 'bidders_' + str(bidder_step) + 'step_' + \\\n",
    "    str(num_trials) + 'trials.png'\n",
    "\n",
    "plt.style.use('ggplot')\n",
    "plt.figure(figsize=(9,5))\n",
    "with plt.rc_context({'axes.edgecolor':'black', 'xtick.color':'black', 'ytick.color':'black'}):\n",
    "    plt.plot(num_bidders, log_bench, 'r-',\n",
    "        num_bidders, sqrt_bench, 'b-',\n",
    "         num_bidders, avg_revs,'ko', \n",
    "         markersize=3, linewidth = 4)\n",
    "plt.legend(['c * log(n)', 'c * sqrt(n)', 'Adjusted Revenue'])\n",
    "xlab = plt.xlabel('Number of Bidders', fontsize=16)\n",
    "ylab = plt.ylabel('Adjusted Revenue', fontsize=16)\n",
    "xlab.set_color('black')\n",
    "ylab.set_color('black')"
   ]
  },
  {
   "cell_type": "code",
   "execution_count": 73,
   "metadata": {},
   "outputs": [
    {
     "name": "stdout",
     "output_type": "stream",
     "text": [
      "log fit: \n",
      "a = 11.085011610443914 \n",
      "b = -35.10718996933075 \n",
      "error = 848.0524838737738\n",
      "\n",
      "sqrt fit: \n",
      "a = 1.4462042817186154 \n",
      "b = 0.029532983000658253 \n",
      "error = 2.5480890645637073\n"
     ]
    }
   ],
   "source": [
    "# For fitting y = B + A log x, just fit y against (log x)\n",
    "# For fitting y = B + A sqrt n, just fit y against (sqrt x)\n",
    "# https://stackoverflow.com/questions/3433486/how-to-do-\n",
    "# exponential-and-logarithmic-curve-fitting-in-python-i-found-only-poly\n",
    "log_fit = np.polyfit(np.log(num_bidders), avg_revs, 1, full = True)\n",
    "sqrt_fit = np.polyfit(np.sqrt(num_bidders), avg_revs, 1, full = True)\n",
    "print('log fit: \\na =', log_fit[0][0], '\\nb =', log_fit[0][1], '\\nerror =', log_fit[1][0])\n",
    "print('\\nsqrt fit: \\na =', sqrt_fit[0][0], '\\nb =', sqrt_fit[0][1], '\\nerror =', sqrt_fit[1][0])"
   ]
  },
  {
   "cell_type": "code",
   "execution_count": null,
   "metadata": {},
   "outputs": [],
   "source": []
  }
 ],
 "metadata": {
  "kernelspec": {
   "display_name": "Python 3",
   "language": "python",
   "name": "python3"
  },
  "language_info": {
   "codemirror_mode": {
    "name": "ipython",
    "version": 3
   },
   "file_extension": ".py",
   "mimetype": "text/x-python",
   "name": "python",
   "nbconvert_exporter": "python",
   "pygments_lexer": "ipython3",
   "version": "3.6.5"
  }
 },
 "nbformat": 4,
 "nbformat_minor": 4
}
