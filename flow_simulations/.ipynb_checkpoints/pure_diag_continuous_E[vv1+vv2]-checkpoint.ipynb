{
 "cells": [
  {
   "cell_type": "code",
   "execution_count": 9,
   "metadata": {},
   "outputs": [],
   "source": [
    "#-----------------------------------------------------------------------\n",
    "# diag_to_zero_continuous_E[vv2].py\n",
    "# Author: Rebecca Barber\n",
    "# \n",
    "# calculate the expected max virtual value of the non-favorite item \n",
    "# for n bidders. relevant flow: the diagonal one where everything points\n",
    "# to zero. continuous setting. use formula derived with matt on 4/13\n",
    "#-----------------------------------------------------------------------\n",
    "\n",
    "import scipy.stats as st\n",
    "from statistics import *\n",
    "import matplotlib.pyplot as plt\n",
    "from sys import argv\n",
    "import numpy as np\n",
    "from math import *\n",
    "import pandas as pd\n",
    "from plotnine import *\n",
    "from random import * \n",
    "\n",
    "from IPython.core.interactiveshell import InteractiveShell\n",
    "InteractiveShell.ast_node_interactivity = \"all\""
   ]
  },
  {
   "cell_type": "markdown",
   "metadata": {},
   "source": [
    "# ER draws"
   ]
  },
  {
   "cell_type": "code",
   "execution_count": 16,
   "metadata": {},
   "outputs": [],
   "source": [
    "# draw w and beta\n",
    "def draw_w_beta():\n",
    "    w = random()\n",
    "    beta = random()\n",
    "    return w, beta"
   ]
  },
  {
   "cell_type": "markdown",
   "metadata": {},
   "source": [
    "# Flow Simulation"
   ]
  },
  {
   "cell_type": "code",
   "execution_count": 20,
   "metadata": {},
   "outputs": [],
   "source": [
    "# simulates flow given n bidders and m items\n",
    "# essentially just arranging the n*m values and using\n",
    "# the given mechanism to \"star\" values\n",
    "def calc_vv2(n):\n",
    "    # calc vv for each bidder\n",
    "    all_vvs = []\n",
    "    for i in range(n):\n",
    "        w, beta = draw_w_beta()\n",
    "        num = 2*w - (w**2)*beta - beta\n",
    "        denom = w * (1-w*beta)**2\n",
    "        vv = num/denom\n",
    "        all_vvs.append(vv)\n",
    "        \n",
    "    max_vv2 = max(all_vvs)\n",
    "    return max_vv2"
   ]
  },
  {
   "cell_type": "markdown",
   "metadata": {},
   "source": [
    "# Variable Updates"
   ]
  },
  {
   "cell_type": "code",
   "execution_count": 46,
   "metadata": {},
   "outputs": [
    {
     "name": "stdout",
     "output_type": "stream",
     "text": [
      "[100, 110, 120, 130, 140, 150, 160, 170, 180, 190, 200, 210, 220, 230, 240, 250, 260, 270, 280, 290, 300, 310, 320, 330, 340, 350, 360, 370, 380, 390, 400, 410, 420, 430, 440, 450, 460, 470, 480, 490, 500]\n"
     ]
    }
   ],
   "source": [
    "num_trials = 100000\n",
    "min_bidders = 100\n",
    "max_bidders = 500\n",
    "bidder_step = 10\n",
    "\n",
    "num_bidders = []\n",
    "for i in range(min_bidders, max_bidders+1, bidder_step):\n",
    "    num_bidders.append(i)\n",
    "print(num_bidders)"
   ]
  },
  {
   "cell_type": "markdown",
   "metadata": {},
   "source": [
    "# Main"
   ]
  },
  {
   "cell_type": "code",
   "execution_count": 47,
   "metadata": {},
   "outputs": [
    {
     "name": "stdout",
     "output_type": "stream",
     "text": [
      "number of bidders:\n",
      "100:  14.682811814225674\n",
      "110:  15.342673468343795\n",
      "120:  16.28621586713037\n",
      "130:  16.73852286269242\n",
      "140:  17.63434608447956\n",
      "150:  18.215272139846686\n",
      "160:  18.523335739980627\n",
      "170:  18.945175959687585\n",
      "180:  19.702281171474286\n",
      "190:  20.18821220531195\n",
      "200:  20.737253482057803\n",
      "210:  21.3429778838149\n",
      "220:  21.79638425886656\n",
      "230:  22.295582243866004\n",
      "240:  22.59917592543222\n",
      "250:  23.125536448738327\n",
      "260:  23.538153781486702\n",
      "270:  24.1472969881301\n",
      "280:  24.64247376067429\n",
      "290:  24.69426153702211\n",
      "300:  25.387610273465544\n",
      "310:  25.76642953275356\n",
      "320:  26.630886785864355\n",
      "330:  26.463231650466316\n",
      "340:  26.872899834668775\n",
      "350:  27.50392050900242\n",
      "360:  27.67407386733118\n",
      "370:  28.000349061335363\n",
      "380:  28.290770654433324\n",
      "390:  29.202622847300287\n",
      "400:  29.074325690019933\n",
      "410:  29.666310284006517\n",
      "420:  30.08084812535101\n",
      "430:  30.360217843864508\n",
      "440:  30.89556091750512\n",
      "450:  31.071980033930718\n",
      "460:  31.579666922230725\n",
      "470:  31.979531161843862\n",
      "480:  31.861545020339705\n",
      "490:  32.35967892896898\n",
      "500:  32.681865606118464\n"
     ]
    }
   ],
   "source": [
    "avg_vv2s = []\n",
    "\n",
    "print('number of bidders:')\n",
    "for n in range(min_bidders, max_bidders+1, bidder_step):\n",
    "    print(n, end = \"\")\n",
    "\n",
    "    # run num_trials for each # of bidders so we can \n",
    "    # take the average\n",
    "    all_vv2s = []\n",
    "    for i in range(num_trials):\n",
    "        max_vv2 = calc_vv2(n)\n",
    "        all_vv2s.append(max_vv2)  \n",
    "    mean_vv2 = mean(all_vv2s)\n",
    "    avg_vv2s.append(mean_vv2)\n",
    "    print(':', mean_vv2)\n",
    "\n",
    "# save all of the data\n",
    "csv_file = './data/diag_to_zero_continuous_E[vv2]_' + str(min_bidders) + 'to' + \\\n",
    "    str(max_bidders) + 'bidders_' + str(bidder_step) + 'step_' + \\\n",
    "    str(num_trials) + 'trials.csv'\n",
    "\n",
    "df = pd.DataFrame(columns=['num bidders', 'avg VV_2'])\n",
    "for i in range(len(num_bidders)):\n",
    "    n = num_bidders[i]\n",
    "    avg_vv2 = avg_vv2s[i]\n",
    "    df = df.append({'num bidders': n, 'avg VV_2': avg_vv2}, ignore_index=True)\n",
    "\n",
    "df.to_csv(csv_file)"
   ]
  },
  {
   "cell_type": "markdown",
   "metadata": {},
   "source": [
    "# Plotting"
   ]
  },
  {
   "cell_type": "code",
   "execution_count": 54,
   "metadata": {},
   "outputs": [
    {
     "data": {
      "text/plain": [
       "<Figure size 648x360 with 0 Axes>"
      ]
     },
     "execution_count": 54,
     "metadata": {},
     "output_type": "execute_result"
    },
    {
     "data": {
      "text/plain": [
       "[<matplotlib.lines.Line2D at 0x126ee0f60>,\n",
       " <matplotlib.lines.Line2D at 0x1270060f0>,\n",
       " <matplotlib.lines.Line2D at 0x127006240>]"
      ]
     },
     "execution_count": 54,
     "metadata": {},
     "output_type": "execute_result"
    },
    {
     "data": {
      "text/plain": [
       "<matplotlib.legend.Legend at 0x126da7390>"
      ]
     },
     "execution_count": 54,
     "metadata": {},
     "output_type": "execute_result"
    },
    {
     "data": {
      "image/png": "[encoded data removed]",
      "text/plain": [
       "<Figure size 648x360 with 1 Axes>"
      ]
     },
     "metadata": {},
     "output_type": "display_data"
    }
   ],
   "source": [
    "# plot the results\n",
    "log_bench = [3.2*np.log(n) for n in num_bidders]\n",
    "sqrt_bench = [1.5*np.sqrt(n) for n in num_bidders]\n",
    "\n",
    "figure_name = './figures/diag_to_zero_continuous_E[vv2]_' + str(min_bidders) + 'to' + \\\n",
    "    str(max_bidders) + 'bidders_' + str(bidder_step) + 'step_' + \\\n",
    "    str(num_trials) + 'trials.png'\n",
    "\n",
    "plt.style.use('ggplot')\n",
    "plt.figure(figsize=(9,5))\n",
    "with plt.rc_context({'axes.edgecolor':'black', 'xtick.color':'black', 'ytick.color':'black'}):\n",
    "    plt.plot(num_bidders, log_bench, 'r-',\n",
    "        num_bidders, sqrt_bench, 'b-',\n",
    "         num_bidders, avg_vv2s,'ko', \n",
    "         markersize=3, linewidth = 4)\n",
    "plt.legend(['c * log(n)', 'c * sqrt(n)', 'Adjusted Revenue'])\n",
    "xlab = plt.xlabel('Number of Bidders', fontsize=16)\n",
    "ylab = plt.ylabel('Average Max VV(Non-Favorite Item)', fontsize=16)\n",
    "xlab.set_color('black')\n",
    "ylab.set_color('black')"
   ]
  },
  {
   "cell_type": "code",
   "execution_count": 49,
   "metadata": {},
   "outputs": [
    {
     "name": "stdout",
     "output_type": "stream",
     "text": [
      "log fit: \n",
      "a = 11.476703123785954 \n",
      "b = -39.56096868035975 \n",
      "error = 14.129278045278333\n",
      "\n",
      "sqrt fit: \n",
      "a = 1.4554924945076706 \n",
      "b = 0.17654152795917447 \n",
      "error = 0.9671564496230518\n"
     ]
    }
   ],
   "source": [
    "# For fitting y = B + A log x, just fit y against (log x)\n",
    "# For fitting y = B + A sqrt n, just fit y against (sqrt x)\n",
    "# https://stackoverflow.com/questions/3433486/how-to-do-\n",
    "# exponential-and-logarithmic-curve-fitting-in-python-i-found-only-poly\n",
    "log_fit = np.polyfit(np.log(num_bidders), avg_vv2s, 1, full = True)\n",
    "sqrt_fit = np.polyfit(np.sqrt(num_bidders), avg_vv2s, 1, full = True)\n",
    "print('log fit: \\na =', log_fit[0][0], '\\nb =', log_fit[0][1], '\\nerror =', log_fit[1][0])\n",
    "print('\\nsqrt fit: \\na =', sqrt_fit[0][0], '\\nb =', sqrt_fit[0][1], '\\nerror =', sqrt_fit[1][0])"
   ]
  },
  {
   "cell_type": "code",
   "execution_count": null,
   "metadata": {},
   "outputs": [],
   "source": []
  },
  {
   "cell_type": "code",
   "execution_count": null,
   "metadata": {},
   "outputs": [],
   "source": []
  }
 ],
 "metadata": {
  "kernelspec": {
   "display_name": "Python 3",
   "language": "python",
   "name": "python3"
  },
  "language_info": {
   "codemirror_mode": {
    "name": "ipython",
    "version": 3
   },
   "file_extension": ".py",
   "mimetype": "text/x-python",
   "name": "python",
   "nbconvert_exporter": "python",
   "pygments_lexer": "ipython3",
   "version": "3.6.5"
  }
 },
 "nbformat": 4,
 "nbformat_minor": 4
}
