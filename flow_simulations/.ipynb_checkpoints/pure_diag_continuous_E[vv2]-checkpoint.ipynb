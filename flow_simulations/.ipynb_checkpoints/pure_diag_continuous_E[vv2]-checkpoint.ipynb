{
 "cells": [
  {
   "cell_type": "code",
   "execution_count": 4,
   "metadata": {},
   "outputs": [],
   "source": [
    "#-----------------------------------------------------------------------\n",
    "# diag_to_zero_continuous_E[vv2].py\n",
    "# Author: Rebecca Barber\n",
    "# \n",
    "# calculate the expected max virtual value of the non-favorite item \n",
    "# for n bidders. relevant flow: the diagonal one where everything points\n",
    "# to zero. continuous setting. use formula derived with matt on 4/13\n",
    "#-----------------------------------------------------------------------\n",
    "\n",
    "import scipy.stats as st\n",
    "from statistics import *\n",
    "import matplotlib.pyplot as plt\n",
    "from sys import argv\n",
    "import numpy as np\n",
    "from math import *\n",
    "import pandas as pd\n",
    "from plotnine import *\n",
    "from random import * \n",
    "\n",
    "from IPython.core.interactiveshell import InteractiveShell\n",
    "InteractiveShell.ast_node_interactivity = \"all\""
   ]
  },
  {
   "cell_type": "markdown",
   "metadata": {},
   "source": [
    "# ER draws"
   ]
  },
  {
   "cell_type": "code",
   "execution_count": 5,
   "metadata": {},
   "outputs": [],
   "source": [
    "# draw w and beta\n",
    "def draw_w_beta():\n",
    "    w = random()\n",
    "    beta = random()\n",
    "    return w, beta"
   ]
  },
  {
   "cell_type": "markdown",
   "metadata": {},
   "source": [
    "# Flow Simulation"
   ]
  },
  {
   "cell_type": "code",
   "execution_count": 6,
   "metadata": {},
   "outputs": [],
   "source": [
    "# simulates flow given n bidders and m items\n",
    "# essentially just arranging the n*m values and using\n",
    "# the given mechanism to \"star\" values\n",
    "def calc_vv2(n):\n",
    "    # calc vv for each bidder\n",
    "    all_vvs = []\n",
    "    for i in range(n):\n",
    "        w, beta = draw_w_beta()\n",
    "        num = 2*w - (w**2)*beta - beta\n",
    "        denom = w * (1-w*beta)**2\n",
    "        vv = num/denom\n",
    "        all_vvs.append(vv)\n",
    "        \n",
    "    max_vv2 = max(max(all_vvs),0)\n",
    "    return max_vv2"
   ]
  },
  {
   "cell_type": "markdown",
   "metadata": {},
   "source": [
    "# Variable Updates"
   ]
  },
  {
   "cell_type": "code",
   "execution_count": 7,
   "metadata": {},
   "outputs": [
    {
     "name": "stdout",
     "output_type": "stream",
     "text": [
      "[100, 110, 120, 130, 140, 150, 160, 170, 180, 190, 200, 210, 220, 230, 240, 250, 260, 270, 280, 290, 300, 310, 320, 330, 340, 350, 360, 370, 380, 390, 400, 410, 420, 430, 440, 450, 460, 470, 480, 490, 500]\n"
     ]
    }
   ],
   "source": [
    "num_trials = 100000\n",
    "min_bidders = 100\n",
    "max_bidders = 500\n",
    "bidder_step = 10\n",
    "\n",
    "num_bidders = []\n",
    "for i in range(min_bidders, max_bidders+1, bidder_step):\n",
    "    num_bidders.append(i)\n",
    "print(num_bidders)"
   ]
  },
  {
   "cell_type": "markdown",
   "metadata": {},
   "source": [
    "# Main"
   ]
  },
  {
   "cell_type": "code",
   "execution_count": 8,
   "metadata": {},
   "outputs": [
    {
     "name": "stdout",
     "output_type": "stream",
     "text": [
      "number of bidders:\n",
      "100: 14.755857335201064\n",
      "110: 15.529618197842332\n",
      "120: 16.165423015723267\n",
      "130: 16.917659034957563\n",
      "140: 17.381429854915005\n",
      "150: 18.076326522944772\n",
      "160: 18.497647251929877\n",
      "170: 19.21902943045459\n",
      "180: 19.78024583772324\n",
      "190: 20.21647551291517\n",
      "200: 20.71963826678657\n",
      "210: 21.55020202144928\n",
      "220: 21.563704025113687\n",
      "230: 22.15899159747619\n",
      "240: 22.602395811122395\n",
      "250: 23.235742924395645\n",
      "260: 23.57305990397438\n",
      "270: 24.19205037105348\n",
      "280: 24.559119667364186\n",
      "290: 25.01517503677205\n",
      "300: 25.279906620767807\n",
      "310: 26.190321544902602\n",
      "320: 26.409202480260497\n",
      "330: 26.437974863542188\n",
      "340: 26.826673451131317\n",
      "350: 27.35384039559891\n",
      "360: 27.754737439729112\n",
      "370: 27.94619861260034\n",
      "380: 28.78082043445014\n",
      "390: 29.134604184196455\n",
      "400: 29.14182369008503\n",
      "410: 29.719838237460998\n",
      "420: 29.907098126097626\n",
      "430: 30.35972216908469\n",
      "440: 30.1726029864856\n",
      "450: 31.216919226815644\n",
      "460: 31.363738983098354\n",
      "470: 31.700395295948752\n",
      "480: 32.128612985960345\n",
      "490: 32.23915874326678\n",
      "500: 32.56980854999565\n"
     ]
    }
   ],
   "source": [
    "avg_vv2s = []\n",
    "\n",
    "print('number of bidders:')\n",
    "for n in range(min_bidders, max_bidders+1, bidder_step):\n",
    "    print(n, end = \"\")\n",
    "\n",
    "    # run num_trials for each # of bidders so we can \n",
    "    # take the average\n",
    "    all_vv2s = []\n",
    "    for i in range(num_trials):\n",
    "        max_vv2 = calc_vv2(n)\n",
    "        all_vv2s.append(max_vv2)  \n",
    "    mean_vv2 = mean(all_vv2s)\n",
    "    avg_vv2s.append(mean_vv2)\n",
    "    print(':', mean_vv2)\n",
    "\n",
    "# save all of the data\n",
    "csv_file = './data/diag_to_zero_continuous_E[vv2]_' + str(min_bidders) + 'to' + \\\n",
    "    str(max_bidders) + 'bidders_' + str(bidder_step) + 'step_' + \\\n",
    "    str(num_trials) + 'trials.csv'\n",
    "\n",
    "df = pd.DataFrame(columns=['num bidders', 'avg VV_2'])\n",
    "for i in range(len(num_bidders)):\n",
    "    n = num_bidders[i]\n",
    "    avg_vv2 = avg_vv2s[i]\n",
    "    df = df.append({'num bidders': n, 'avg VV_2': avg_vv2}, ignore_index=True)\n",
    "\n",
    "df.to_csv(csv_file)"
   ]
  },
  {
   "cell_type": "markdown",
   "metadata": {},
   "source": [
    "# Plotting"
   ]
  },
  {
   "cell_type": "code",
   "execution_count": 18,
   "metadata": {},
   "outputs": [
    {
     "data": {
      "text/plain": [
       "<Figure size 648x360 with 0 Axes>"
      ]
     },
     "execution_count": 18,
     "metadata": {},
     "output_type": "execute_result"
    },
    {
     "data": {
      "text/plain": [
       "[<matplotlib.lines.Line2D at 0x126dcef98>,\n",
       " <matplotlib.lines.Line2D at 0x126dda128>,\n",
       " <matplotlib.lines.Line2D at 0x126dda278>]"
      ]
     },
     "execution_count": 18,
     "metadata": {},
     "output_type": "execute_result"
    },
    {
     "data": {
      "text/plain": [
       "<matplotlib.legend.Legend at 0x126c7be80>"
      ]
     },
     "execution_count": 18,
     "metadata": {},
     "output_type": "execute_result"
    },
    {
     "data": {
      "text/plain": [
       "Text(0.5, 1.0, 'Continuous Flow Terminating at (0,0)')"
      ]
     },
     "execution_count": 18,
     "metadata": {},
     "output_type": "execute_result"
    },
    {
     "data": {
      "image/png": "[encoded data removed]",
      "text/plain": [
       "<Figure size 648x360 with 1 Axes>"
      ]
     },
     "metadata": {},
     "output_type": "display_data"
    }
   ],
   "source": [
    "# plot the results\n",
    "title = 'Continuous Flow Terminating at (0,0)'\n",
    "log_bench = [3.15*np.log(n) for n in num_bidders]\n",
    "sqrt_bench = [1.45*np.sqrt(n) for n in num_bidders]\n",
    "\n",
    "plt1 = plt.style.use('ggplot')\n",
    "plt.figure(figsize=(9,5))\n",
    "with plt.rc_context({'axes.edgecolor':'black', 'xtick.color':'black', 'ytick.color':'black'}):\n",
    "    plt.plot(num_bidders, log_bench, 'r-',\n",
    "        num_bidders, sqrt_bench, 'b-',\n",
    "         num_bidders, avg_vv2s,'ko', \n",
    "         markersize=3, linewidth = 4)\n",
    "plt.legend(['c1 * log(n)', 'c2 * sqrt(n)', 'Adjusted Revenue'])\n",
    "plt.title(title, fontsize = 24)\n",
    "xlab = plt.xlabel('Number of Bidders', fontsize=16)\n",
    "ylab = plt.ylabel('Adjusted Revenue', fontsize=16)\n",
    "xlab.set_color('black')\n",
    "ylab.set_color('black')"
   ]
  },
  {
   "cell_type": "code",
   "execution_count": 19,
   "metadata": {},
   "outputs": [
    {
     "name": "stdout",
     "output_type": "stream",
     "text": [
      "log fit: \n",
      "a = 11.404024815723893 \n",
      "b = -39.15893241863045 \n",
      "error = 12.950779857102976\n",
      "\n",
      "sqrt fit: \n",
      "a = 1.4455902320718472 \n",
      "b = 0.33854336284292835 \n",
      "error = 0.9931792072783143\n"
     ]
    }
   ],
   "source": [
    "# For fitting y = B + A log x, just fit y against (log x)\n",
    "# For fitting y = B + A sqrt n, just fit y against (sqrt x)\n",
    "# https://stackoverflow.com/questions/3433486/how-to-do-\n",
    "# exponential-and-logarithmic-curve-fitting-in-python-i-found-only-poly\n",
    "log_fit = np.polyfit(np.log(num_bidders), avg_vv2s, 1, full = True)\n",
    "sqrt_fit = np.polyfit(np.sqrt(num_bidders), avg_vv2s, 1, full = True)\n",
    "print('log fit: \\na =', log_fit[0][0], '\\nb =', log_fit[0][1], '\\nerror =', log_fit[1][0])\n",
    "print('\\nsqrt fit: \\na =', sqrt_fit[0][0], '\\nb =', sqrt_fit[0][1], '\\nerror =', sqrt_fit[1][0])"
   ]
  },
  {
   "cell_type": "code",
   "execution_count": null,
   "metadata": {},
   "outputs": [],
   "source": []
  },
  {
   "cell_type": "code",
   "execution_count": null,
   "metadata": {},
   "outputs": [],
   "source": []
  }
 ],
 "metadata": {
  "kernelspec": {
   "display_name": "Python 3",
   "language": "python",
   "name": "python3"
  },
  "language_info": {
   "codemirror_mode": {
    "name": "ipython",
    "version": 3
   },
   "file_extension": ".py",
   "mimetype": "text/x-python",
   "name": "python",
   "nbconvert_exporter": "python",
   "pygments_lexer": "ipython3",
   "version": "3.6.5"
  }
 },
 "nbformat": 4,
 "nbformat_minor": 4
}
