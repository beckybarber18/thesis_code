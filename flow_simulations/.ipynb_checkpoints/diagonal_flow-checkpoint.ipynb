{
 "cells": [
  {
   "cell_type": "code",
   "execution_count": 1,
   "metadata": {},
   "outputs": [],
   "source": [
    "#-----------------------------------------------------------------------\n",
    "# diagonal.py\n",
    "# Author: Rebecca Barber\n",
    "# \n",
    "# simulates the expected revenue given the flow discussed in meeting\n",
    "# on 2/11. see notes for more details\n",
    "#-----------------------------------------------------------------------\n",
    "\n",
    "import scipy.stats as st\n",
    "from statistics import *\n",
    "import matplotlib.pyplot as plt\n",
    "from sys import argv\n",
    "import numpy as np\n",
    "from math import *\n",
    "import pandas as pd\n",
    "from plotnine import *\n",
    "from random import * \n",
    "\n",
    "from IPython.core.interactiveshell import InteractiveShell\n",
    "InteractiveShell.ast_node_interactivity = \"all\""
   ]
  },
  {
   "cell_type": "markdown",
   "metadata": {},
   "source": [
    "# ER draws"
   ]
  },
  {
   "cell_type": "code",
   "execution_count": 2,
   "metadata": {},
   "outputs": [],
   "source": [
    "# draws value from ER curve\n",
    "def er_draw():\n",
    "\tq = random()\n",
    "\treturn 1/(1-q)\n",
    "\n",
    "# draws d values from the ER curve\n",
    "def draw_vals(d):\n",
    "\tvals = []\n",
    "\tfor i in range(d):\n",
    "\t\tdraw = er_draw()\n",
    "\t\tvals.append(draw)\n",
    "\treturn vals"
   ]
  },
  {
   "cell_type": "markdown",
   "metadata": {},
   "source": [
    "# Flow Simulation"
   ]
  },
  {
   "cell_type": "code",
   "execution_count": 20,
   "metadata": {},
   "outputs": [],
   "source": [
    "# simulates flow given n bidders and m items\n",
    "# essentially just arranging the n*m values and using\n",
    "# the given mechanism to \"star\" values\n",
    "def flow_sim(n, m, eps):\n",
    "\n",
    "\t# need to get n*m values\n",
    "    vals = draw_vals(n*m)\n",
    "    \n",
    "    # divide into 2 cols\n",
    "    col1 = vals[0:n]\n",
    "    col2 = vals[n:len(vals)]\n",
    "    assert len(col1) == len(col2), \"columns aren't the same size\"\n",
    "    \n",
    "    # get largest \"unstarred\" value in each column\n",
    "    # need to compute \\sum_j \\max_i {virt_val_ij} \n",
    "    # virt_val_ij = 0 if j is i's favorite item\n",
    "    # otherwise, = formula below\n",
    "    highest_virt_val_col1 = 0\n",
    "    highest_virt_val_col2 = 0\n",
    "    for i in range(len(col1)):\n",
    "        \n",
    "        val_col1 = col1[i]\n",
    "        val_col2 = col2[i]\n",
    "        \n",
    "        max_val = val_col1 if val_col1 > val_col2 else val_col2\n",
    "        other_val = val_col2 if val_col1 > val_col2 else val_col1\n",
    "        \n",
    "        # item 1 is the favorite item (max)\n",
    "        # item 2 is \"other\"\n",
    "        if val_col1 > val_col2:\n",
    "            virt_val_col1 = 0 \n",
    "            virt_val_col2 = (other_val*(max_val-other_val))/(max_val-eps*max_val*other_val)\n",
    "        # item 1 is \"other\"\n",
    "        # item 2 is the favorite item (max)\n",
    "        else: \n",
    "            virt_val_col2 = 0 \n",
    "            virt_val_col1 = (other_val*(max_val-other_val))/(max_val-eps*max_val*other_val)\n",
    "            \n",
    "        if virt_val_col1 > highest_virt_val_col1: \n",
    "            highest_virt_val_col1 = virt_val_col1\n",
    "        if virt_val_col2 > highest_virt_val_col2: \n",
    "            highest_virt_val_col2 = highest_virt_val_col2\n",
    "\n",
    "    return highest_virt_val_col2 + highest_virt_val_col2"
   ]
  },
  {
   "cell_type": "markdown",
   "metadata": {},
   "source": [
    "# Variable Updates"
   ]
  },
  {
   "cell_type": "code",
   "execution_count": 21,
   "metadata": {},
   "outputs": [
    {
     "name": "stdout",
     "output_type": "stream",
     "text": [
      "[100, 110, 120, 130, 140, 150, 160, 170, 180, 190, 200, 210, 220, 230, 240, 250, 260, 270, 280, 290, 300, 310, 320, 330, 340, 350, 360, 370, 380, 390, 400, 410, 420, 430, 440, 450, 460, 470, 480, 490, 500]\n"
     ]
    }
   ],
   "source": [
    "num_trials = 1 #100000\n",
    "min_bidders = 5\n",
    "max_bidders = 5\n",
    "bidder_step = 10\n",
    "num_items = 2\n",
    "eps = 1/1000000\n",
    "\n",
    "num_bidders = []\n",
    "for i in range(min_bidders, max_bidders+1, bidder_step):\n",
    "    num_bidders.append(i)\n",
    "print(num_bidders)"
   ]
  },
  {
   "cell_type": "markdown",
   "metadata": {},
   "source": [
    "# Main"
   ]
  },
  {
   "cell_type": "code",
   "execution_count": 22,
   "metadata": {},
   "outputs": [
    {
     "name": "stdout",
     "output_type": "stream",
     "text": [
      "number of bidders:   100   110   120   130   140   150   160   170   180   190   200   210   220   230   240   250   260   270   280   290   300   310   320   330   340   350   360   370   380   390   400   410   420   430   440   450   460   470   480   490   500"
     ]
    }
   ],
   "source": [
    "avg_revs = []\n",
    "\n",
    "print('number of bidders:', end = '')\n",
    "for n in range(min_bidders, max_bidders+1, bidder_step):\n",
    "    print('  ', n, end = '')\n",
    "\n",
    "    # run num_trials for each # of bidders so we can \n",
    "    # take the average\n",
    "    all_revs = []\n",
    "    for i in range(num_trials):\n",
    "        rev = flow_sim(n, num_items, eps)\n",
    "        all_revs.append(rev)        \n",
    "    avg_revs.append(mean(all_revs))\n",
    "\n",
    "# save all of the data\n",
    "csv_file = './data/diag_flow' + str(min_bidders) + 'to' + \\\n",
    "    str(max_bidders) + 'bidders_' + str(bidder_step) + 'step_' + \\\n",
    "    str(num_trials) + 'trials.csv'\n",
    "\n",
    "df = pd.DataFrame(columns=['num bidders', 'avg rev'])\n",
    "for i in range(len(num_bidders)):\n",
    "    n = num_bidders[i]\n",
    "    avg_rev = avg_revs[i]\n",
    "    df = df.append({'num bidders': n, 'avg rev': avg_rev}, ignore_index=True)\n",
    "\n",
    "df.to_csv(csv_file)"
   ]
  },
  {
   "cell_type": "markdown",
   "metadata": {},
   "source": [
    "# Plotting"
   ]
  },
  {
   "cell_type": "code",
   "execution_count": 23,
   "metadata": {},
   "outputs": [
    {
     "data": {
      "text/plain": [
       "<Figure size 648x360 with 0 Axes>"
      ]
     },
     "execution_count": 23,
     "metadata": {},
     "output_type": "execute_result"
    },
    {
     "data": {
      "text/plain": [
       "[<matplotlib.lines.Line2D at 0x1250103c8>,\n",
       " <matplotlib.lines.Line2D at 0x125157390>]"
      ]
     },
     "execution_count": 23,
     "metadata": {},
     "output_type": "execute_result"
    },
    {
     "data": {
      "text/plain": [
       "<matplotlib.legend.Legend at 0x1250e1208>"
      ]
     },
     "execution_count": 23,
     "metadata": {},
     "output_type": "execute_result"
    },
    {
     "data": {
      "image/png": "[encoded data removed]",
      "text/plain": [
       "<Figure size 648x360 with 1 Axes>"
      ]
     },
     "metadata": {},
     "output_type": "display_data"
    }
   ],
   "source": [
    "# plot the results\n",
    "sqrt_bench = [2.5*np.sqrt(n) for n in num_bidders]\n",
    "\n",
    "figure_name = './figures/2nd_price_evaluate_integral' + str(min_bidders) + 'to' + \\\n",
    "    str(max_bidders) + 'bidders.png'\n",
    "\n",
    "plt.style.use('ggplot')\n",
    "plt.figure(figsize=(9,5))\n",
    "with plt.rc_context({'axes.edgecolor':'black', 'xtick.color':'black', 'ytick.color':'black'}):\n",
    "    plt.plot(num_bidders, sqrt_bench, 'b-',\n",
    "         num_bidders, avg_revs,'ko', \n",
    "         markersize=3, linewidth = 4)\n",
    "plt.legend(['c * sqrt(n)', 'Adjusted Revenue'])\n",
    "xlab = plt.xlabel('Number of Bidders', fontsize=16)\n",
    "ylab = plt.ylabel('Adjusted Revenue', fontsize=16)\n",
    "xlab.set_color('black')\n",
    "ylab.set_color('black')"
   ]
  },
  {
   "cell_type": "code",
   "execution_count": 24,
   "metadata": {},
   "outputs": [
    {
     "ename": "NameError",
     "evalue": "name 'adj_revs' is not defined",
     "output_type": "error",
     "traceback": [
      "\u001b[0;31m---------------------------------------------------------------------------\u001b[0m",
      "\u001b[0;31mNameError\u001b[0m                                 Traceback (most recent call last)",
      "\u001b[0;32m<ipython-input-24-662f8f394a0b>\u001b[0m in \u001b[0;36m<module>\u001b[0;34m\u001b[0m\n\u001b[1;32m      3\u001b[0m \u001b[0;31m# https://stackoverflow.com/questions/3433486/how-to-do-\u001b[0m\u001b[0;34m\u001b[0m\u001b[0;34m\u001b[0m\u001b[0m\n\u001b[1;32m      4\u001b[0m \u001b[0;31m# exponential-and-logarithmic-curve-fitting-in-python-i-found-only-poly\u001b[0m\u001b[0;34m\u001b[0m\u001b[0;34m\u001b[0m\u001b[0m\n\u001b[0;32m----> 5\u001b[0;31m \u001b[0mlog_fit\u001b[0m \u001b[0;34m=\u001b[0m \u001b[0mnp\u001b[0m\u001b[0;34m.\u001b[0m\u001b[0mpolyfit\u001b[0m\u001b[0;34m(\u001b[0m\u001b[0mnp\u001b[0m\u001b[0;34m.\u001b[0m\u001b[0mlog\u001b[0m\u001b[0;34m(\u001b[0m\u001b[0mnum_bidders\u001b[0m\u001b[0;34m)\u001b[0m\u001b[0;34m,\u001b[0m \u001b[0madj_revs\u001b[0m\u001b[0;34m,\u001b[0m \u001b[0;36m1\u001b[0m\u001b[0;34m,\u001b[0m \u001b[0mfull\u001b[0m \u001b[0;34m=\u001b[0m \u001b[0;32mTrue\u001b[0m\u001b[0;34m)\u001b[0m\u001b[0;34m\u001b[0m\u001b[0m\n\u001b[0m\u001b[1;32m      6\u001b[0m \u001b[0msqrt_fit\u001b[0m \u001b[0;34m=\u001b[0m \u001b[0mnp\u001b[0m\u001b[0;34m.\u001b[0m\u001b[0mpolyfit\u001b[0m\u001b[0;34m(\u001b[0m\u001b[0mnp\u001b[0m\u001b[0;34m.\u001b[0m\u001b[0msqrt\u001b[0m\u001b[0;34m(\u001b[0m\u001b[0mnum_bidders\u001b[0m\u001b[0;34m)\u001b[0m\u001b[0;34m,\u001b[0m \u001b[0madj_revs\u001b[0m\u001b[0;34m,\u001b[0m \u001b[0;36m1\u001b[0m\u001b[0;34m,\u001b[0m \u001b[0mfull\u001b[0m \u001b[0;34m=\u001b[0m \u001b[0;32mTrue\u001b[0m\u001b[0;34m)\u001b[0m\u001b[0;34m\u001b[0m\u001b[0m\n\u001b[1;32m      7\u001b[0m \u001b[0mprint\u001b[0m\u001b[0;34m(\u001b[0m\u001b[0;34m'log fit: \\na ='\u001b[0m\u001b[0;34m,\u001b[0m \u001b[0mlog_fit\u001b[0m\u001b[0;34m[\u001b[0m\u001b[0;36m0\u001b[0m\u001b[0;34m]\u001b[0m\u001b[0;34m[\u001b[0m\u001b[0;36m0\u001b[0m\u001b[0;34m]\u001b[0m\u001b[0;34m,\u001b[0m \u001b[0;34m'\\nb ='\u001b[0m\u001b[0;34m,\u001b[0m \u001b[0mlog_fit\u001b[0m\u001b[0;34m[\u001b[0m\u001b[0;36m0\u001b[0m\u001b[0;34m]\u001b[0m\u001b[0;34m[\u001b[0m\u001b[0;36m1\u001b[0m\u001b[0;34m]\u001b[0m\u001b[0;34m,\u001b[0m \u001b[0;34m'\\nerror ='\u001b[0m\u001b[0;34m,\u001b[0m \u001b[0mlog_fit\u001b[0m\u001b[0;34m[\u001b[0m\u001b[0;36m1\u001b[0m\u001b[0;34m]\u001b[0m\u001b[0;34m[\u001b[0m\u001b[0;36m0\u001b[0m\u001b[0;34m]\u001b[0m\u001b[0;34m)\u001b[0m\u001b[0;34m\u001b[0m\u001b[0m\n",
      "\u001b[0;31mNameError\u001b[0m: name 'adj_revs' is not defined"
     ]
    }
   ],
   "source": [
    "# For fitting y = A + B log x, just fit y against (log x)\n",
    "# For fitting y = A + B sqrt n, just fit y against (sqrt x)\n",
    "# https://stackoverflow.com/questions/3433486/how-to-do-\n",
    "# exponential-and-logarithmic-curve-fitting-in-python-i-found-only-poly\n",
    "log_fit = np.polyfit(np.log(num_bidders), adj_revs, 1, full = True)\n",
    "sqrt_fit = np.polyfit(np.sqrt(num_bidders), adj_revs, 1, full = True)\n",
    "print('log fit: \\na =', log_fit[0][0], '\\nb =', log_fit[0][1], '\\nerror =', log_fit[1][0])\n",
    "print('\\nsqrt fit: \\na =', sqrt_fit[0][0], '\\nb =', sqrt_fit[0][1], '\\nerror =', sqrt_fit[1][0])"
   ]
  },
  {
   "cell_type": "code",
   "execution_count": null,
   "metadata": {},
   "outputs": [],
   "source": []
  }
 ],
 "metadata": {
  "kernelspec": {
   "display_name": "Python 3",
   "language": "python",
   "name": "python3"
  }
 },
 "nbformat": 4,
 "nbformat_minor": 4
}
