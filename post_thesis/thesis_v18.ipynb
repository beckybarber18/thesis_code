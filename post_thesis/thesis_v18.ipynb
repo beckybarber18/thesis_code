{
 "cells": [
  {
   "cell_type": "code",
   "execution_count": 6,
   "metadata": {},
   "outputs": [],
   "source": [
    "#-----------------------------------------------------------------------\n",
    "# piecewise_E[vv1+vv2].py\n",
    "# Author: modified from Rebecca Barber by Emily Ryu\n",
    "# \n",
    "# calculate the expected max virtual value of the favorite item +\n",
    "# max virtual value of the non-favorite item for n bidders. \n",
    "# relevant flow: the pure diagonal one in the continuous setting\n",
    "#-----------------------------------------------------------------------\n",
    "\n",
    "import scipy.stats as st\n",
    "from statistics import *\n",
    "import matplotlib.pyplot as plt\n",
    "from sys import argv\n",
    "import numpy as np\n",
    "from math import *\n",
    "import pandas as pd\n",
    "from plotnine import *\n",
    "from random import * \n",
    "\n",
    "from IPython.core.interactiveshell import InteractiveShell\n",
    "InteractiveShell.ast_node_interactivity = \"all\""
   ]
  },
  {
   "cell_type": "markdown",
   "metadata": {},
   "source": [
    "# ER draws"
   ]
  },
  {
   "cell_type": "code",
   "execution_count": 7,
   "metadata": {},
   "outputs": [],
   "source": [
    "# draw w and beta\n",
    "def draw_alpha_beta():\n",
    "    alpha = random()\n",
    "    beta = random() * 2\n",
    "    return alpha, beta"
   ]
  },
  {
   "cell_type": "markdown",
   "metadata": {},
   "source": [
    "# Flow Simulation"
   ]
  },
  {
   "cell_type": "code",
   "execution_count": 8,
   "metadata": {},
   "outputs": [],
   "source": [
    "def calc_vv_sum(n):\n",
    "    # calc vvs for each bidder\n",
    "    vv1s = []\n",
    "    vv2s = []\n",
    "    \n",
    "    for i in range(n):\n",
    "        alpha, beta = draw_alpha_beta()\n",
    "        \n",
    "        if beta < 1:\n",
    "            vv1 = -2 * (alpha - 2*beta + 1) / (beta * (2 - alpha * beta - beta)**2)\n",
    "            vv2 = 2 * (alpha + 2 * beta - 1) / (beta * (2 + alpha*beta - beta)**2)\n",
    "            # get rid of negative vv by setting equal to zero\n",
    "            if vv1 < 0:\n",
    "                vv1 = 0\n",
    "            if vv2 < 0:\n",
    "                vv2 = 0\n",
    "        else:   # vv1, vv2 always >= 0\n",
    "            vv1 = 2 / ((alpha - 1) * (beta - 2)**3)\n",
    "            vv2 = -2 / ((alpha + 1) * (beta - 2)**3)\n",
    "        \n",
    "        vv1s.append(vv1)\n",
    "        vv2s.append(vv2)\n",
    "    \n",
    "    return max(vv1s) + max(vv2s)"
   ]
  },
  {
   "cell_type": "markdown",
   "metadata": {},
   "source": [
    "# Variable Updates"
   ]
  },
  {
   "cell_type": "code",
   "execution_count": 9,
   "metadata": {},
   "outputs": [
    {
     "name": "stdout",
     "output_type": "stream",
     "text": [
      "[100, 110, 120, 130, 140, 150, 160, 170, 180, 190, 200, 210, 220, 230, 240, 250, 260, 270, 280, 290, 300, 310, 320, 330, 340, 350, 360, 370, 380, 390, 400, 410, 420, 430, 440, 450, 460, 470, 480, 490, 500]\n"
     ]
    }
   ],
   "source": [
    "num_trials = 1000 #100000\n",
    "min_bidders = 100\n",
    "max_bidders = 500\n",
    "bidder_step = 10\n",
    "\n",
    "num_bidders = []\n",
    "for i in range(min_bidders, max_bidders+1, bidder_step):\n",
    "    num_bidders.append(i)\n",
    "print(num_bidders)"
   ]
  },
  {
   "cell_type": "markdown",
   "metadata": {},
   "source": [
    "# Main"
   ]
  },
  {
   "cell_type": "code",
   "execution_count": 16,
   "metadata": {},
   "outputs": [
    {
     "name": "stdout",
     "output_type": "stream",
     "text": [
      "number of bidders:\n",
      "100: 12370169146569.629\n",
      "110: 3027325897613754.5\n",
      "120: 1378533241519.4119\n",
      "130: 5080358415022.71\n",
      "140: 23332984932200.316\n",
      "150: 1.8295980856859684e+16\n",
      "160: 706759201439.6144\n",
      "170: 8430482004149.53\n",
      "180: 742854102195.7817\n",
      "190: 13507809716716.178\n",
      "200: 364261780644.31525\n",
      "210: 3821683364300.2915\n",
      "220: 39907460495627.17\n",
      "230: 27490822376425.56\n",
      "240: 51572029719959.69\n",
      "250: 3758295734515.8975\n",
      "260: 310932901878297.3\n",
      "270: 4559352393064422.0\n",
      "280: 15762697268835.068\n",
      "290: 8.32826677139282e+16\n",
      "300: 99957010981933.05\n",
      "310: 81993808842578.73\n",
      "320: 6.380496430894869e+16\n",
      "330: 5784883771434584.0\n",
      "340: 5.439459096905714e+20\n",
      "350: 6302850717707069.0\n",
      "360: 903186958905176.5\n",
      "370: 3640234750741700.0\n",
      "380: 125675430880446.78\n",
      "390: 113899600149799.6\n",
      "400: 838604972401933.0\n",
      "410: 959538378948840.4\n",
      "420: 97147211496122.12\n",
      "430: 174939883000426.4\n",
      "440: 906318342394938.5\n",
      "450: 20307213124667.188\n",
      "460: 13701211803505.463\n",
      "470: 1181228881931335.8\n",
      "480: 633905579776602.9\n",
      "490: 879862055595096.2\n",
      "500: 399212099251039.0\n"
     ]
    }
   ],
   "source": [
    "avg_vv_sums = []\n",
    "\n",
    "print('number of bidders:')\n",
    "for n in range(min_bidders, max_bidders+1, bidder_step):\n",
    "    print(n, end = \"\")\n",
    "\n",
    "    # run num_trials for each # of bidders so we can \n",
    "    # take the average\n",
    "    all_vv_sums = []\n",
    "    for i in range(num_trials):\n",
    "        vv_sum = calc_vv_sum(n)\n",
    "        all_vv_sums.append(vv_sum)  \n",
    "    mean_vv_sum = mean(all_vv_sums)\n",
    "    avg_vv_sums.append(mean_vv_sum)\n",
    "    print(':', mean_vv_sum)\n",
    "\n",
    "# save all of the data\n",
    "csv_file = './data/piecewise_E[vv1+vv2]_' + str(min_bidders) + 'to' + \\\n",
    "    str(max_bidders) + 'bidders_' + str(bidder_step) + 'step_' + \\\n",
    "    str(num_trials) + 'trials.csv'\n",
    "\n",
    "df = pd.DataFrame(columns=['num bidders', 'avg (vv_1 + vv2)'])\n",
    "for i in range(len(num_bidders)):\n",
    "    n = num_bidders[i]\n",
    "    avg_vv_sum = avg_vv_sums[i]\n",
    "    df = df.append({'num bidders': n, 'avg (vv_1 + vv2)': avg_vv_sum}, ignore_index=True)\n",
    "\n",
    "df.to_csv(csv_file)"
   ]
  },
  {
   "cell_type": "markdown",
   "metadata": {},
   "source": [
    "# Plotting"
   ]
  },
  {
   "cell_type": "code",
   "execution_count": 11,
   "metadata": {},
   "outputs": [
    {
     "data": {
      "text/plain": [
       "<Figure size 648x360 with 0 Axes>"
      ]
     },
     "execution_count": 11,
     "metadata": {},
     "output_type": "execute_result"
    },
    {
     "data": {
      "text/plain": [
       "[<matplotlib.lines.Line2D at 0x1d138d61d48>,\n",
       " <matplotlib.lines.Line2D at 0x1d138d68e88>,\n",
       " <matplotlib.lines.Line2D at 0x1d138d76088>]"
      ]
     },
     "execution_count": 11,
     "metadata": {},
     "output_type": "execute_result"
    },
    {
     "data": {
      "text/plain": [
       "<matplotlib.legend.Legend at 0x1d138d616c8>"
      ]
     },
     "execution_count": 11,
     "metadata": {},
     "output_type": "execute_result"
    },
    {
     "data": {
      "image/png": "[encoded data removed]",
      "text/plain": [
       "<Figure size 648x360 with 1 Axes>"
      ]
     },
     "metadata": {},
     "output_type": "display_data"
    }
   ],
   "source": [
    "# plot the results\n",
    "log_bench = [3.2*np.log(n) for n in num_bidders]\n",
    "sqrt_bench = [1.5*np.sqrt(n) for n in num_bidders]\n",
    "\n",
    "figure_name = './figures/piecewise_E[vv1+vv2]_' + str(min_bidders) + 'to' + \\\n",
    "    str(max_bidders) + 'bidders_' + str(bidder_step) + 'step_' + \\\n",
    "    str(num_trials) + 'trials.png'\n",
    "\n",
    "plt.style.use('ggplot')\n",
    "plt.figure(figsize=(9,5))\n",
    "with plt.rc_context({'axes.edgecolor':'black', 'xtick.color':'black', 'ytick.color':'black'}):\n",
    "    plt.plot(num_bidders, log_bench, 'r-',\n",
    "        num_bidders, sqrt_bench, 'b-',\n",
    "         num_bidders, avg_vv_sums,'ko', \n",
    "         markersize=3, linewidth = 4)\n",
    "plt.legend(['c * log(n)', 'c * sqrt(n)', 'Avg (VV1 + VV2)'])\n",
    "xlab = plt.xlabel('Number of Bidders', fontsize=16)\n",
    "ylab = plt.ylabel('Average [Max VV1 + Max VV1]', fontsize=16)\n",
    "xlab.set_color('black')\n",
    "ylab.set_color('black')"
   ]
  },
  {
   "cell_type": "code",
   "execution_count": 12,
   "metadata": {},
   "outputs": [
    {
     "name": "stdout",
     "output_type": "stream",
     "text": [
      "log fit: \n",
      "a = 1.2336206882424898e+17 \n",
      "b = -6.170188078493724e+17 \n",
      "error = 6.645373324301519e+36\n",
      "\n",
      "sqrt fit: \n",
      "a = 1.5537634916881536e+16 \n",
      "b = -1.8806492280377238e+17 \n",
      "error = 6.645606586457081e+36\n"
     ]
    }
   ],
   "source": [
    "# For fitting y = B + A log x, just fit y against (log x)\n",
    "# For fitting y = B + A sqrt n, just fit y against (sqrt x)\n",
    "# https://stackoverflow.com/questions/3433486/how-to-do-\n",
    "# exponential-and-logarithmic-curve-fitting-in-python-i-found-only-poly\n",
    "log_fit = np.polyfit(np.log(num_bidders), avg_vv_sums, 1, full = True)\n",
    "sqrt_fit = np.polyfit(np.sqrt(num_bidders), avg_vv_sums, 1, full = True)\n",
    "print('log fit: \\na =', log_fit[0][0], '\\nb =', log_fit[0][1], '\\nerror =', log_fit[1][0])\n",
    "print('\\nsqrt fit: \\na =', sqrt_fit[0][0], '\\nb =', sqrt_fit[0][1], '\\nerror =', sqrt_fit[1][0])"
   ]
  },
  {
   "cell_type": "code",
   "execution_count": null,
   "metadata": {},
   "outputs": [],
   "source": []
  },
  {
   "cell_type": "code",
   "execution_count": null,
   "metadata": {},
   "outputs": [],
   "source": []
  },
  {
   "cell_type": "code",
   "execution_count": null,
   "metadata": {},
   "outputs": [],
   "source": []
  }
 ],
 "metadata": {
  "kernelspec": {
   "display_name": "Python 3",
   "language": "python",
   "name": "python3"
  },
  "language_info": {
   "codemirror_mode": {
    "name": "ipython",
    "version": 3
   },
   "file_extension": ".py",
   "mimetype": "text/x-python",
   "name": "python",
   "nbconvert_exporter": "python",
   "pygments_lexer": "ipython3",
   "version": "3.7.6"
  }
 },
 "nbformat": 4,
 "nbformat_minor": 4
}
