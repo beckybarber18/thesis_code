{
 "cells": [
  {
   "cell_type": "code",
   "execution_count": 235,
   "metadata": {},
   "outputs": [],
   "source": [
    "#-----------------------------------------------------------------------\n",
    "# cont_flow_analyzer_given_variables.py\n",
    "# Author: Rebecca Barber\n",
    "# \n",
    "#-----------------------------------------------------------------------\n",
    "\n",
    "import scipy.stats as st\n",
    "from statistics import *\n",
    "import matplotlib.pyplot as plt\n",
    "from sys import argv\n",
    "import numpy as np\n",
    "from math import *\n",
    "import pandas as pd\n",
    "from plotnine import *\n",
    "from random import * \n",
    "from sympy import *\n",
    "\n",
    "from IPython.core.interactiveshell import InteractiveShell\n",
    "InteractiveShell.ast_node_interactivity = \"all\""
   ]
  },
  {
   "cell_type": "markdown",
   "metadata": {},
   "source": [
    "# The next block is just like a sandbox"
   ]
  },
  {
   "cell_type": "code",
   "execution_count": 263,
   "metadata": {},
   "outputs": [
    {
     "data": {
      "text/latex": [
       "$\\displaystyle - \\frac{1}{2 \\beta}$"
      ],
      "text/plain": [
       "-1/(2*beta)"
      ]
     },
     "execution_count": 263,
     "metadata": {},
     "output_type": "execute_result"
    },
    {
     "data": {
      "text/latex": [
       "$\\displaystyle \\frac{\\left(\\alpha - 2\\right) \\left(- \\alpha \\left(\\alpha - 2\\right)^{2} \\left(\\beta^{2} - 1\\right) + 2 \\beta \\left(\\alpha^{2} - 4 \\alpha + 4\\right) \\left(\\alpha \\beta + \\alpha - 2\\right)\\right)}{2 \\beta \\left(\\alpha^{2} - 4 \\alpha + 4\\right) \\left(\\alpha \\beta + \\alpha - 2\\right)^{2}}$"
      ],
      "text/plain": [
       "(alpha - 2)*(-alpha*(alpha - 2)**2*(beta**2 - 1) + 2*beta*(alpha**2 - 4*alpha + 4)*(alpha*beta + alpha - 2))/(2*beta*(alpha**2 - 4*alpha + 4)*(alpha*beta + alpha - 2)**2)"
      ]
     },
     "execution_count": 263,
     "metadata": {},
     "output_type": "execute_result"
    }
   ],
   "source": [
    "q1 = beta\n",
    "q2 = (alpha*beta) / (2-alpha)\n",
    "# q2 = (2*alpha - alpha*beta - 2 + 2 * beta) / alpha\n",
    "\n",
    "dq1_da = q1.diff(alpha)\n",
    "dq2_da = q2.diff(alpha)\n",
    "dq1_db = q1.diff(beta)\n",
    "dq2_db = q2.diff(beta)\n",
    "    \n",
    "    \n",
    "    # find function for h(alpha, beta) = PDF wrt alpha and beta\n",
    "h = dq1_da * dq2_db - dq2_da * dq1_db\n",
    "\n",
    "    # need to make sure that h is positive. to do so, evaluate h at (alpha, beta) = (1/2, 1/2)\n",
    "test = h.subs(alpha, .5).subs(beta, .5)\n",
    "if test <= 0: h = -h\n",
    "\n",
    "\n",
    "    # define the derivative of lambda = -h\n",
    "dlambda_db = -h\n",
    "\n",
    "    # find lambda (minus the constant) given the derivative\n",
    "lambda_minus_c = integrate(dlambda_db, beta)\n",
    "\n",
    "    # find value for the constant\n",
    "    # let's assume for now that alpha and beta are both drawn uniformly from 0 to 1\n",
    "\n",
    "    # we want lambda(beta = 1) to be weakly negative \n",
    "    # really, we want lambda(beta = 1) = 0 because we want c to be as big as possible.\n",
    "    # so lambda_minus_c(beta = 1) + c = 0 ==> c = -lambda_minus_c(beta = 1).\n",
    "\n",
    "    # note that we also need lambda(beta = 0) to be weakly positive, but that gives us a lower bound\n",
    "    # on c, which we don't really care about \n",
    "c = - lambda_minus_c.subs(beta, 1)\n",
    "\n",
    "lamb = lambda_minus_c + c\n",
    "\n",
    "\n",
    "    # now, we can compute the virtual values\n",
    "vv1_part1 = 1/(1-q1)\n",
    "vv1_part2 = (dq1_db * lamb)/(h * (1-q1)**2)\n",
    "vv1 = simplify(vv1_part1 - vv1_part2)\n",
    "\n",
    "\n",
    "vv2_part1 = 1/(1-q2)\n",
    "vv2_part2 = (dq2_db * lamb)/(h * (1-q2)**2)\n",
    "vv2 = simplify(vv2_part1 - vv2_part2)\n",
    "\n",
    "vv1\n",
    "vv2"
   ]
  },
  {
   "cell_type": "markdown",
   "metadata": {},
   "source": [
    "# Calculate virtual value functions given quantile functions"
   ]
  },
  {
   "cell_type": "code",
   "execution_count": 255,
   "metadata": {},
   "outputs": [],
   "source": [
    "def get_vv_functions(q1, q2):\n",
    "    # take derivatives of alpha, beta with respect to q1 and q2\n",
    "    dq1_da = q1.diff(alpha)\n",
    "    dq2_da = q2.diff(alpha)\n",
    "    dq1_db = q1.diff(beta)\n",
    "    dq2_db = q2.diff(beta)\n",
    "    \n",
    "    print('dq1_da:', dq1_da)\n",
    "    print('dq2_da:', dq2_da)\n",
    "    print('dq1_db:', dq1_db)\n",
    "    print('dq2_db:', dq2_db)\n",
    "    \n",
    "    # find function for h(alpha, beta) = PDF wrt alpha and beta\n",
    "    h = dq1_da * dq2_db - dq2_da * dq1_db\n",
    "\n",
    "    # need to make sure that h is positive. to do so, evaluate h at (alpha, beta) = (1/2, 1/2)\n",
    "    test = h.subs(alpha, .5).subs(beta, .5)\n",
    "    if test <= 0: h = -h\n",
    "    \n",
    "    print('h:', simplify(h))\n",
    "\n",
    "    # define the derivative of lambda = -h\n",
    "    dlambda_db = -h\n",
    "\n",
    "    # find lambda (minus the constant) given the derivative\n",
    "    lambda_minus_c = integrate(dlambda_db, beta)\n",
    "\n",
    "    # find value for the constant\n",
    "    # let's assume for now that alpha and beta are both drawn uniformly from 0 to 1\n",
    "\n",
    "    # we want lambda(beta = 1) to be weakly negative \n",
    "    # really, we want lambda(beta = 1) = 0 because we want c to be as big as possible.\n",
    "    # so lambda_minus_c(beta = 1) + c = 0 ==> c = -lambda_minus_c(beta = 1).\n",
    "\n",
    "    # note that we also need lambda(beta = 0) to be weakly positive, but that gives us a lower bound\n",
    "    # on c, which we don't really care about \n",
    "    c = - lambda_minus_c.subs(beta, 1)\n",
    "    print('c:', simplify(c))\n",
    "    lamb = lambda_minus_c + c\n",
    "    print('lambda:', simplify(lamb))\n",
    "\n",
    "    # now, we can compute the virtual values\n",
    "    vv1_part1 = 1/(1-q1)\n",
    "    vv1_part2 = (dq1_db * lamb)/(h * (1-q1)**2)\n",
    "    vv1 = simplify(vv1_part1 - vv1_part2)\n",
    "    print('vv1:', vv1)\n",
    "\n",
    "    vv2_part1 = 1/(1-q2)\n",
    "    vv2_part2 = (dq2_db * lamb)/(h * (1-q2)**2)\n",
    "    vv2 = simplify(vv2_part1 - vv2_part2)\n",
    "    print('vv2:', vv2)\n",
    "    # there is a typo for vv2 in thesis :( for (0,0) flow\n",
    "\n",
    "    return vv1, vv2"
   ]
  },
  {
   "cell_type": "code",
   "execution_count": 258,
   "metadata": {},
   "outputs": [
    {
     "name": "stdout",
     "output_type": "stream",
     "text": [
      "dq1_da: 0\n",
      "dq2_da: (2 - beta)/alpha - (-alpha*beta + 2*alpha + 2*beta - 2)/alpha**2\n",
      "dq1_db: 1\n",
      "dq2_db: (2 - alpha)/alpha\n",
      "h: (2 - 2*beta)/alpha**2\n",
      "c: alpha**(-2)\n",
      "lambda: (beta**2 - 2*beta + 1)/alpha**2\n",
      "vv1: -1/(2*beta - 2)\n",
      "vv2: alpha/(2*(alpha*beta - alpha - 2*beta + 2))\n"
     ]
    },
    {
     "data": {
      "text/plain": [
       "(-1/(2*beta - 2), alpha/(2*(alpha*beta - alpha - 2*beta + 2)))"
      ]
     },
     "execution_count": 258,
     "metadata": {},
     "output_type": "execute_result"
    }
   ],
   "source": [
    "# define alpha and beta\n",
    "alpha, beta = symbols('alpha beta')\n",
    "\n",
    "q1 = beta\n",
    "# q2 = (alpha*beta) / (2-alpha)\n",
    "q2 = (2*alpha - alpha*beta - 2 + 2 * beta) / alpha\n",
    " \n",
    "get_vv_functions(q1, q2)"
   ]
  },
  {
   "cell_type": "markdown",
   "metadata": {},
   "source": [
    "# ER draws\n"
   ]
  },
  {
   "cell_type": "code",
   "execution_count": 136,
   "metadata": {},
   "outputs": [],
   "source": [
    "def draw_alpha_beta():\n",
    "    alpha = random()\n",
    "    beta = random()\n",
    "    return alpha, beta"
   ]
  },
  {
   "cell_type": "markdown",
   "metadata": {},
   "source": [
    "# Flow Simulation\n"
   ]
  },
  {
   "cell_type": "code",
   "execution_count": 229,
   "metadata": {},
   "outputs": [],
   "source": [
    "# simulates flow given n bidders and m items\n",
    "# essentially just arranging the n*m values and using\n",
    "# the given mechanism to \"star\" values\n",
    "def calc_vvs(n, vv1, vv2):\n",
    "    # calc vvs for each bidder\n",
    "    all_vv1s = []\n",
    "    all_vv2s = []\n",
    "    \n",
    "    for i in range(n):\n",
    "        alpha, beta = draw_alpha_beta()\n",
    "        \n",
    "        # substitution is too slow I think\n",
    "        vv1_val = vv1(alpha, beta)\n",
    "        vv2_val = vv2(alpha, beta)\n",
    "#         vv1_val = vv1.subs(alpha, x).subs(beta, y)\n",
    "#         vv2_val = vv2.subs(alpha, x).subs(beta, y)\n",
    "\n",
    "        all_vv1s.append(vv1_val)\n",
    "        all_vv2s.append(vv2_val)\n",
    "    \n",
    "    max_vv1 = max(max(all_vv1s),0)\n",
    "    max_vv2 = max(max(all_vv2s),0)\n",
    "    return max_vv1 + max_vv2"
   ]
  },
  {
   "cell_type": "markdown",
   "metadata": {},
   "source": [
    "# Variable Updates"
   ]
  },
  {
   "cell_type": "code",
   "execution_count": 230,
   "metadata": {},
   "outputs": [
    {
     "name": "stdout",
     "output_type": "stream",
     "text": [
      "[100, 120, 140, 160, 180, 200, 220, 240, 260, 280, 300, 320, 340, 360, 380, 400, 420, 440, 460, 480, 500]\n"
     ]
    }
   ],
   "source": [
    "num_trials = 10000 # 100000\n",
    "min_bidders = 100\n",
    "max_bidders = 500\n",
    "bidder_step = 20\n",
    "\n",
    "num_bidders = []\n",
    "for i in range(min_bidders, max_bidders+1, bidder_step):\n",
    "    num_bidders.append(i)\n",
    "print(num_bidders)"
   ]
  },
  {
   "cell_type": "code",
   "execution_count": 231,
   "metadata": {},
   "outputs": [],
   "source": [
    "# define alpha and beta\n",
    "alpha, beta = symbols('alpha beta')\n",
    "\n",
    "# define the functions for alpha and beta\n",
    "\n",
    "# # from the (0,0) flow\n",
    "# q1 = beta\n",
    "# q2 = alpha*beta\n",
    "\n",
    "# from the pure diag flow\n",
    "# q1 = alpha + beta - alpha*beta\n",
    "# q2 = beta * (1-alpha)\n",
    "\n",
    "# from (1,1) flow\n",
    "q1 = alpha+beta * (1-alpha)\n",
    "q2 = beta"
   ]
  },
  {
   "cell_type": "markdown",
   "metadata": {},
   "source": [
    "# Main\n"
   ]
  },
  {
   "cell_type": "code",
   "execution_count": 232,
   "metadata": {},
   "outputs": [
    {
     "name": "stdout",
     "output_type": "stream",
     "text": [
      "number of bidders:\n",
      "100: 9488.382662403152\n",
      "120: 18895.102607888177\n",
      "140"
     ]
    },
    {
     "ename": "KeyboardInterrupt",
     "evalue": "",
     "output_type": "error",
     "traceback": [
      "\u001b[0;31m---------------------------------------------------------------------------\u001b[0m",
      "\u001b[0;31mKeyboardInterrupt\u001b[0m                         Traceback (most recent call last)",
      "\u001b[0;32m<ipython-input-232-08d5a5926e3a>\u001b[0m in \u001b[0;36m<module>\u001b[0;34m\u001b[0m\n\u001b[1;32m     12\u001b[0m     \u001b[0mall_revs\u001b[0m \u001b[0;34m=\u001b[0m \u001b[0;34m[\u001b[0m\u001b[0;34m]\u001b[0m\u001b[0;34m\u001b[0m\u001b[0m\n\u001b[1;32m     13\u001b[0m     \u001b[0;32mfor\u001b[0m \u001b[0mi\u001b[0m \u001b[0;32min\u001b[0m \u001b[0mrange\u001b[0m\u001b[0;34m(\u001b[0m\u001b[0mnum_trials\u001b[0m\u001b[0;34m)\u001b[0m\u001b[0;34m:\u001b[0m\u001b[0;34m\u001b[0m\u001b[0m\n\u001b[0;32m---> 14\u001b[0;31m         \u001b[0mmax_rev\u001b[0m \u001b[0;34m=\u001b[0m \u001b[0mcalc_vvs\u001b[0m\u001b[0;34m(\u001b[0m\u001b[0mn\u001b[0m\u001b[0;34m,\u001b[0m \u001b[0mvv1_numpy\u001b[0m\u001b[0;34m,\u001b[0m \u001b[0mvv2_numpy\u001b[0m\u001b[0;34m)\u001b[0m\u001b[0;34m\u001b[0m\u001b[0m\n\u001b[0m\u001b[1;32m     15\u001b[0m         \u001b[0mall_revs\u001b[0m\u001b[0;34m.\u001b[0m\u001b[0mappend\u001b[0m\u001b[0;34m(\u001b[0m\u001b[0mmax_rev\u001b[0m\u001b[0;34m)\u001b[0m\u001b[0;34m\u001b[0m\u001b[0m\n\u001b[1;32m     16\u001b[0m     \u001b[0mmean_rev\u001b[0m \u001b[0;34m=\u001b[0m \u001b[0mmean\u001b[0m\u001b[0;34m(\u001b[0m\u001b[0mall_revs\u001b[0m\u001b[0;34m)\u001b[0m\u001b[0;34m\u001b[0m\u001b[0m\n",
      "\u001b[0;32m<ipython-input-229-26daef96fb6c>\u001b[0m in \u001b[0;36mcalc_vvs\u001b[0;34m(n, vv1, vv2)\u001b[0m\n\u001b[1;32m     11\u001b[0m \u001b[0;34m\u001b[0m\u001b[0m\n\u001b[1;32m     12\u001b[0m         \u001b[0;31m# substitution is too slow I think\u001b[0m\u001b[0;34m\u001b[0m\u001b[0;34m\u001b[0m\u001b[0m\n\u001b[0;32m---> 13\u001b[0;31m         \u001b[0mvv1_val\u001b[0m \u001b[0;34m=\u001b[0m \u001b[0mvv1\u001b[0m\u001b[0;34m(\u001b[0m\u001b[0malpha\u001b[0m\u001b[0;34m,\u001b[0m \u001b[0mbeta\u001b[0m\u001b[0;34m)\u001b[0m\u001b[0;34m\u001b[0m\u001b[0m\n\u001b[0m\u001b[1;32m     14\u001b[0m         \u001b[0mvv2_val\u001b[0m \u001b[0;34m=\u001b[0m \u001b[0mvv2\u001b[0m\u001b[0;34m(\u001b[0m\u001b[0malpha\u001b[0m\u001b[0;34m,\u001b[0m \u001b[0mbeta\u001b[0m\u001b[0;34m)\u001b[0m\u001b[0;34m\u001b[0m\u001b[0m\n\u001b[1;32m     15\u001b[0m \u001b[0;31m#         vv1_val = vv1.subs(alpha, x).subs(beta, y)\u001b[0m\u001b[0;34m\u001b[0m\u001b[0;34m\u001b[0m\u001b[0m\n",
      "\u001b[0;32m<lambdifygenerated-54>\u001b[0m in \u001b[0;36m_lambdifygenerated\u001b[0;34m(alpha, beta)\u001b[0m\n\u001b[1;32m      1\u001b[0m \u001b[0;32mdef\u001b[0m \u001b[0m_lambdifygenerated\u001b[0m\u001b[0;34m(\u001b[0m\u001b[0malpha\u001b[0m\u001b[0;34m,\u001b[0m \u001b[0mbeta\u001b[0m\u001b[0;34m)\u001b[0m\u001b[0;34m:\u001b[0m\u001b[0;34m\u001b[0m\u001b[0m\n\u001b[0;32m----> 2\u001b[0;31m     \u001b[0;32mreturn\u001b[0m \u001b[0;34m(\u001b[0m\u001b[0;34m(\u001b[0m\u001b[0;36m1\u001b[0m\u001b[0;34m/\u001b[0m\u001b[0;36m2\u001b[0m\u001b[0;34m)\u001b[0m\u001b[0;34m/\u001b[0m\u001b[0;34m(\u001b[0m\u001b[0malpha\u001b[0m\u001b[0;34m*\u001b[0m\u001b[0mbeta\u001b[0m \u001b[0;34m-\u001b[0m \u001b[0malpha\u001b[0m \u001b[0;34m-\u001b[0m \u001b[0mbeta\u001b[0m \u001b[0;34m+\u001b[0m \u001b[0;36m1\u001b[0m\u001b[0;34m)\u001b[0m\u001b[0;34m)\u001b[0m\u001b[0;34m\u001b[0m\u001b[0m\n\u001b[0m",
      "\u001b[0;31mKeyboardInterrupt\u001b[0m: "
     ]
    }
   ],
   "source": [
    "avg_revs = []\n",
    "vv1, vv2 = get_vv_functions(q1, q2)\n",
    "vv1_numpy = lambdify([alpha,beta], vv1, \"numpy\")\n",
    "vv2_numpy = lambdify([alpha,beta], vv2, \"numpy\")\n",
    "\n",
    "print('number of bidders:')\n",
    "for n in range(min_bidders, max_bidders+1, bidder_step):\n",
    "    print(n, end = \"\")\n",
    "\n",
    "    # run num_trials for each # of bidders so we can \n",
    "    # take the average\n",
    "    all_revs = []\n",
    "    for i in range(num_trials):\n",
    "        max_rev = calc_vvs(n, vv1_numpy, vv2_numpy)\n",
    "        all_revs.append(max_rev)  \n",
    "    mean_rev = mean(all_revs)\n",
    "    avg_revs.append(mean_rev)\n",
    "    print(':', mean_rev)\n",
    "\n",
    "# save all of the data\n",
    "csv_file = './data/cont_flow_analyzer_given_variables_' + str(min_bidders) + 'to' + \\\n",
    "    str(max_bidders) + 'bidders_' + str(bidder_step) + 'step_' + \\\n",
    "    str(num_trials) + 'trials.csv'\n",
    "\n",
    "df = pd.DataFrame(columns=['num bidders', 'avg adj rev'])\n",
    "for i in range(len(num_bidders)):\n",
    "    n = num_bidders[i]\n",
    "    avg_rev = avg_revs[i]\n",
    "    df = df.append({'num bidders': n, 'avg adj rev': avg_rev}, ignore_index=True)\n",
    "\n",
    "df.to_csv(csv_file)"
   ]
  },
  {
   "cell_type": "code",
   "execution_count": null,
   "metadata": {},
   "outputs": [],
   "source": [
    "# plot the results\n",
    "title = 'Fllloooowww'\n",
    "log_bench = [1.6*np.log(n) for n in num_bidders]\n",
    "sqrt_bench = [.75*np.sqrt(n) for n in num_bidders]\n",
    "\n",
    "plt1 = plt.style.use('ggplot')\n",
    "plt.figure(figsize=(9,5))\n",
    "with plt.rc_context({'axes.edgecolor':'black', 'xtick.color':'black', 'ytick.color':'black'}):\n",
    "    plt.plot(num_bidders, log_bench, 'r-',\n",
    "        num_bidders, sqrt_bench, 'b-',\n",
    "         num_bidders, avg_revs,'ko', \n",
    "         markersize=3, linewidth = 4)\n",
    "plt.legend(['c1 * log(n)', 'c2 * sqrt(n)', 'Adjusted Revenue'])\n",
    "plt.title(title, fontsize = 24)\n",
    "xlab = plt.xlabel('Number of Bidders', fontsize=16)\n",
    "ylab = plt.ylabel('Adjusted Revenue', fontsize=16)\n",
    "xlab.set_color('black')\n",
    "ylab.set_color('black')"
   ]
  },
  {
   "cell_type": "code",
   "execution_count": 226,
   "metadata": {},
   "outputs": [
    {
     "name": "stdout",
     "output_type": "stream",
     "text": [
      "log fit: \n",
      "a = 5.638789501091301 \n",
      "b = -19.089518807244072 \n",
      "error = 1.963922360938208\n",
      "\n",
      "sqrt fit: \n",
      "a = 0.7169062838218871 \n",
      "b = 0.3887196751882327 \n",
      "error = 0.9579898392862098\n"
     ]
    }
   ],
   "source": [
    "# For fitting y = B + A log x, just fit y against (log x)\n",
    "# For fitting y = B + A sqrt n, just fit y against (sqrt x)\n",
    "# https://stackoverflow.com/questions/3433486/how-to-do-\n",
    "# exponential-and-logarithmic-curve-fitting-in-python-i-found-only-poly\n",
    "log_fit = np.polyfit(np.log(num_bidders), avg_revs, 1, full = True)\n",
    "sqrt_fit = np.polyfit(np.sqrt(num_bidders), avg_revs, 1, full = True)\n",
    "print('log fit: \\na =', log_fit[0][0], '\\nb =', log_fit[0][1], '\\nerror =', log_fit[1][0])\n",
    "print('\\nsqrt fit: \\na =', sqrt_fit[0][0], '\\nb =', sqrt_fit[0][1], '\\nerror =', sqrt_fit[1][0])"
   ]
  },
  {
   "cell_type": "code",
   "execution_count": null,
   "metadata": {},
   "outputs": [],
   "source": []
  }
 ],
 "metadata": {
  "kernelspec": {
   "display_name": "Python 3",
   "language": "python",
   "name": "python3"
  },
  "language_info": {
   "codemirror_mode": {
    "name": "ipython",
    "version": 3
   },
   "file_extension": ".py",
   "mimetype": "text/x-python",
   "name": "python",
   "nbconvert_exporter": "python",
   "pygments_lexer": "ipython3",
   "version": "3.6.5"
  }
 },
 "nbformat": 4,
 "nbformat_minor": 4
}
